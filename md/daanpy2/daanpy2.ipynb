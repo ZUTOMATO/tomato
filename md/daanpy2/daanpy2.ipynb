{
 "cells": [
  {
   "cell_type": "code",
   "execution_count": 2,
   "id": "ec19d9b7",
   "metadata": {},
   "outputs": [],
   "source": [
    "import pandas as pd\n",
    "import numpy as np"
   ]
  },
  {
   "cell_type": "markdown",
   "id": "a2936924",
   "metadata": {},
   "source": [
    "## 处理缺失值"
   ]
  },
  {
   "cell_type": "code",
   "execution_count": 3,
   "id": "39eb158e",
   "metadata": {},
   "outputs": [
    {
     "name": "stdout",
     "output_type": "stream",
     "text": [
      "0     aardvark\n",
      "1    artichoke\n",
      "2          NaN\n",
      "3      avocado\n",
      "dtype: object\n",
      "0    False\n",
      "1    False\n",
      "2     True\n",
      "3    False\n",
      "dtype: bool\n",
      "0     True\n",
      "1    False\n",
      "2     True\n",
      "3    False\n",
      "dtype: bool\n"
     ]
    }
   ],
   "source": [
    "string_data = pd.Series(['aardvark', 'artichoke', np.nan, 'avocado'])\n",
    "print(string_data)\n",
    "print(string_data.isnull())\n",
    "string_data[0] = None\n",
    "print(string_data.isnull())"
   ]
  },
  {
   "cell_type": "markdown",
   "id": "8faedb91",
   "metadata": {},
   "source": [
    "### 过滤缺失值"
   ]
  },
  {
   "cell_type": "code",
   "execution_count": 4,
   "id": "07cf296e",
   "metadata": {},
   "outputs": [
    {
     "name": "stdout",
     "output_type": "stream",
     "text": [
      "0    1.0\n",
      "1    NaN\n",
      "2    3.5\n",
      "3    NaN\n",
      "4    7.0\n",
      "dtype: float64\n",
      "0    1.0\n",
      "2    3.5\n",
      "4    7.0\n",
      "dtype: float64\n",
      "0    1.0\n",
      "2    3.5\n",
      "4    7.0\n",
      "dtype: float64\n"
     ]
    }
   ],
   "source": [
    "from numpy import nan as NA\n",
    "data = pd.Series([1, NA, 3.5, NA, 7])\n",
    "print(data)\n",
    "print(data.dropna())\n",
    "print(data[data.notnull()])"
   ]
  },
  {
   "cell_type": "code",
   "execution_count": 5,
   "id": "306390bd",
   "metadata": {},
   "outputs": [
    {
     "name": "stdout",
     "output_type": "stream",
     "text": [
      "     0    1    2\n",
      "0  1.0  6.5  3.0\n",
      "1  1.0  NaN  NaN\n",
      "2  NaN  NaN  NaN\n",
      "3  NaN  6.5  3.0\n",
      "     0    1    2\n",
      "0  1.0  6.5  3.0\n",
      "     0    1    2\n",
      "0  1.0  6.5  3.0\n",
      "1  1.0  NaN  NaN\n",
      "3  NaN  6.5  3.0\n",
      "     0    1    2   4\n",
      "0  1.0  6.5  3.0 NaN\n",
      "1  1.0  NaN  NaN NaN\n",
      "2  NaN  NaN  NaN NaN\n",
      "3  NaN  6.5  3.0 NaN\n",
      "     0    1    2\n",
      "0  1.0  6.5  3.0\n",
      "1  1.0  NaN  NaN\n",
      "2  NaN  NaN  NaN\n",
      "3  NaN  6.5  3.0\n"
     ]
    }
   ],
   "source": [
    "data = pd.DataFrame([[1., 6.5, 3.], [1., NA, NA], [NA, NA, NA], [NA, 6.5, 3.]])\n",
    "cleaned = data.dropna()\n",
    "print(data)\n",
    "print(cleaned)\n",
    "print(data.dropna(how='all'))\n",
    "data[4] = NA\n",
    "print(data)\n",
    "print(data.dropna(axis=1, how='all'))"
   ]
  },
  {
   "cell_type": "code",
   "execution_count": 6,
   "id": "d9b405a5",
   "metadata": {},
   "outputs": [
    {
     "name": "stdout",
     "output_type": "stream",
     "text": [
      "          0         1         2\n",
      "0  1.343911       NaN       NaN\n",
      "1  1.451770       NaN       NaN\n",
      "2 -0.860475       NaN -1.287726\n",
      "3 -0.916649       NaN -1.055583\n",
      "4  0.259612 -0.656542 -0.755572\n",
      "5  0.696258 -0.032249 -1.142136\n",
      "6  0.194099 -2.075901 -0.971023\n",
      "          0         1         2\n",
      "4  0.259612 -0.656542 -0.755572\n",
      "5  0.696258 -0.032249 -1.142136\n",
      "6  0.194099 -2.075901 -0.971023\n",
      "          0         1         2\n",
      "2 -0.860475       NaN -1.287726\n",
      "3 -0.916649       NaN -1.055583\n",
      "4  0.259612 -0.656542 -0.755572\n",
      "5  0.696258 -0.032249 -1.142136\n",
      "6  0.194099 -2.075901 -0.971023\n"
     ]
    }
   ],
   "source": [
    "df = pd.DataFrame(np.random.randn(7, 3))\n",
    "df.iloc[:4, 1] = NA\n",
    "df.iloc[:2, 2] = NA\n",
    "print(df)\n",
    "print(df.dropna())\n",
    "print(df.dropna(thresh=2)) # 至少有两个非NA值的行"
   ]
  },
  {
   "cell_type": "markdown",
   "id": "b40c6400",
   "metadata": {},
   "source": [
    "### 补全缺失值"
   ]
  },
  {
   "cell_type": "code",
   "execution_count": 7,
   "id": "a1797bca",
   "metadata": {},
   "outputs": [
    {
     "name": "stdout",
     "output_type": "stream",
     "text": [
      "          0         1         2\n",
      "0  1.343911  0.000000  0.000000\n",
      "1  1.451770  0.000000  0.000000\n",
      "2 -0.860475  0.000000 -1.287726\n",
      "3 -0.916649  0.000000 -1.055583\n",
      "4  0.259612 -0.656542 -0.755572\n",
      "5  0.696258 -0.032249 -1.142136\n",
      "6  0.194099 -2.075901 -0.971023\n",
      "          0         1         2\n",
      "0  1.343911  0.500000  0.000000\n",
      "1  1.451770  0.500000  0.000000\n",
      "2 -0.860475  0.500000 -1.287726\n",
      "3 -0.916649  0.500000 -1.055583\n",
      "4  0.259612 -0.656542 -0.755572\n",
      "5  0.696258 -0.032249 -1.142136\n",
      "6  0.194099 -2.075901 -0.971023\n"
     ]
    }
   ],
   "source": [
    "print(df.fillna(0)) # 用0填充NA值\n",
    "print(df.fillna({1: 0.5, 2: 0})) # 用不同的值填充不同的列"
   ]
  },
  {
   "cell_type": "code",
   "execution_count": 8,
   "id": "dc597fec",
   "metadata": {},
   "outputs": [
    {
     "name": "stdout",
     "output_type": "stream",
     "text": [
      "          0         1         2\n",
      "0  1.343911  0.000000  0.000000\n",
      "1  1.451770  0.000000  0.000000\n",
      "2 -0.860475  0.000000 -1.287726\n",
      "3 -0.916649  0.000000 -1.055583\n",
      "4  0.259612 -0.656542 -0.755572\n",
      "5  0.696258 -0.032249 -1.142136\n",
      "6  0.194099 -2.075901 -0.971023\n"
     ]
    }
   ],
   "source": [
    "_ = df.fillna(0, inplace=True)\n",
    "print(df) # 原地修改"
   ]
  },
  {
   "cell_type": "code",
   "execution_count": 9,
   "id": "02b766fe",
   "metadata": {},
   "outputs": [
    {
     "name": "stdout",
     "output_type": "stream",
     "text": [
      "          0         1         2\n",
      "0 -1.354473 -0.821064  0.900442\n",
      "1  1.126467 -0.429562 -0.673827\n",
      "2  0.286185       NaN -0.386513\n",
      "3 -0.809197       NaN -0.011802\n",
      "4  0.133198       NaN       NaN\n",
      "5  0.050668       NaN       NaN\n",
      "          0         1         2\n",
      "0 -1.354473 -0.821064  0.900442\n",
      "1  1.126467 -0.429562 -0.673827\n",
      "2  0.286185 -0.429562 -0.386513\n",
      "3 -0.809197 -0.429562 -0.011802\n",
      "4  0.133198 -0.429562 -0.011802\n",
      "5  0.050668 -0.429562 -0.011802\n",
      "          0         1         2\n",
      "0 -1.354473 -0.821064  0.900442\n",
      "1  1.126467 -0.429562 -0.673827\n",
      "2  0.286185 -0.429562 -0.386513\n",
      "3 -0.809197 -0.429562 -0.011802\n",
      "4  0.133198       NaN -0.011802\n",
      "5  0.050668       NaN -0.011802\n",
      "0    1.000000\n",
      "1    3.833333\n",
      "2    3.500000\n",
      "3    3.833333\n",
      "4    7.000000\n",
      "dtype: float64\n"
     ]
    },
    {
     "name": "stderr",
     "output_type": "stream",
     "text": [
      "/tmp/ipykernel_1926/47257907.py:5: FutureWarning: DataFrame.fillna with 'method' is deprecated and will raise in a future version. Use obj.ffill() or obj.bfill() instead.\n",
      "  print(df.fillna(method='ffill')) # 向前填充\n",
      "/tmp/ipykernel_1926/47257907.py:6: FutureWarning: DataFrame.fillna with 'method' is deprecated and will raise in a future version. Use obj.ffill() or obj.bfill() instead.\n",
      "  print(df.fillna(method='ffill', limit=2)) # 最多填充两个\n"
     ]
    }
   ],
   "source": [
    "df = pd.DataFrame(np.random.randn(6, 3))\n",
    "df.iloc[2:, 1] = NA\n",
    "df.iloc[4:, 2] = NA\n",
    "print(df)\n",
    "print(df.fillna(method='ffill')) # 向前填充\n",
    "print(df.fillna(method='ffill', limit=2)) # 最多填充两个\n",
    "data = pd.Series([1., NA, 3.5, NA, 7])\n",
    "print(data.fillna(data.mean())) # 用均值填充"
   ]
  },
  {
   "cell_type": "markdown",
   "id": "40f069e4",
   "metadata": {},
   "source": [
    "## 数据转换"
   ]
  },
  {
   "cell_type": "markdown",
   "id": "4b67f4ba",
   "metadata": {},
   "source": [
    "### 删除重复值"
   ]
  },
  {
   "cell_type": "code",
   "execution_count": 10,
   "id": "5755c5eb",
   "metadata": {},
   "outputs": [
    {
     "name": "stdout",
     "output_type": "stream",
     "text": [
      "    k1  k2\n",
      "0  one   1\n",
      "1  two   1\n",
      "2  one   2\n",
      "3  two   3\n",
      "4  one   3\n",
      "5  two   4\n",
      "6  two   4\n",
      "0    False\n",
      "1    False\n",
      "2    False\n",
      "3    False\n",
      "4    False\n",
      "5    False\n",
      "6     True\n",
      "dtype: bool\n",
      "    k1  k2\n",
      "0  one   1\n",
      "1  two   1\n",
      "2  one   2\n",
      "3  two   3\n",
      "4  one   3\n",
      "5  two   4\n"
     ]
    }
   ],
   "source": [
    "data = pd.DataFrame({'k1': ['one', 'two'] * 3 + ['two'], 'k2': [1, 1, 2, 3, 3, 4, 4]})\n",
    "print(data)\n",
    "print(data.duplicated()) # 标记重复行\n",
    "print(data.drop_duplicates()) # 删除重复行"
   ]
  },
  {
   "cell_type": "code",
   "execution_count": 12,
   "id": "527bdbe9",
   "metadata": {},
   "outputs": [
    {
     "name": "stdout",
     "output_type": "stream",
     "text": [
      "    k1  k2  v1\n",
      "0  one   1   0\n",
      "1  two   1   1\n",
      "    k1  k2  v1\n",
      "0  one   1   0\n",
      "1  two   1   1\n",
      "2  one   2   2\n",
      "3  two   3   3\n",
      "4  one   3   4\n",
      "5  two   4   5\n",
      "    k1  k2  v1\n",
      "0  one   1   0\n",
      "1  two   1   1\n",
      "2  one   2   2\n",
      "3  two   3   3\n",
      "4  one   3   4\n",
      "6  two   4   6\n"
     ]
    }
   ],
   "source": [
    "data['v1'] = range(7)\n",
    "print(data.drop_duplicates(['k1'])) # 根据某列删除重复行\n",
    "print(data.drop_duplicates(['k1', 'k2'])) # 根据多列删除重复行\n",
    "print(data.drop_duplicates(['k1', 'k2'], keep='last')) # 保留最后一个重复行"
   ]
  },
  {
   "cell_type": "markdown",
   "id": "5c157788",
   "metadata": {},
   "source": [
    "### 使用函数或映射进行数据转换"
   ]
  },
  {
   "cell_type": "code",
   "execution_count": 13,
   "id": "b077f33d",
   "metadata": {},
   "outputs": [
    {
     "name": "stdout",
     "output_type": "stream",
     "text": [
      "          food  ounces\n",
      "0        bacon     4.0\n",
      "1  pulled pork     3.0\n",
      "2        bacon    12.0\n",
      "3     Pastrami     6.0\n",
      "4  corned beef     7.5\n",
      "5        Bacon     8.0\n",
      "6     pastrami     3.0\n",
      "7    honey ham     5.0\n",
      "8     nova lox     6.0\n"
     ]
    }
   ],
   "source": [
    "data = pd.DataFrame({'food': ['bacon', 'pulled pork', 'bacon', 'Pastrami', 'corned beef', 'Bacon',\n",
    "\t\t\t\t\t\t  'pastrami', 'honey ham', 'nova lox'],\n",
    "\t\t\t\t\t\t 'ounces': [4, 3, 12, 6, 7.5, 8, 3, 5, 6]})\n",
    "print(data)"
   ]
  },
  {
   "cell_type": "code",
   "execution_count": 14,
   "id": "959e12fd",
   "metadata": {},
   "outputs": [
    {
     "name": "stdout",
     "output_type": "stream",
     "text": [
      "0          bacon\n",
      "1    pulled pork\n",
      "2          bacon\n",
      "3       pastrami\n",
      "4    corned beef\n",
      "5          bacon\n",
      "6       pastrami\n",
      "7      honey ham\n",
      "8       nova lox\n",
      "Name: food, dtype: object\n",
      "          food  ounces  animal\n",
      "0        bacon     4.0     pig\n",
      "1  pulled pork     3.0     pig\n",
      "2        bacon    12.0     pig\n",
      "3     Pastrami     6.0     cow\n",
      "4  corned beef     7.5     cow\n",
      "5        Bacon     8.0     pig\n",
      "6     pastrami     3.0     cow\n",
      "7    honey ham     5.0     pig\n",
      "8     nova lox     6.0  salmon\n"
     ]
    },
    {
     "data": {
      "text/plain": [
       "0       pig\n",
       "1       pig\n",
       "2       pig\n",
       "3       cow\n",
       "4       cow\n",
       "5       pig\n",
       "6       cow\n",
       "7       pig\n",
       "8    salmon\n",
       "Name: food, dtype: object"
      ]
     },
     "execution_count": 14,
     "metadata": {},
     "output_type": "execute_result"
    }
   ],
   "source": [
    "meat_to_animal = {\n",
    "\t'bacon': 'pig',\n",
    "\t'pulled pork': 'pig',\n",
    "\t'pastrami': 'cow',\n",
    "\t'corned beef': 'cow',\n",
    "\t'honey ham': 'pig',\n",
    "\t'nova lox': 'salmon'\n",
    "}\n",
    "lowercased = data['food'].str.lower() # 转小写\n",
    "print(lowercased)\n",
    "data['animal'] = lowercased.map(meat_to_animal) # 映射\n",
    "print(data)\n",
    "data['food'].map(lambda x: meat_to_animal[x.lower()]) # 用函数映射"
   ]
  },
  {
   "cell_type": "markdown",
   "id": "e3a8ecd9",
   "metadata": {},
   "source": [
    "### 替代值"
   ]
  },
  {
   "cell_type": "code",
   "execution_count": 17,
   "id": "daa27455",
   "metadata": {},
   "outputs": [
    {
     "name": "stdout",
     "output_type": "stream",
     "text": [
      "0       1.0\n",
      "1    -999.0\n",
      "2       2.0\n",
      "3    -999.0\n",
      "4   -1000.0\n",
      "5       3.0\n",
      "dtype: float64\n",
      "0       1.0\n",
      "1       NaN\n",
      "2       2.0\n",
      "3       NaN\n",
      "4   -1000.0\n",
      "5       3.0\n",
      "dtype: float64\n",
      "0    1.0\n",
      "1    NaN\n",
      "2    2.0\n",
      "3    NaN\n",
      "4    NaN\n",
      "5    3.0\n",
      "dtype: float64\n",
      "0    1.0\n",
      "1    NaN\n",
      "2    2.0\n",
      "3    NaN\n",
      "4    0.0\n",
      "5    3.0\n",
      "dtype: float64\n",
      "0    1.0\n",
      "1    NaN\n",
      "2    2.0\n",
      "3    NaN\n",
      "4    0.0\n",
      "5    3.0\n",
      "dtype: float64\n"
     ]
    }
   ],
   "source": [
    "data = pd.Series([1., -999., 2., -999., -1000., 3.])\n",
    "print(data)\n",
    "print(data.replace(-999, np.nan)) # 替换-999为NA\n",
    "print(data.replace([-999, -1000], np.nan)) # 替换多个值\n",
    "print(data.replace([-999, -1000], [np.nan, 0])) # 分别替换多个值\n",
    "print(data.replace({-999: np.nan, -1000: 0})) # 用字典替换"
   ]
  },
  {
   "cell_type": "markdown",
   "id": "30b72bac",
   "metadata": {},
   "source": [
    "### 重命名轴索引"
   ]
  },
  {
   "cell_type": "code",
   "execution_count": 20,
   "id": "3805f4de",
   "metadata": {},
   "outputs": [
    {
     "name": "stdout",
     "output_type": "stream",
     "text": [
      "Index(['OHIO', 'COLO', 'NEW '], dtype='object')\n",
      "      one  two  three  four\n",
      "OHIO    0    1      2     3\n",
      "COLO    4    5      6     7\n",
      "NEW     8    9     10    11\n",
      "      ONE  TWO  THREE  FOUR\n",
      "Ohio    0    1      2     3\n",
      "Colo    4    5      6     7\n",
      "New     8    9     10    11\n",
      "         one  two  peekaboo  four\n",
      "INDIANA    0    1         2     3\n",
      "COLO       4    5         6     7\n",
      "NEW        8    9        10    11\n",
      "         one  two  three  four\n",
      "INDIANA    0    1      2     3\n",
      "COLO       4    5      6     7\n",
      "NEW        8    9     10    11\n"
     ]
    }
   ],
   "source": [
    "data = pd.DataFrame(np.arange(12).reshape((3, 4)),\n",
    "\t\t\t\t\tindex=['Ohio', 'Colorado', 'New York'],\n",
    "\t\t\t\t\tcolumns=['one', 'two', 'three', 'four'])\n",
    "transform = lambda x: x[:4].upper()\n",
    "print(data.index.map(transform)) # 对索引应用函数\n",
    "data.index = data.index.map(transform) # 重命名索引\n",
    "print(data)\n",
    "print(data.rename(index=str.title, columns=str.upper)) # 创建数据集转换后的版本，不修改原数据\n",
    "print(data.rename(index={'OHIO': 'INDIANA'}, columns={'three': 'peekaboo'})) # 重命名部分行和列\n",
    "data.rename(index={'OHIO': 'INDIANA'}, inplace=True) # 原地修改\n",
    "print(data)"
   ]
  },
  {
   "cell_type": "markdown",
   "id": "86d123bb",
   "metadata": {},
   "source": [
    "### 离散化和分箱"
   ]
  }
 ],
 "metadata": {
  "kernelspec": {
   "display_name": "base",
   "language": "python",
   "name": "python3"
  },
  "language_info": {
   "codemirror_mode": {
    "name": "ipython",
    "version": 3
   },
   "file_extension": ".py",
   "mimetype": "text/x-python",
   "name": "python",
   "nbconvert_exporter": "python",
   "pygments_lexer": "ipython3",
   "version": "3.12.7"
  }
 },
 "nbformat": 4,
 "nbformat_minor": 5
}
