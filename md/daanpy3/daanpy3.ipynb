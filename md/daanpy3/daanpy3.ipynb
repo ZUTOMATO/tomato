{
 "cells": [
  {
   "cell_type": "markdown",
   "id": "b7c7338c",
   "metadata": {},
   "source": [
    "## 分层索引"
   ]
  },
  {
   "cell_type": "code",
   "execution_count": 10,
   "id": "81b49fdf",
   "metadata": {},
   "outputs": [],
   "source": [
    "import pandas as pd\n",
    "import numpy as np"
   ]
  },
  {
   "cell_type": "code",
   "execution_count": 11,
   "id": "dd80bb0a",
   "metadata": {},
   "outputs": [
    {
     "name": "stdout",
     "output_type": "stream",
     "text": [
      "a  1   -1.807095\n",
      "   2   -1.092200\n",
      "   3    0.711365\n",
      "b  1    1.657812\n",
      "   3   -0.931954\n",
      "c  1    1.346428\n",
      "   2    0.405380\n",
      "d  2    0.166638\n",
      "   3    0.064300\n",
      "dtype: float64\n",
      "MultiIndex([('a', 1),\n",
      "            ('a', 2),\n",
      "            ('a', 3),\n",
      "            ('b', 1),\n",
      "            ('b', 3),\n",
      "            ('c', 1),\n",
      "            ('c', 2),\n",
      "            ('d', 2),\n",
      "            ('d', 3)],\n",
      "           )\n"
     ]
    }
   ],
   "source": [
    "data = pd.Series(np.random.randn(9), index=[['a', 'a', 'a', 'b', 'b', 'c', 'c', 'd', 'd'], [1, 2, 3, 1, 3, 1, 2, 2, 3]])\n",
    "print(data)\n",
    "print(data.index)"
   ]
  },
  {
   "cell_type": "code",
   "execution_count": 12,
   "id": "40397fcf",
   "metadata": {},
   "outputs": [
    {
     "name": "stdout",
     "output_type": "stream",
     "text": [
      "b  1    1.657812\n",
      "   3   -0.931954\n",
      "c  1    1.346428\n",
      "   2    0.405380\n",
      "dtype: float64\n",
      "b  1    1.657812\n",
      "   3   -0.931954\n",
      "c  1    1.346428\n",
      "   2    0.405380\n",
      "dtype: float64\n",
      "a   -1.092200\n",
      "c    0.405380\n",
      "d    0.166638\n",
      "dtype: float64\n",
      "          1         2         3\n",
      "a -1.807095 -1.092200  0.711365\n",
      "b  1.657812       NaN -0.931954\n",
      "c  1.346428  0.405380       NaN\n",
      "d       NaN  0.166638  0.064300\n"
     ]
    }
   ],
   "source": [
    "print(data['b':'c'])\n",
    "print(data.loc[['b', 'c']])\n",
    "print(data.loc[:, 2])\n",
    "print(data.unstack())"
   ]
  },
  {
   "cell_type": "code",
   "execution_count": 13,
   "id": "8008bb55",
   "metadata": {},
   "outputs": [
    {
     "name": "stdout",
     "output_type": "stream",
     "text": [
      "a  1   -1.807095\n",
      "   2   -1.092200\n",
      "   3    0.711365\n",
      "b  1    1.657812\n",
      "   3   -0.931954\n",
      "c  1    1.346428\n",
      "   2    0.405380\n",
      "d  2    0.166638\n",
      "   3    0.064300\n",
      "dtype: float64\n"
     ]
    }
   ],
   "source": [
    "print(data.unstack().stack())"
   ]
  },
  {
   "cell_type": "code",
   "execution_count": 15,
   "id": "f0db0b8e",
   "metadata": {},
   "outputs": [
    {
     "name": "stdout",
     "output_type": "stream",
     "text": [
      "     Ohio     Colorado\n",
      "    Green Red    Green\n",
      "a 1     0   1        2\n",
      "  2     3   4        5\n",
      "b 1     6   7        8\n",
      "  2     9  10       11\n"
     ]
    }
   ],
   "source": [
    "frame = pd.DataFrame(np.arange(12).reshape((4,3)), index=[['a', 'a', 'b', 'b'],[1, 2, 1, 2]], columns=[['Ohio', 'Ohio', 'Colorado'], ['Green', 'Red', 'Green']])\n",
    "print(frame)"
   ]
  },
  {
   "cell_type": "code",
   "execution_count": 18,
   "id": "f735f9b1",
   "metadata": {},
   "outputs": [
    {
     "name": "stdout",
     "output_type": "stream",
     "text": [
      "state      Ohio     Colorado\n",
      "color     Green Red    Green\n",
      "key1 key2                   \n",
      "a    1        0   1        2\n",
      "     2        3   4        5\n",
      "b    1        6   7        8\n",
      "     2        9  10       11\n",
      "color      Green  Red\n",
      "key1 key2            \n",
      "a    1         0    1\n",
      "     2         3    4\n",
      "b    1         6    7\n",
      "     2         9   10\n"
     ]
    }
   ],
   "source": [
    "frame.index.names = ['key1', 'key2']\n",
    "frame.columns.names = ['state', 'color']\n",
    "print(frame)\n",
    "print(frame['Ohio'])"
   ]
  },
  {
   "cell_type": "markdown",
   "id": "1360f8c9",
   "metadata": {},
   "source": [
    "### 重排序和层级排序"
   ]
  }
 ],
 "metadata": {
  "kernelspec": {
   "display_name": "base",
   "language": "python",
   "name": "python3"
  },
  "language_info": {
   "codemirror_mode": {
    "name": "ipython",
    "version": 3
   },
   "file_extension": ".py",
   "mimetype": "text/x-python",
   "name": "python",
   "nbconvert_exporter": "python",
   "pygments_lexer": "ipython3",
   "version": "3.12.7"
  }
 },
 "nbformat": 4,
 "nbformat_minor": 5
}
