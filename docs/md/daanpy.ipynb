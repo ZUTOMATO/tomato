{
 "cells": [
  {
   "cell_type": "markdown",
   "id": "fafb3f98",
   "metadata": {},
   "source": [
    "## 文本格式数据的读写"
   ]
  },
  {
   "cell_type": "markdown",
   "id": "db57a20a",
   "metadata": {},
   "source": [
    "pandas的解析函数：\n",
    "- read_csv\n",
    "- read_table\n",
    "- ..."
   ]
  },
  {
   "cell_type": "code",
   "execution_count": 41,
   "id": "fc19bc18",
   "metadata": {},
   "outputs": [],
   "source": [
    "import pandas as pd\n",
    "import numpy as np"
   ]
  },
  {
   "cell_type": "code",
   "execution_count": 42,
   "id": "11f8e8df",
   "metadata": {},
   "outputs": [
    {
     "name": "stdout",
     "output_type": "stream",
     "text": [
      "   a   b   c   d message\n",
      "0  1   2   3   4   hello\n",
      "1  5   6   7   8   world\n",
      "2  9  10  11  12     foo\n",
      "   a   b   c   d message\n",
      "0  1   2   3   4   hello\n",
      "1  5   6   7   8   world\n",
      "2  9  10  11  12     foo\n",
      "   0   1   2   3      4\n",
      "0  1   2   3   4  hello\n",
      "1  5   6   7   8  world\n",
      "2  9  10  11  12    foo\n",
      "   a   b   c   d message\n",
      "0  1   2   3   4   hello\n",
      "1  5   6   7   8   world\n",
      "2  9  10  11  12     foo\n",
      "         a   b   c   d\n",
      "message               \n",
      "hello    1   2   3   4\n",
      "world    5   6   7   8\n",
      "foo      9  10  11  12\n"
     ]
    }
   ],
   "source": [
    "df = pd.read_csv('examples/ex1.csv')\n",
    "print(df) #用read_csv()读取csv文件\n",
    "print(pd.read_table('examples/ex1.csv', sep=',')) #用read_table()读取csv文件，并指定分隔符\n",
    "print(pd.read_csv('examples/ex2.csv', header=None)) #没有列名时，header=None\n",
    "print(pd.read_csv('examples/ex2.csv', names=['a', 'b', 'c', 'd', 'message'])) #指定列名\n",
    "names = ['a', 'b', 'c', 'd', 'message']\n",
    "print(pd.read_csv('examples/ex2.csv', names=names, index_col='message')) #指定列名，并将message列作为索引"
   ]
  },
  {
   "cell_type": "code",
   "execution_count": null,
   "id": "0f96f1a5",
   "metadata": {},
   "outputs": [
    {
     "name": "stdout",
     "output_type": "stream",
     "text": [
      "           value1  value2\n",
      "key1 key2                \n",
      "one  a          1       2\n",
      "     b          3       4\n",
      "     c          5       6\n",
      "     d          7       8\n",
      "two  a          9      10\n",
      "     b         11      12\n",
      "     c         13      14\n",
      "     d         15      16\n",
      "            A         B         C\n",
      "aaa -0.264438 -1.026059 -0.619500\n",
      "bbb  0.927272  0.302904 -0.032399\n",
      "ccc -0.264273 -0.386314 -0.217601\n",
      "ddd -0.871858 -0.348382  1.100491\n"
     ]
    },
    {
     "name": "stderr",
     "output_type": "stream",
     "text": [
      "<>:4: SyntaxWarning: invalid escape sequence '\\s'\n",
      "<>:4: SyntaxWarning: invalid escape sequence '\\s'\n",
      "/tmp/ipykernel_2315/2147722764.py:4: SyntaxWarning: invalid escape sequence '\\s'\n",
      "  result = pd.read_table('examples/ex3.txt', sep='\\s+') #用正则表达式作为分隔符读取文本文件，\\s+表示多个空格\n"
     ]
    }
   ],
   "source": [
    "parsed = pd.read_csv('examples/csv_mindex.csv', index_col=['key1', 'key2'])\n",
    "print(parsed) #指定多列作为索引\n",
    "print(list(open('examples/ex3.txt'))) #逐行读取文本文件\n",
    "result = pd.read_table('examples/ex3.txt', sep='\\s+') #用正则表达式作为分隔符读取文本文件，\\s+表示多个空格\n",
    "print(result)"
   ]
  },
  {
   "cell_type": "code",
   "execution_count": 44,
   "id": "252d6cb2",
   "metadata": {},
   "outputs": [
    {
     "name": "stdout",
     "output_type": "stream",
     "text": [
      "   a   b   c   d message\n",
      "0  1   2   3   4   hello\n",
      "1  5   6   7   8   world\n",
      "2  9  10  11  12     foo\n",
      "  something  a   b     c   d message\n",
      "0       one  1   2   3.0   4     NaN\n",
      "1       two  5   6   NaN   8   world\n",
      "2     three  9  10  11.0  12     foo\n",
      "   something      a      b      c      d  message\n",
      "0      False  False  False  False  False     True\n",
      "1      False  False  False   True  False    False\n",
      "2      False  False  False  False  False    False\n",
      "  something  a   b     c   d message\n",
      "0       one  1   2   3.0   4     NaN\n",
      "1       two  5   6   NaN   8   world\n",
      "2     three  9  10  11.0  12     foo\n",
      "  something  a   b     c   d message\n",
      "0       one  1   2   3.0   4     NaN\n",
      "1       NaN  5   6   NaN   8   world\n",
      "2     three  9  10  11.0  12     NaN\n"
     ]
    }
   ],
   "source": [
    "print(pd.read_csv('examples/ex4.csv', skiprows=[0, 2, 3])) #跳过指定行读取csv文件\n",
    "results = pd.read_csv('examples/ex5.csv')\n",
    "print(results)\n",
    "print(results.isnull()) #检查缺失值\n",
    "results = pd.read_csv('examples/ex5.csv', na_values=['NULL']) #将指定值识别为NaN\n",
    "print(results)\n",
    "sentinels = {'message': ['foo', 'NA'], 'something': ['two']}\n",
    "print(pd.read_csv('examples/ex5.csv', na_values=sentinels)) #为不同列指定不同的缺失值标记"
   ]
  },
  {
   "cell_type": "markdown",
   "id": "2684305a",
   "metadata": {},
   "source": [
    "### 分块读入文本文件"
   ]
  }
 ],
 "metadata": {
  "kernelspec": {
   "display_name": "base",
   "language": "python",
   "name": "python3"
  },
  "language_info": {
   "codemirror_mode": {
    "name": "ipython",
    "version": 3
   },
   "file_extension": ".py",
   "mimetype": "text/x-python",
   "name": "python",
   "nbconvert_exporter": "python",
   "pygments_lexer": "ipython3",
   "version": "3.12.7"
  }
 },
 "nbformat": 4,
 "nbformat_minor": 5
}
