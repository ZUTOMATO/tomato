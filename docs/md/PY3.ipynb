{
 "cells": [
  {
   "cell_type": "markdown",
   "id": "11341725",
   "metadata": {},
   "source": [
    "# 类"
   ]
  },
  {
   "cell_type": "markdown",
   "id": "0d839c32",
   "metadata": {},
   "source": [
    "创建和使用类"
   ]
  },
  {
   "cell_type": "code",
   "execution_count": 1,
   "id": "dd2803f5",
   "metadata": {},
   "outputs": [],
   "source": [
    "class Dog():\n",
    "\t\"\"\"一次模拟小狗的简单尝试\"\"\"\n",
    "\n",
    "\tdef __init__(self, name, age):\n",
    "\t\t\"\"\"初始化属性name和age\"\"\"\n",
    "\t\tself.name = name\n",
    "\t\tself.age = age\n",
    "\t\t\n",
    "\tdef sit(self):\n",
    "\t\t\"\"\"模拟小狗蹲下\"\"\"\n",
    "\t\tprint(self.name.title() + \" is now sitting.\")\n",
    "\t\n",
    "\tdef roll_over(self):\n",
    "\t\t\"\"\"模拟小狗打滚\"\"\"\n",
    "\t\tprint(self.name.title() + \" rolled over.\")"
   ]
  }
 ],
 "metadata": {
  "kernelspec": {
   "display_name": "py38env",
   "language": "python",
   "name": "python3"
  },
  "language_info": {
   "codemirror_mode": {
    "name": "ipython",
    "version": 3
   },
   "file_extension": ".py",
   "mimetype": "text/x-python",
   "name": "python",
   "nbconvert_exporter": "python",
   "pygments_lexer": "ipython3",
   "version": "3.8.20"
  }
 },
 "nbformat": 4,
 "nbformat_minor": 5
}
