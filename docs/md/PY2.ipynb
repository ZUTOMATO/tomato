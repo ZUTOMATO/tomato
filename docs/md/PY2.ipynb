{
 "cells": [
  {
   "cell_type": "markdown",
   "id": "e954b081",
   "metadata": {},
   "source": [
    "# if语句"
   ]
  },
  {
   "cell_type": "code",
   "execution_count": 1,
   "id": "4fc657f2",
   "metadata": {},
   "outputs": [
    {
     "name": "stdout",
     "output_type": "stream",
     "text": [
      "Audi\n",
      "BMW\n",
      "Subaru\n",
      "Toyota\n"
     ]
    }
   ],
   "source": [
    "cars = [\"audi\", \"bmw\", \"subaru\", \"toyota\"]\n",
    "\n",
    "for car in cars:\n",
    "\tif car == \"bmw\":\n",
    "\t\tprint(car.upper())\n",
    "\telse:\n",
    "\t\tprint(car.title())"
   ]
  },
  {
   "cell_type": "markdown",
   "id": "b287c017",
   "metadata": {},
   "source": [
    "and/or："
   ]
  },
  {
   "cell_type": "code",
   "execution_count": 2,
   "id": "28c42250",
   "metadata": {},
   "outputs": [
    {
     "name": "stdout",
     "output_type": "stream",
     "text": [
      "False\n",
      "True\n"
     ]
    }
   ],
   "source": [
    "age_0 = 22\n",
    "age_1 = 18\n",
    "print(age_0 >= 21 and age_1 >= 21)\n",
    "print(age_0 >= 21 or age_1 >= 21)"
   ]
  },
  {
   "cell_type": "markdown",
   "id": "a5050a1a",
   "metadata": {},
   "source": [
    "检查特定值是否不包含在列表中："
   ]
  },
  {
   "cell_type": "code",
   "execution_count": 3,
   "id": "78f360f3",
   "metadata": {},
   "outputs": [
    {
     "name": "stdout",
     "output_type": "stream",
     "text": [
      "Marie, you can post a response if you wish.\n"
     ]
    }
   ],
   "source": [
    "banned_users = ['andrew', 'carolina', 'david']\n",
    "user = 'marie'\n",
    "\n",
    "if user not in banned_users:\n",
    "\tprint(user.title() + \", you can post a response if you wish.\")"
   ]
  },
  {
   "cell_type": "markdown",
   "id": "8a5c8e3f",
   "metadata": {},
   "source": [
    "if-else语句："
   ]
  },
  {
   "cell_type": "code",
   "execution_count": 4,
   "id": "d153f0bb",
   "metadata": {},
   "outputs": [
    {
     "name": "stdout",
     "output_type": "stream",
     "text": [
      "Sorry, you are too young to vote.\n",
      "Please register to vote as soon as you turn 18!\n"
     ]
    }
   ],
   "source": [
    "age = 17\n",
    "if age >= 18:\n",
    "\tprint(\"You are old enough to vote!\")\n",
    "\tprint(\"Have you registered to vote yet?\")\n",
    "else:\n",
    "\tprint(\"Sorry, you are too young to vote.\")\n",
    "\tprint(\"Please register to vote as soon as you turn 18!\")"
   ]
  },
  {
   "cell_type": "markdown",
   "id": "068b5914",
   "metadata": {},
   "source": [
    "确定列表不是空的："
   ]
  },
  {
   "cell_type": "code",
   "execution_count": 5,
   "id": "96ee3353",
   "metadata": {},
   "outputs": [
    {
     "name": "stdout",
     "output_type": "stream",
     "text": [
      "Are you sure you want a plain pizza?\n"
     ]
    }
   ],
   "source": [
    "requeseted_toppings = []\n",
    "\n",
    "if requeseted_toppings:\n",
    "\tfor topping in requeseted_toppings:\n",
    "\t\tprint(\"Adding \" + topping + \".\")\n",
    "\tprint(\"\\nFinished making your pizza!\")\n",
    "else:\n",
    "\tprint(\"Are you sure you want a plain pizza?\")"
   ]
  },
  {
   "cell_type": "markdown",
   "id": "a09dabd3",
   "metadata": {},
   "source": [
    "# 字典"
   ]
  },
  {
   "cell_type": "code",
   "execution_count": 6,
   "id": "98987f5d",
   "metadata": {},
   "outputs": [
    {
     "name": "stdout",
     "output_type": "stream",
     "text": [
      "green\n",
      "5\n"
     ]
    }
   ],
   "source": [
    "alien_0 = {'color': 'green', 'points': 5} #创建一个字典\n",
    "print(alien_0['color']) #访问字典中的值\n",
    "print(alien_0['points'])"
   ]
  },
  {
   "cell_type": "markdown",
   "id": "4c3d7ee4",
   "metadata": {},
   "source": [
    "添加键-值对："
   ]
  },
  {
   "cell_type": "code",
   "execution_count": 7,
   "id": "b8751b12",
   "metadata": {},
   "outputs": [
    {
     "name": "stdout",
     "output_type": "stream",
     "text": [
      "{'color': 'green', 'points': 5, 'x_position': 0, 'y_position': 25}\n"
     ]
    }
   ],
   "source": [
    "alien_0['x_position'] = 0 \n",
    "alien_0['y_position'] = 25\n",
    "print(alien_0)"
   ]
  },
  {
   "cell_type": "code",
   "execution_count": 8,
   "id": "5d928fac",
   "metadata": {},
   "outputs": [],
   "source": [
    "del age, cars, car, age_0, age_1, banned_users, user, requeseted_toppings, alien_0"
   ]
  },
  {
   "cell_type": "markdown",
   "id": "c828dca4",
   "metadata": {},
   "source": [
    "遍历字典"
   ]
  },
  {
   "cell_type": "code",
   "execution_count": 9,
   "id": "05155ecf",
   "metadata": {},
   "outputs": [
    {
     "name": "stdout",
     "output_type": "stream",
     "text": [
      "\n",
      "Key: username\n",
      "Value: efermi\n",
      "\n",
      "Key: first\n",
      "Value: enrico\n",
      "\n",
      "Key: last\n",
      "Value: fermi\n"
     ]
    }
   ],
   "source": [
    "user_0 = {\n",
    "\t'username':'efermi',\n",
    "\t'first':'enrico',\n",
    "\t'last':'fermi'\n",
    "}\n",
    "\n",
    "for keys, values in user_0.items():\n",
    "\tprint(\"\\nKey: \" + keys)\n",
    "\tprint(\"Value: \" + values)"
   ]
  },
  {
   "cell_type": "markdown",
   "id": "ab3c5448",
   "metadata": {},
   "source": [
    "遍历键或值"
   ]
  },
  {
   "cell_type": "code",
   "execution_count": 10,
   "id": "b6496b50",
   "metadata": {},
   "outputs": [
    {
     "name": "stdout",
     "output_type": "stream",
     "text": [
      "Username\n",
      "First\n",
      "Last\n",
      "Efermi\n",
      "Enrico\n",
      "Fermi\n",
      "Username\n",
      "First\n",
      "Last\n"
     ]
    }
   ],
   "source": [
    "for a in user_0.keys():\n",
    "\tprint(a.title())\n",
    "\n",
    "for a in user_0.values():\n",
    "\tprint(a.title())\n",
    "\n",
    "for a in set(user_0.keys()): #去除重复项\n",
    "\tprint(a.title())"
   ]
  },
  {
   "cell_type": "markdown",
   "id": "27d878fc",
   "metadata": {},
   "source": [
    "这里 set() 是集合函数，将变量变为集合"
   ]
  },
  {
   "cell_type": "markdown",
   "id": "5b95ca72",
   "metadata": {},
   "source": [
    "# 集合"
   ]
  },
  {
   "cell_type": "markdown",
   "id": "e4f73350",
   "metadata": {},
   "source": [
    "交、并、对称差"
   ]
  },
  {
   "cell_type": "code",
   "execution_count": 11,
   "id": "1760f046",
   "metadata": {},
   "outputs": [
    {
     "name": "stdout",
     "output_type": "stream",
     "text": [
      "{1, 2, 3, 4, 5, 6, 7, 8}\n",
      "{1, 2, 3, 4, 5, 6, 7, 8}\n",
      "{3, 4, 5}\n",
      "{1, 2, 6, 7, 8}\n"
     ]
    }
   ],
   "source": [
    "a = {1, 2, 3, 4, 5}\n",
    "b = {3, 4, 5, 6, 7, 8}\n",
    "\n",
    "print(a.union(b)) \n",
    "print(a | b) #并集\n",
    "\n",
    "print(a & b) #交集\n",
    "\n",
    "print(a ^ b) #对称差"
   ]
  },
  {
   "cell_type": "markdown",
   "id": "a0c245fe",
   "metadata": {},
   "source": [
    "检查集合是否是另一个集合的子集"
   ]
  },
  {
   "cell_type": "code",
   "execution_count": 12,
   "id": "a8559920",
   "metadata": {},
   "outputs": [
    {
     "name": "stdout",
     "output_type": "stream",
     "text": [
      "True\n",
      "True\n"
     ]
    }
   ],
   "source": [
    "a_set = set(range(1, 5))\n",
    "print(set(range(1, 4)).issubset(a_set))\n",
    "print(a_set.issuperset(set(range(1, 4))))"
   ]
  },
  {
   "cell_type": "markdown",
   "id": "bbec405c",
   "metadata": {},
   "source": [
    "# 用户输入和while循环"
   ]
  },
  {
   "cell_type": "markdown",
   "id": "873c3c05",
   "metadata": {},
   "source": [
    "input()"
   ]
  },
  {
   "cell_type": "code",
   "execution_count": 13,
   "id": "2f023c19",
   "metadata": {},
   "outputs": [
    {
     "name": "stdout",
     "output_type": "stream",
     "text": [
      "a\n"
     ]
    }
   ],
   "source": [
    "message = input(\"abc\")\n",
    "print(message) #输入的内容一定是字符串格式，如要转换则用int()等函数"
   ]
  },
  {
   "cell_type": "markdown",
   "id": "51d03417",
   "metadata": {},
   "source": [
    "while循环"
   ]
  },
  {
   "cell_type": "code",
   "execution_count": 14,
   "id": "0f8cce06",
   "metadata": {},
   "outputs": [
    {
     "name": "stdout",
     "output_type": "stream",
     "text": [
      "a\n",
      "a\n",
      "a\n",
      "a\n",
      "a\n",
      "a\n",
      "a\n",
      "a\n",
      "a\n",
      "a\n",
      "a\n",
      "a\n",
      "a\n",
      "\n",
      "a\n",
      "a\n",
      "\n",
      "a\n",
      "a\n",
      "\n",
      "aaaa\n",
      "aa\n",
      "a\n",
      "a\n",
      "a\n",
      "a\n",
      "a\n",
      "a\n",
      "a\n",
      "a\n",
      "a\n",
      "a\n",
      "a\n",
      "a\n",
      "a\n",
      "a\n",
      "a\n",
      "a\n",
      "a\n",
      "a\n",
      "a\n",
      "a\n",
      "a\n",
      "a\n",
      "a\n",
      "a\n",
      "a\n",
      "a\n",
      "a\n",
      "a\n",
      "a\n",
      "a\n",
      "a\n",
      "a\n",
      "a\n",
      "a\n",
      "a\n",
      "a\n",
      "a\n",
      "a\n"
     ]
    }
   ],
   "source": [
    "message = \"\"\n",
    "while message != 'quit':\n",
    "\tmessage = input()\n",
    "\tif message != 'quit':\n",
    "\t\tprint(message)"
   ]
  },
  {
   "cell_type": "markdown",
   "id": "e1b66ae9",
   "metadata": {},
   "source": [
    "break和continue的用法和C语言一样"
   ]
  },
  {
   "cell_type": "markdown",
   "id": "d5851c6c",
   "metadata": {},
   "source": [
    "# 函数"
   ]
  },
  {
   "cell_type": "code",
   "execution_count": 15,
   "id": "33eefcc5",
   "metadata": {},
   "outputs": [
    {
     "name": "stdout",
     "output_type": "stream",
     "text": [
      "0.06363636363636363\n",
      "35.49\n",
      "45.0\n"
     ]
    }
   ],
   "source": [
    "def f(x, y, z=1.5): #定义了z的默认值\n",
    "\tif z > 1:\n",
    "\t\treturn z * (x + y)\n",
    "\telse:\n",
    "\t\treturn z / (x + y)\n",
    "\n",
    "print(f(5, 6, z=0.7))\n",
    "print(f(3.14, 7, 3.5))\n",
    "print(f(10, 20))"
   ]
  },
  {
   "cell_type": "markdown",
   "id": "e327f39d",
   "metadata": {},
   "source": [
    "命名空间、作用域和本地函数"
   ]
  },
  {
   "cell_type": "code",
   "execution_count": 16,
   "id": "cd37919b",
   "metadata": {},
   "outputs": [],
   "source": [
    "def func():\n",
    "\ta = []\n",
    "\tfor i in range(5):\n",
    "\t\ta.append(i) #这里的a是局部变量，在函数退出时会被销毁\n",
    "\n",
    "a = []\n",
    "def func():\n",
    "\tfor i in range(5):\n",
    "\t\ta.append(i) #这里a在函数外部被赋值\n",
    "\n",
    "def func():\n",
    "\tglobal a\n",
    "\ta = []\n",
    "\tfor i in range(5):\n",
    "\t\ta.append(i) #这里a被定义为全局变量"
   ]
  },
  {
   "cell_type": "markdown",
   "id": "1aac2811",
   "metadata": {},
   "source": [
    "函数可以作为对象"
   ]
  },
  {
   "cell_type": "code",
   "execution_count": 17,
   "id": "02ccbd6f",
   "metadata": {},
   "outputs": [
    {
     "data": {
      "text/plain": [
       "['Alabama',\n",
       " 'Georgia',\n",
       " 'Georgia',\n",
       " 'Georgia',\n",
       " 'Florida',\n",
       " 'South     Carolina',\n",
       " 'West Virginia']"
      ]
     },
     "execution_count": 17,
     "metadata": {},
     "output_type": "execute_result"
    }
   ],
   "source": [
    "states = ['   Alabama  ', 'Georgia!', 'Georgia', 'georgia', 'FlOrIda', 'south     carolina##', 'West virginia?']\n",
    "import re\n",
    "\n",
    "def remove_punctuation(value):\n",
    "\treturn re.sub('[!#?]', '', value)\n",
    "\n",
    "clean_ops = [str.strip, remove_punctuation, str.title]\n",
    "\n",
    "def clean_strings(strings, ops):\n",
    "\tresult = []\n",
    "\tfor value in strings:\n",
    "\t\tfor function in ops:\n",
    "\t\t\tvalue = function(value)\n",
    "\t\tresult.append(value)\n",
    "\treturn result\n",
    "clean_strings(states, clean_ops)"
   ]
  },
  {
   "cell_type": "markdown",
   "id": "bd13a355",
   "metadata": {},
   "source": [
    "匿名（Lamda）函数"
   ]
  },
  {
   "cell_type": "code",
   "execution_count": 18,
   "id": "8eb0598c",
   "metadata": {},
   "outputs": [],
   "source": [
    "def function(x):\n",
    "\treturn x * 2\n",
    "\n",
    "equiv_anon = lambda x: x * 2"
   ]
  }
 ],
 "metadata": {
  "kernelspec": {
   "display_name": "py38env",
   "language": "python",
   "name": "python3"
  },
  "language_info": {
   "codemirror_mode": {
    "name": "ipython",
    "version": 3
   },
   "file_extension": ".py",
   "mimetype": "text/x-python",
   "name": "python",
   "nbconvert_exporter": "python",
   "pygments_lexer": "ipython3",
   "version": "3.8.20"
  }
 },
 "nbformat": 4,
 "nbformat_minor": 5
}
