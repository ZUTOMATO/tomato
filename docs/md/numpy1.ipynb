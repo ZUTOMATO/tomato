{
 "cells": [
  {
   "cell_type": "code",
   "execution_count": 30,
   "id": "86053631",
   "metadata": {},
   "outputs": [],
   "source": [
    "import numpy as np"
   ]
  },
  {
   "cell_type": "markdown",
   "id": "680ce5ff",
   "metadata": {},
   "source": [
    "## NumPy ndarray"
   ]
  },
  {
   "cell_type": "code",
   "execution_count": 31,
   "id": "06d8efd8",
   "metadata": {},
   "outputs": [
    {
     "name": "stdout",
     "output_type": "stream",
     "text": [
      "[[ 1.64084257  1.73985329 -0.40436881]\n",
      " [-1.21210161  0.56489944  0.93753172]]\n",
      "(2, 3)\n",
      "float64\n"
     ]
    }
   ],
   "source": [
    "data = np.random.randn(2, 3) #生成一个2行3列的随机数数组\n",
    "print(data)\n",
    "print(data.shape) #输出数组的形状\n",
    "print(data.dtype) #输出数组的数据类型"
   ]
  },
  {
   "cell_type": "markdown",
   "id": "48e773bb",
   "metadata": {},
   "source": [
    "生成ndarray"
   ]
  },
  {
   "cell_type": "code",
   "execution_count": 32,
   "id": "e8866d1c",
   "metadata": {},
   "outputs": [
    {
     "name": "stdout",
     "output_type": "stream",
     "text": [
      "[6.  7.5 8.  0.  1. ]\n",
      "[[1 2 3 4]\n",
      " [5 6 7 8]]\n",
      "2\n",
      "(2, 4)\n",
      "int64\n"
     ]
    }
   ],
   "source": [
    "data1 = [6, 7.5, 8, 0, 1]\n",
    "arr1 = np.array(data1) #将列表转换为ndarray\n",
    "print(arr1)\n",
    "\n",
    "data2 =[[1, 2, 3, 4], [5, 6, 7, 8]] #将嵌套列表转换为ndarray\n",
    "arr2 = np.array(data2)\n",
    "print(arr2)\n",
    "print(arr2.ndim)\n",
    "print(arr2.shape)\n",
    "print(arr2.dtype)"
   ]
  },
  {
   "cell_type": "code",
   "execution_count": 33,
   "id": "ecb7e0a9",
   "metadata": {},
   "outputs": [
    {
     "name": "stdout",
     "output_type": "stream",
     "text": [
      "[0. 0. 0. 0. 0. 0. 0. 0. 0. 0.]\n",
      "[[0. 0. 0. 0. 0. 0.]\n",
      " [0. 0. 0. 0. 0. 0.]\n",
      " [0. 0. 0. 0. 0. 0.]]\n",
      "[[[440.49722222  33.72222222]\n",
      "  [449.73722222  33.72222222]\n",
      "  [458.97722222  33.72222222]]\n",
      "\n",
      " [[458.97722222 403.32222222]\n",
      "  [449.73722222 403.32222222]\n",
      "  [440.49722222 403.32222222]]]\n",
      "[ 0  1  2  3  4  5  6  7  8  9 10 11 12 13 14]\n",
      "[5 6 7]\n",
      "[ 5  8 11 14 17]\n"
     ]
    }
   ],
   "source": [
    "print(np.zeros(10)) #生成一个包含10个0的ndarray\n",
    "print(np.zeros((3, 6))) #生成一个3行6列的ndarray，元素为0\n",
    "print(np.empty((2, 3, 2))) #生成一个2行3列2层的ndarray，元素为0，有可能不安全，有时候返回未初始化的垃圾数值\n",
    "print(np.arange(15)) #生成一个包含0到14的ndarray\n",
    "print(np.arange(5,8)) #生成一个包含5到7的ndarray\n",
    "print(np.arange(5,20,3)) #生成一个包含5到19，步长为3的ndarray"
   ]
  },
  {
   "cell_type": "markdown",
   "id": "8ca9b39d",
   "metadata": {},
   "source": [
    "ndarray的数据类型"
   ]
  },
  {
   "cell_type": "code",
   "execution_count": 34,
   "id": "7ee9569c",
   "metadata": {},
   "outputs": [
    {
     "name": "stdout",
     "output_type": "stream",
     "text": [
      "float64\n",
      "int32\n",
      "int64\n",
      "[1. 2. 3. 4. 5.]\n",
      "float64\n"
     ]
    }
   ],
   "source": [
    "arr1 = np.array([1, 2, 3], dtype=np.float64) #指定数据类型为float64\n",
    "arr2 = np.array([1, 2, 3], dtype=np.int32) #指定数据类型为int32\n",
    "\n",
    "print(arr1.dtype)\n",
    "print(arr2.dtype)\n",
    "\n",
    "arr = np.array([1, 2, 3, 4, 5])\n",
    "print(arr.dtype) #输出当前数据类型\n",
    "float_arr = arr.astype(np.float64) #将数据类型转换为float64\n",
    "print(float_arr)\n",
    "print(float_arr.dtype)"
   ]
  },
  {
   "cell_type": "markdown",
   "id": "7a63101c",
   "metadata": {},
   "source": [
    "如果把浮点数转换为整数则小数点后的部分被消除"
   ]
  },
  {
   "cell_type": "markdown",
   "id": "b1e06a6b",
   "metadata": {},
   "source": [
    "## Numpy 数组算术"
   ]
  },
  {
   "cell_type": "markdown",
   "id": "57c41d03",
   "metadata": {},
   "source": [
    "对应元素逐个进行运算"
   ]
  },
  {
   "cell_type": "code",
   "execution_count": 35,
   "id": "71af6094",
   "metadata": {},
   "outputs": [
    {
     "name": "stdout",
     "output_type": "stream",
     "text": [
      "[[1 2 3]\n",
      " [4 5 6]]\n",
      "[[ 1  4  9]\n",
      " [16 25 36]]\n",
      "[[0 0 0]\n",
      " [0 0 0]]\n",
      "[[1.         0.5        0.33333333]\n",
      " [0.25       0.2        0.16666667]]\n",
      "[[ 1  4  9]\n",
      " [16 25 36]]\n",
      "[[ 0  4  1]\n",
      " [ 7  2 12]]\n",
      "[[False  True False]\n",
      " [ True False  True]]\n"
     ]
    }
   ],
   "source": [
    "arr = np.array([[1, 2, 3], [4, 5, 6]])\n",
    "print(arr)\n",
    "print(arr * arr) #对应元素相乘\n",
    "print(arr - arr) #对应元素相减\n",
    "print(1 / arr) #对应元素相除\n",
    "print(arr ** 2) #对应元素平方\n",
    "arr2 = np.array([[0, 4, 1], [7, 2, 12]])\n",
    "print(arr2)\n",
    "print(arr2 > arr) #对应元素进行比较，返回布尔值数组"
   ]
  },
  {
   "cell_type": "markdown",
   "id": "14045c50",
   "metadata": {},
   "source": [
    "## 基础索引与切片"
   ]
  },
  {
   "cell_type": "code",
   "execution_count": 36,
   "id": "a33fb858",
   "metadata": {},
   "outputs": [
    {
     "name": "stdout",
     "output_type": "stream",
     "text": [
      "[0 1 2 3 4 5 6 7 8 9]\n",
      "5\n",
      "[5 6 7]\n",
      "[ 0  1  2  3  4 12 12 12  8  9]\n",
      "[12 12 12]\n",
      "[    0     1     2     3     4    12 12345    12     8     9]\n",
      "[ 0  1  2  3  4 64 64 64  8  9]\n"
     ]
    }
   ],
   "source": [
    "arr = np.arange(10)\n",
    "print(arr)\n",
    "print(arr[5]) #索引第6个元素\n",
    "print(arr[5:8]) #切片第6到8个元素\n",
    "arr[5:8] = 12 #将第6到8个元素赋值为12\n",
    "print(arr)\n",
    "arr_slice = arr[5:8] #将切片赋值给一个新变量\n",
    "print(arr_slice)\n",
    "arr_slice[1] = 12345 #修改切片中的元素\n",
    "print(arr) #原数组也被修改了，因为切片是原数组的视图\n",
    "arr_slice[:] = 64 #将切片中的所有元素赋值为64\n",
    "print(arr) #原数组也被修改了"
   ]
  },
  {
   "cell_type": "markdown",
   "id": "4efbcb46",
   "metadata": {},
   "source": [
    "如果传入了一个数值给数组的切片，数值被传递给了整个切片，区别于Python的内建列表，数组的切片是原数组的**视图**\n",
    "\n",
    "如果想要拷贝："
   ]
  },
  {
   "cell_type": "code",
   "execution_count": 37,
   "id": "dc2b9275",
   "metadata": {},
   "outputs": [
    {
     "name": "stdout",
     "output_type": "stream",
     "text": [
      "[ 0  1  2  3  4 64 64 64  8  9]\n"
     ]
    }
   ],
   "source": [
    "#使用copy方法创建切片的副本\n",
    "arr_slice = arr[5:8].copy()\n",
    "arr_slice[1] = 12345\n",
    "print(arr) #原数组没有被修改"
   ]
  },
  {
   "cell_type": "markdown",
   "id": "e4cb442e",
   "metadata": {},
   "source": [
    "## 布尔索引"
   ]
  },
  {
   "cell_type": "code",
   "execution_count": 38,
   "id": "9d8fc294",
   "metadata": {},
   "outputs": [
    {
     "name": "stdout",
     "output_type": "stream",
     "text": [
      "['Bob' 'Joe' 'Will' 'Bob' 'Will' 'Joe' 'Joe']\n",
      "[[ 1.98035889 -0.14063372 -0.5404145  -0.13409905]\n",
      " [ 1.11540914 -0.30698031 -0.77362348 -0.01646606]\n",
      " [ 0.53920263 -1.23783719  0.5808682  -0.39477602]\n",
      " [-0.78932005  1.82488473  0.39211308 -1.83054916]\n",
      " [-0.43050898  1.114546    1.07013958 -1.15989066]\n",
      " [-0.21114431 -1.83782182  0.36218474 -0.51076513]\n",
      " [-1.37259636 -0.86586082  0.14125782  0.84858485]]\n",
      "[ True False False  True False False False]\n",
      "[[ 1.98035889 -0.14063372 -0.5404145  -0.13409905]\n",
      " [-0.78932005  1.82488473  0.39211308 -1.83054916]]\n",
      "[[-0.5404145  -0.13409905]\n",
      " [ 0.39211308 -1.83054916]]\n",
      "[-0.13409905 -1.83054916]\n",
      "[[ 1.11540914 -0.30698031 -0.77362348 -0.01646606]\n",
      " [ 0.53920263 -1.23783719  0.5808682  -0.39477602]\n",
      " [-0.43050898  1.114546    1.07013958 -1.15989066]\n",
      " [-0.21114431 -1.83782182  0.36218474 -0.51076513]\n",
      " [-1.37259636 -0.86586082  0.14125782  0.84858485]]\n",
      "[[ 1.11540914 -0.30698031 -0.77362348 -0.01646606]\n",
      " [ 0.53920263 -1.23783719  0.5808682  -0.39477602]\n",
      " [-0.43050898  1.114546    1.07013958 -1.15989066]\n",
      " [-0.21114431 -1.83782182  0.36218474 -0.51076513]\n",
      " [-1.37259636 -0.86586082  0.14125782  0.84858485]]\n",
      "[ True False  True  True  True False False]\n",
      "[[ 1.98035889 -0.14063372 -0.5404145  -0.13409905]\n",
      " [ 0.53920263 -1.23783719  0.5808682  -0.39477602]\n",
      " [-0.78932005  1.82488473  0.39211308 -1.83054916]\n",
      " [-0.43050898  1.114546    1.07013958 -1.15989066]]\n",
      "[-0.14063372 -0.5404145  -0.13409905 -0.30698031 -0.77362348 -0.01646606\n",
      " -1.23783719 -0.39477602 -0.78932005 -1.83054916 -0.43050898 -1.15989066\n",
      " -0.21114431 -1.83782182 -0.51076513 -1.37259636 -0.86586082]\n"
     ]
    }
   ],
   "source": [
    "names = np.array(['Bob', 'Joe', 'Will', 'Bob', 'Will', 'Joe', 'Joe'])\n",
    "data = np.random.randn(7, 4) #生成一个7行4列的随机数数组\n",
    "print(names)\n",
    "print(data)\n",
    "print(names == 'Bob') #返回一个布尔值数组，表示每个元素是否等于'Bob'\n",
    "print(data[names == 'Bob']) #使用布尔值数组进行索引，返回对应行\n",
    "print(data[names == 'Bob', 2:]) #返回对应行的第3列及之后的列\n",
    "print(data[names == 'Bob', 3]) #返回对应行的第4列\n",
    "print(data[names != 'Bob']) #返回不等于'Bob'的行\n",
    "cond = names == 'Bob' #将布尔值数组赋值给一个变量\n",
    "print(data[~cond]) #使用~操作符取反，返回不等于'Bob'的行\n",
    "mask = (names == 'Bob') | (names == 'Will') #使用|操作符进行或运算\n",
    "print(mask)\n",
    "print(data[mask]) #返回等于'Bob'或'Will'的行\n",
    "print(data[data < 0]) #返回所有小于0的元素"
   ]
  },
  {
   "cell_type": "markdown",
   "id": "f22c5b51",
   "metadata": {},
   "source": [
    "## 神奇索引：用整数数组进行数据索引"
   ]
  },
  {
   "cell_type": "code",
   "execution_count": 39,
   "id": "f83203db",
   "metadata": {},
   "outputs": [
    {
     "name": "stdout",
     "output_type": "stream",
     "text": [
      "[[0. 0. 0. 0.]\n",
      " [1. 1. 1. 1.]\n",
      " [2. 2. 2. 2.]\n",
      " [3. 3. 3. 3.]\n",
      " [4. 4. 4. 4.]\n",
      " [5. 5. 5. 5.]\n",
      " [6. 6. 6. 6.]\n",
      " [7. 7. 7. 7.]]\n",
      "[[4. 4. 4. 4.]\n",
      " [3. 3. 3. 3.]\n",
      " [0. 0. 0. 0.]\n",
      " [6. 6. 6. 6.]]\n",
      "[[5. 5. 5. 5.]\n",
      " [3. 3. 3. 3.]\n",
      " [1. 1. 1. 1.]]\n",
      "[[ 0  1  2  3]\n",
      " [ 4  5  6  7]\n",
      " [ 8  9 10 11]\n",
      " [12 13 14 15]\n",
      " [16 17 18 19]\n",
      " [20 21 22 23]\n",
      " [24 25 26 27]\n",
      " [28 29 30 31]]\n",
      "[ 4 23 29 10]\n",
      "[[ 4  7  5  6]\n",
      " [20 23 21 22]\n",
      " [28 31 29 30]\n",
      " [ 8 11  9 10]]\n"
     ]
    }
   ],
   "source": [
    "arr = np.empty((8, 4)) #生成一个8行4列的空数组\n",
    "for i in range(8):\n",
    "\tarr[i] = i #将每行赋值为行号\n",
    "print(arr)\n",
    "arr2 = arr[[4, 3, 0, 6]] #使用整数数组进行索引，返回指定行\n",
    "print(arr2)\n",
    "arr3 = arr[[-3, -5, -7]] #使用负数索引，返回倒数第3、第5、第7行\n",
    "print(arr3)\n",
    "arr4 = np.arange(32).reshape((8, 4)) #生成一个8行4列的数组，元素为0到31\n",
    "print(arr4)\n",
    "print(arr4[[1, 5, 7, 2], [0, 3, 1, 2]]) #返回(1,0)、(5,3)、(7,1)、(2,2)位置的元素\n",
    "print(arr4[[1, 5, 7, 2]][:, [0, 3, 1, 2]]) #先选取行，再选取列"
   ]
  },
  {
   "cell_type": "markdown",
   "id": "3455837e",
   "metadata": {},
   "source": [
    "## 数据转置和换轴"
   ]
  },
  {
   "cell_type": "code",
   "execution_count": 40,
   "id": "cba0cfef",
   "metadata": {},
   "outputs": [
    {
     "name": "stdout",
     "output_type": "stream",
     "text": [
      "[[ 0  1  2  3  4]\n",
      " [ 5  6  7  8  9]\n",
      " [10 11 12 13 14]]\n",
      "[[ 0  5 10]\n",
      " [ 1  6 11]\n",
      " [ 2  7 12]\n",
      " [ 3  8 13]\n",
      " [ 4  9 14]]\n",
      "[[ 0.85564288 -0.04252568 -0.20778933]\n",
      " [ 0.54632906  1.16012903 -1.4003428 ]\n",
      " [-0.53398872  0.54562641 -1.31735199]\n",
      " [ 0.26953311 -0.57490285  0.50903106]\n",
      " [ 0.48322556 -0.70564274  0.98810074]\n",
      " [-0.13515452  0.7247361  -0.27933006]]\n",
      "[[ 1.64016592 -0.28782427  0.41303866]\n",
      " [-0.28782427  2.99910336 -3.52685409]\n",
      " [ 0.41303866 -3.52685409  5.0530336 ]]\n",
      "[[[ 0  1  2  3]\n",
      "  [ 4  5  6  7]]\n",
      "\n",
      " [[ 8  9 10 11]\n",
      "  [12 13 14 15]]]\n",
      "[[[ 0  1  2  3]\n",
      "  [ 8  9 10 11]]\n",
      "\n",
      " [[ 4  5  6  7]\n",
      "  [12 13 14 15]]]\n",
      "[[[ 0  4]\n",
      "  [ 1  5]\n",
      "  [ 2  6]\n",
      "  [ 3  7]]\n",
      "\n",
      " [[ 8 12]\n",
      "  [ 9 13]\n",
      "  [10 14]\n",
      "  [11 15]]]\n"
     ]
    }
   ],
   "source": [
    "arr = np.arange(15).reshape((3, 5)) #生成一个3行5列的数组，元素为0到14\n",
    "print(arr)\n",
    "print(arr.T) #转置数组\n",
    "arr2 = np.random.randn(6, 3) #生成一个6行3列的随机数数组\n",
    "print(arr2)\n",
    "print(np.dot(arr2.T, arr2)) #计算arr2的转置与arr2的矩阵乘积  dot函数用于矩阵乘法\n",
    "\n",
    "arr = np.arange(16).reshape((2, 2, 4)) #生成一个2层2行4列的数组，元素为0到15\n",
    "print(arr)\n",
    "print(arr.transpose((1, 0, 2))) #换轴操作，将第0轴和第1轴交换\n",
    "print(arr.swapaxes(1, 2)) #换轴操作，将第1轴和第2轴交换(返回的是数据的视图，没有对数据进行复制)"
   ]
  },
  {
   "cell_type": "markdown",
   "id": "bd43714d",
   "metadata": {},
   "source": [
    "## ufunc：通用函数：快速的逐元素数组函数\n",
    "\n",
    "在ndarray数据中进行逐元素操作的函数，一些函数接收一个或多个标量数值，产生一个或多个标量数值，而通用函数就是对这些函数的向量化封装"
   ]
  },
  {
   "cell_type": "code",
   "execution_count": 41,
   "id": "0e22337e",
   "metadata": {},
   "outputs": [
    {
     "name": "stdout",
     "output_type": "stream",
     "text": [
      "[0.         1.         1.41421356 1.73205081 2.         2.23606798\n",
      " 2.44948974 2.64575131 2.82842712 3.        ]\n",
      "[1.00000000e+00 2.71828183e+00 7.38905610e+00 2.00855369e+01\n",
      " 5.45981500e+01 1.48413159e+02 4.03428793e+02 1.09663316e+03\n",
      " 2.98095799e+03 8.10308393e+03]\n",
      "[-0.23709495 -0.38832568  0.07463109 -1.55137234  0.15763095 -0.41989319\n",
      "  0.85626961 -0.91794876]\n",
      "[ 0.7114246  -1.13200916 -0.22686387 -0.64071955  0.25046985  0.81132538\n",
      "  0.60929907  1.14051438]\n",
      "[ 0.7114246  -0.38832568  0.07463109 -0.64071955  0.25046985  0.81132538\n",
      "  0.85626961  1.14051438]\n",
      "[-6.68713146  3.99247098  5.60016076  7.01587543  7.07052105  7.1678285\n",
      "  1.59165592]\n",
      "[-0.68713146  0.99247098  0.60016076  0.01587543  0.07052105  0.1678285\n",
      "  0.59165592]\n",
      "[-6.  3.  5.  7.  7.  7.  1.]\n",
      "[-6.68713146  3.99247098  5.60016076  7.01587543  7.07052105  7.1678285\n",
      "  1.59165592]\n"
     ]
    }
   ],
   "source": [
    "arr = np.arange(10)\n",
    "print(np.sqrt(arr)) #计算平方根\n",
    "print(np.exp(arr)) #计算e的指数次幂\n",
    "\n",
    "x = np.random.randn(8)\n",
    "y = np.random.randn(8)\n",
    "print(x)\n",
    "print(y)\n",
    "print(np.maximum(x, y)) #逐元素比较，返回较大值组成的新数组\n",
    "\n",
    "arr = np.random.randn(7) * 5\n",
    "print(arr)\n",
    "remainder, whole_part = np.modf(arr) #将小数部分和整数部分分开\n",
    "print(remainder) #小数部分\n",
    "print(whole_part) #整数部分\n",
    "print(arr) #原数组没有被修改"
   ]
  },
  {
   "cell_type": "markdown",
   "id": "8be32fa1",
   "metadata": {},
   "source": [
    "一些可用的通用函数："
   ]
  },
  {
   "cell_type": "code",
   "execution_count": 42,
   "id": "38a4bfb8",
   "metadata": {},
   "outputs": [
    {
     "name": "stderr",
     "output_type": "stream",
     "text": [
      "/tmp/ipykernel_2297/208123816.py:3: RuntimeWarning: invalid value encountered in sqrt\n",
      "  np.sqrt(arr) #计算平方根\n",
      "/tmp/ipykernel_2297/208123816.py:6: RuntimeWarning: invalid value encountered in log\n",
      "  np.log(arr) #计算自然对数\n",
      "/tmp/ipykernel_2297/208123816.py:7: RuntimeWarning: invalid value encountered in log10\n",
      "  np.log10(arr) #计算以10为底的对数\n",
      "/tmp/ipykernel_2297/208123816.py:8: RuntimeWarning: invalid value encountered in log2\n",
      "  np.log2(arr) #计算以2为底的对数\n",
      "/tmp/ipykernel_2297/208123816.py:9: RuntimeWarning: invalid value encountered in log1p\n",
      "  np.log1p(arr) #计算log(1 + x)\n"
     ]
    },
    {
     "data": {
      "text/plain": [
       "array([False, False, False, False, False, False, False])"
      ]
     },
     "execution_count": 42,
     "metadata": {},
     "output_type": "execute_result"
    }
   ],
   "source": [
    "np.abs(arr) #计算绝对值\n",
    "np.fabs(arr) #计算绝对值\n",
    "np.sqrt(arr) #计算平方根\n",
    "np.square(arr) #计算平方\n",
    "np.exp(arr) #计算e的指数次幂\n",
    "np.log(arr) #计算自然对数\n",
    "np.log10(arr) #计算以10为底的对数\n",
    "np.log2(arr) #计算以2为底的对数\n",
    "np.log1p(arr) #计算log(1 + x)\n",
    "np.sign(arr) #计算符号函数，返回-1, 0, 1\n",
    "np.ceil(arr) #向上取整\n",
    "np.floor(arr) #向下取整\n",
    "np.rint(arr) #四舍五入取整\n",
    "np.modf(arr) #将小数部分和整数部分分开，返回两个数组\n",
    "np.isnan(arr) #判断是否为NaN，返回布尔值数组\n",
    "np.isfinite(arr) #判断是否为有限数，返回布尔值数组\n",
    "np.isinf(arr) #判断是否为无穷大，返回布尔值数组\n",
    "np.cos(arr) #计算余弦\n",
    "np.nan_to_num(arr) #将NaN替换为0，无穷大替换为最大有限数，无穷小替换为最小有限数\n",
    "np.logical_not(arr) #逐元素取反，返回布尔值数组"
   ]
  },
  {
   "cell_type": "markdown",
   "id": "25eb9979",
   "metadata": {},
   "source": [
    "二元通用函数；"
   ]
  },
  {
   "cell_type": "code",
   "execution_count": 43,
   "id": "bc908022",
   "metadata": {},
   "outputs": [
    {
     "data": {
      "text/plain": [
       "array([False, False, False, False, False])"
      ]
     },
     "execution_count": 43,
     "metadata": {},
     "output_type": "execute_result"
    }
   ],
   "source": [
    "x = np.array([1, 5, 9, 3.5, 6])\n",
    "y = np.array([2, 6, 1, 4.5, 3])\n",
    "np.add(x, y) #逐元素相加\n",
    "np.subtract(x, y) #逐元素相减\n",
    "np.multiply(x, y) #逐元素相乘\n",
    "np.divide(x, y) #逐元素相除\n",
    "np.floor_divide(x, y) #逐元素向下取整除\n",
    "np.power(x, y) #逐元素幂运算\n",
    "np.mod(x, y) #逐元素取模\n",
    "np.fmod(x, y) #逐元素取模\n",
    "np.copysign(x, y) #将y的符号赋给x，返回新的数组\n",
    "np.greater(x, y) #逐元素比较，返回布尔值数组\n",
    "np.greater_equal(x, y) #逐元素比较，返回布尔值数组\n",
    "np.less(x, y) #逐元素比较，返回布尔值数组\n",
    "np.less_equal(x, y) #逐元素比较，返回布尔值数组\n",
    "np.equal(x, y) #逐元素比较，返回布尔值数组\n",
    "np.not_equal(x, y) #逐元素比较，返回布尔值数组\n",
    "np.logical_and(x, y) #逐元素逻辑与，返回布尔值数组\n",
    "np.logical_or(x, y) #逐元素逻辑或，返回布尔值数组\n",
    "np.logical_xor(x, y) #逐元素逻辑异或，返回布尔值数组"
   ]
  },
  {
   "cell_type": "markdown",
   "id": "3205d001",
   "metadata": {},
   "source": [
    "## 使用数组进行面向数组编程"
   ]
  },
  {
   "cell_type": "code",
   "execution_count": 44,
   "id": "a58c80b5",
   "metadata": {},
   "outputs": [
    {
     "name": "stdout",
     "output_type": "stream",
     "text": [
      "[[-5.   -4.99 -4.98 ...  4.97  4.98  4.99]\n",
      " [-5.   -4.99 -4.98 ...  4.97  4.98  4.99]\n",
      " [-5.   -4.99 -4.98 ...  4.97  4.98  4.99]\n",
      " ...\n",
      " [-5.   -4.99 -4.98 ...  4.97  4.98  4.99]\n",
      " [-5.   -4.99 -4.98 ...  4.97  4.98  4.99]\n",
      " [-5.   -4.99 -4.98 ...  4.97  4.98  4.99]]\n",
      "[[-5.   -5.   -5.   ... -5.   -5.   -5.  ]\n",
      " [-4.99 -4.99 -4.99 ... -4.99 -4.99 -4.99]\n",
      " [-4.98 -4.98 -4.98 ... -4.98 -4.98 -4.98]\n",
      " ...\n",
      " [ 4.97  4.97  4.97 ...  4.97  4.97  4.97]\n",
      " [ 4.98  4.98  4.98 ...  4.98  4.98  4.98]\n",
      " [ 4.99  4.99  4.99 ...  4.99  4.99  4.99]]\n",
      "[[7.07106781 7.06400028 7.05693985 ... 7.04988652 7.05693985 7.06400028]\n",
      " [7.06400028 7.05692568 7.04985815 ... 7.04279774 7.04985815 7.05692568]\n",
      " [7.05693985 7.04985815 7.04278354 ... 7.03571603 7.04278354 7.04985815]\n",
      " ...\n",
      " [7.04988652 7.04279774 7.03571603 ... 7.0286414  7.03571603 7.04279774]\n",
      " [7.05693985 7.04985815 7.04278354 ... 7.03571603 7.04278354 7.04985815]\n",
      " [7.06400028 7.05692568 7.04985815 ... 7.04279774 7.04985815 7.05692568]]\n"
     ]
    },
    {
     "data": {
      "image/png": "[encoded data removed]",
      "text/plain": [
       "<Figure size 640x480 with 2 Axes>"
      ]
     },
     "metadata": {},
     "output_type": "display_data"
    }
   ],
   "source": [
    "points = np.arange(-5, 5, 0.01) #生成一个包含-5到5，步长为0.01的数组\n",
    "\n",
    "xs, ys = np.meshgrid(points, points) #生成网格点坐标矩阵\n",
    "print(xs)\n",
    "print(ys)\n",
    "\n",
    "z = np.sqrt(xs ** 2 + ys ** 2) #计算每个点的距离\n",
    "print(z)\n",
    "\n",
    "import matplotlib.pyplot as plt\n",
    "\n",
    "plt.imshow(z, cmap=plt.cm.gray); plt.colorbar() #显示图像\n",
    "plt.title(\"Image plot of $\\sqrt{x^2 + y^2}$ for a grid of values\") #添加标题\n",
    "plt.show()"
   ]
  },
  {
   "cell_type": "markdown",
   "id": "dd432f5b",
   "metadata": {},
   "source": [
    "### 将条件逻辑作为数组操作"
   ]
  },
  {
   "cell_type": "code",
   "execution_count": 45,
   "id": "37686633",
   "metadata": {},
   "outputs": [
    {
     "name": "stdout",
     "output_type": "stream",
     "text": [
      "[1.1 2.2 1.3 1.4 2.5]\n",
      "[[-1.05810338  0.40840437  0.65085905 -1.52221584]\n",
      " [-1.41211195 -1.43216308  0.31890844 -0.48538408]\n",
      " [-1.08059948 -2.01702599 -0.95373316  0.84718508]\n",
      " [ 1.19930587 -0.38397758 -1.126295   -0.93178648]]\n",
      "[[False  True  True False]\n",
      " [False False  True False]\n",
      " [False False False  True]\n",
      " [ True False False False]]\n",
      "[[-2  2  2 -2]\n",
      " [-2 -2  2 -2]\n",
      " [-2 -2 -2  2]\n",
      " [ 2 -2 -2 -2]]\n",
      "[[-1.05810338  2.          2.         -1.52221584]\n",
      " [-1.41211195 -1.43216308  2.         -0.48538408]\n",
      " [-1.08059948 -2.01702599 -0.95373316  2.        ]\n",
      " [ 2.         -0.38397758 -1.126295   -0.93178648]]\n"
     ]
    }
   ],
   "source": [
    "xarr = np.array([1.1, 1.2, 1.3, 1.4, 1.5])\n",
    "yarr = np.array([2.1, 2.2, 2.3, 2.4, 2.5])\n",
    "cond = np.array([True, False, True, True, False])\n",
    "result = np.where(cond, xarr, yarr) #根据条件选择xarr或yarr的元素\n",
    "print(result)\n",
    "\n",
    "arr = np.random.randn(4, 4) #生成一个4行4列的随机数数组\n",
    "print(arr)\n",
    "print(arr > 0) #返回布尔值数组，表示每个元素是否大于0\n",
    "print(np.where(arr > 0, 2, -2)) #根据条件选择2或-2\n",
    "print(np.where(arr > 0, 2, arr)) #根据条件选择2或原数组的元素"
   ]
  },
  {
   "cell_type": "markdown",
   "id": "1b44bc21",
   "metadata": {},
   "source": [
    "### 数学与统计方法"
   ]
  },
  {
   "cell_type": "code",
   "execution_count": 46,
   "id": "79299f76",
   "metadata": {},
   "outputs": [
    {
     "name": "stdout",
     "output_type": "stream",
     "text": [
      "[[-4.56196045e-01 -1.03258401e+00 -1.02859810e+00  9.39423207e-01]\n",
      " [-1.58930551e-01 -1.52660799e+00 -3.79433794e-01 -1.44788821e-02]\n",
      " [ 6.05484532e-02 -6.64180771e-01  8.22934619e-01 -5.82553474e-01]\n",
      " [ 1.77842639e+00  6.92280340e-01  1.36219508e+00 -7.95597059e-04]\n",
      " [ 5.82077114e-01 -8.25182157e-01 -9.18408324e-01 -1.04176122e+00]]\n",
      "-0.11959128568847315\n",
      "-0.11959128568847315\n",
      "-2.391825713769463\n",
      "-2.391825713769463\n",
      "[ 0.36118507 -0.67125492 -0.0282621  -0.14003319]\n",
      "[-1.57795495 -2.07945122 -0.36325117  3.83210621 -2.20327458]\n",
      "[ 0  1  3  6 10 15 21 28]\n",
      "[0 0 0 0 0 0 0 0]\n",
      "[[0 1 2]\n",
      " [3 4 5]\n",
      " [6 7 8]]\n",
      "[[ 0  1  2]\n",
      " [ 3  5  7]\n",
      " [ 9 12 15]]\n",
      "[[  0   0   0]\n",
      " [  3  12  60]\n",
      " [  6  42 336]]\n"
     ]
    }
   ],
   "source": [
    "arr = np.random.randn(5, 4) #生成一个5行4列的随机数数组\n",
    "print(arr)\n",
    "print(arr.mean()) #计算所有元素的平均值\n",
    "print(np.mean(arr)) #计算所有元素的平均值\n",
    "print(arr.sum()) #计算所有元素的和\n",
    "print(np.sum(arr)) #计算所有元素的和\n",
    "print(arr.mean(axis=0)) #计算每列的平均值\n",
    "print(arr.sum(axis=1)) #计算每行的和\n",
    "\n",
    "arr = np.array([0, 1, 2, 3, 4, 5, 6, 7])\n",
    "print(arr.cumsum()) #计算累积和，不会聚合，会产生中间结果\n",
    "print(arr.cumprod()) #计算累积积\n",
    "arr = np.array([[0, 1, 2], [3, 4, 5], [6, 7, 8]])\n",
    "print(arr)\n",
    "print(arr.cumsum(axis=0)) #计算每列的累积和\n",
    "print(arr.cumprod(axis=1)) #计算每行的累积积"
   ]
  },
  {
   "cell_type": "markdown",
   "id": "1f85c2c7",
   "metadata": {},
   "source": [
    "### 布尔值数组的方法"
   ]
  },
  {
   "cell_type": "code",
   "execution_count": 47,
   "id": "e0d8661b",
   "metadata": {},
   "outputs": [
    {
     "name": "stdout",
     "output_type": "stream",
     "text": [
      "51\n",
      "49\n",
      "True\n",
      "False\n"
     ]
    }
   ],
   "source": [
    "arr = np.random.randn(100) #生成一个包含100个随机数的数组\n",
    "print((arr > 0).sum()) #计算大于0的元素个数\n",
    "print((arr < 0).sum()) #计算小于0的元素个数\n",
    "\n",
    "bools = np.array([False, False, True, False])\n",
    "print(bools.any()) #判断是否有任何一个元素为True\n",
    "print(bools.all()) #判断是否所有元素都为True"
   ]
  },
  {
   "cell_type": "markdown",
   "id": "bb320294",
   "metadata": {},
   "source": [
    "### 排序"
   ]
  },
  {
   "cell_type": "code",
   "execution_count": 48,
   "id": "0c4a60f0",
   "metadata": {},
   "outputs": [
    {
     "name": "stdout",
     "output_type": "stream",
     "text": [
      "[-1.74389245 -1.81873424 -0.29307827  0.70749271 -1.04451242  0.84115949]\n",
      "[-1.81873424 -1.74389245 -1.04451242 -0.29307827  0.70749271  0.84115949]\n",
      "[[-0.13705867 -0.40960564 -0.75919113]\n",
      " [-0.67901445 -0.49249258 -0.3500471 ]\n",
      " [ 1.57511107  0.5882187  -1.1146488 ]\n",
      " [-0.26101429 -0.39168183 -0.89654198]\n",
      " [-0.10381368 -0.4742314  -0.82086332]]\n",
      "[[-0.75919113 -0.40960564 -0.13705867]\n",
      " [-0.67901445 -0.49249258 -0.3500471 ]\n",
      " [-1.1146488   0.5882187   1.57511107]\n",
      " [-0.89654198 -0.39168183 -0.26101429]\n",
      " [-0.82086332 -0.4742314  -0.10381368]]\n",
      "[[-1.1146488  -0.49249258 -0.3500471 ]\n",
      " [-0.89654198 -0.4742314  -0.26101429]\n",
      " [-0.82086332 -0.40960564 -0.13705867]\n",
      " [-0.75919113 -0.39168183 -0.10381368]\n",
      " [-0.67901445  0.5882187   1.57511107]]\n",
      "-1.7011391243169098\n"
     ]
    }
   ],
   "source": [
    "arr = np.random.randn(6)\n",
    "print(arr)\n",
    "arr.sort() #对数组进行排序\n",
    "print(arr)\n",
    "\n",
    "arr = np.random.randn(5, 3) #生成一个5行3列的随机数数组\n",
    "print(arr)\n",
    "arr.sort(1) #对每行进行排序\n",
    "print(arr)\n",
    "arr.sort(0) #对每列进行排序\n",
    "print(arr)\n",
    "\n",
    "large_arr = np.random.randn(1000) #生成一个包含1000个随机数的数组\n",
    "large_arr.sort() #对数组进行排序\n",
    "print(large_arr[int(0.05 * len(large_arr))]) #获取第5百分位数的值"
   ]
  },
  {
   "cell_type": "markdown",
   "id": "f397a906",
   "metadata": {},
   "source": [
    "### 唯一值与其他集合逻辑"
   ]
  },
  {
   "cell_type": "code",
   "execution_count": 49,
   "id": "874329d4",
   "metadata": {},
   "outputs": [
    {
     "name": "stdout",
     "output_type": "stream",
     "text": [
      "['Bob' 'Joe' 'Will']\n",
      "[1 2 3 4]\n",
      "['Bob', 'Joe', 'Will']\n",
      "[ True False False  True  True False  True]\n"
     ]
    }
   ],
   "source": [
    "names = np.array(['Bob', 'Joe', 'Will', 'Bob', 'Will', 'Joe', 'Joe'])\n",
    "print(np.unique(names)) #返回唯一值组成的新数组\n",
    "ints = np.array([3, 3, 3, 2, 2, 1, 1, 4, 4])\n",
    "print(np.unique(ints)) #返回唯一值组成的新数组\n",
    "print(sorted(set(names))) #使用set函数获取唯一值，再排序\n",
    "\n",
    "values = np.array([6, 0, 0, 3, 2, 5, 6])\n",
    "print(np.in1d(values, [2, 3, 6])) #判断values中的元素是否在[2,3,6]中，返回布尔值数组"
   ]
  },
  {
   "cell_type": "markdown",
   "id": "fe374adf",
   "metadata": {},
   "source": [
    "## 使用数组进行文件输入和输出"
   ]
  },
  {
   "cell_type": "code",
   "execution_count": 50,
   "id": "d2e1a0df",
   "metadata": {},
   "outputs": [
    {
     "name": "stdout",
     "output_type": "stream",
     "text": [
      "[0 1 2 3 4 5 6 7 8 9]\n",
      "[ 2.32802073  0.98967808 -1.31244413 -1.01637524  0.32825724  0.61922737]\n",
      "[ 2.32802073  0.98967808 -1.31244413 -1.01637524  0.32825724  0.61922737]\n",
      "[ 2.32802073  0.98967808 -1.31244413 -1.01637524  0.32825724  0.61922737]\n"
     ]
    }
   ],
   "source": [
    "arr = np.arange(10)\n",
    "np.save('some_array', arr) #将数组保存到文件some_array.npy中\n",
    "arr2 = np.load('some_array.npy') #从文件some_array.npy中加载数组\n",
    "print(arr2)\n",
    "\n",
    "arr = np.random.randn(6)\n",
    "print(arr)\n",
    "np.savez('array_archive.npz', a=arr, b=arr) #将多个数组保存到一个压缩文件中\n",
    "arch = np.load('array_archive.npz') #从压缩文件中加载数组\n",
    "print(arch['a']) #访问保存的数组\n",
    "print(arch['b']) #访问保存的数组"
   ]
  },
  {
   "cell_type": "markdown",
   "id": "47c972cd",
   "metadata": {},
   "source": [
    "## 线性代数"
   ]
  },
  {
   "cell_type": "code",
   "execution_count": 51,
   "id": "dc75740b",
   "metadata": {},
   "outputs": [
    {
     "name": "stdout",
     "output_type": "stream",
     "text": [
      "[[1 2 3]\n",
      " [4 5 6]]\n",
      "[[ 6 23]\n",
      " [-1  7]\n",
      " [ 8  9]]\n",
      "[[ 28  64]\n",
      " [ 67 181]]\n",
      "[[ 28  64]\n",
      " [ 67 181]]\n",
      "[[ 28  64]\n",
      " [ 67 181]]\n",
      "[[ 3.62410648  2.22212408 -0.78346438 -1.08716504  0.20845132]\n",
      " [ 2.22212408  4.64366783  0.3063736  -2.02083479  0.70122984]\n",
      " [-0.78346438  0.3063736   2.01527431 -1.53216889  0.97774037]\n",
      " [-1.08716504 -2.02083479 -1.53216889  8.00519938  0.04706392]\n",
      " [ 0.20845132  0.70122984  0.97774037  0.04706392  2.17087504]]\n",
      "[[ 0.52578779 -0.21348907  0.38189146  0.09151966 -0.15551067]\n",
      " [-0.21348907  0.35188657 -0.07080487  0.04665133 -0.06228737]\n",
      " [ 0.38189146 -0.07080487  1.08941445  0.24549712 -0.50978238]\n",
      " [ 0.09151966  0.04665133  0.24549712  0.19692729 -0.13869583]\n",
      " [-0.15551067 -0.06228737 -0.50978238 -0.13869583  0.7283038 ]]\n",
      "[[ 1.00000000e+00 -1.56125113e-17  1.52655666e-16  1.73472348e-17\n",
      "   0.00000000e+00]\n",
      " [-1.80411242e-16  1.00000000e+00 -5.55111512e-17 -4.16333634e-17\n",
      "  -1.11022302e-16]\n",
      " [-1.38777878e-16 -6.93889390e-18  1.00000000e+00 -2.77555756e-17\n",
      "   1.11022302e-16]\n",
      " [ 6.85215773e-17  2.34187669e-17  1.04083409e-16  1.00000000e+00\n",
      "  -5.55111512e-17]\n",
      " [-1.11022302e-16 -2.77555756e-17 -2.22044605e-16 -1.11022302e-16\n",
      "   1.00000000e+00]]\n",
      "[[-0.81218031  0.47307556 -0.21573924 -0.20284707 -0.16991852]\n",
      " [-0.49798907 -0.74157594  0.42478879 -0.13036322 -0.06805821]\n",
      " [ 0.17557827 -0.34963627 -0.61563866 -0.39705448 -0.55701304]\n",
      " [ 0.2436391   0.28387627  0.52750692 -0.7475457  -0.15154582]\n",
      " [-0.04671498 -0.15307963 -0.34020076 -0.47474379  0.79578019]]\n",
      "[[-4.46219446 -4.58858101  0.41861064  3.56849309 -0.43678067]\n",
      " [ 0.         -3.18053014 -1.88706867  3.78527472 -1.08221187]\n",
      " [ 0.          0.         -2.0823704   4.52616545 -1.06273812]\n",
      " [ 0.          0.          0.         -4.91427039 -1.58770639]\n",
      " [ 0.          0.          0.          0.          1.09264868]]\n"
     ]
    }
   ],
   "source": [
    "x = np.array([[1, 2, 3], [4, 5, 6]])\n",
    "y = np.array([[6, 23], [-1, 7], [8, 9]])\n",
    "print(x)\n",
    "print(y)\n",
    "print(x.dot(y)) #矩阵乘法\n",
    "print(np.dot(x, y)) #矩阵乘法\n",
    "print(x @ y) #矩阵乘法\n",
    "\n",
    "from numpy.linalg import inv, qr\n",
    "\n",
    "X = np.random.randn(5, 5)\n",
    "mat = X.T.dot(X) #计算X的转置与X的矩阵乘积\n",
    "print(mat)\n",
    "print(inv(mat)) #计算矩阵的逆\n",
    "print(mat.dot(inv(mat))) #验证矩阵与其逆的乘积为单位矩阵\n",
    "q, r = qr(mat) #进行QR分解\n",
    "print(q)\n",
    "print(r)"
   ]
  },
  {
   "cell_type": "markdown",
   "id": "5e8698ef",
   "metadata": {},
   "source": [
    "常用numpy.linalg函数："
   ]
  },
  {
   "cell_type": "code",
   "execution_count": 52,
   "id": "3f697c29",
   "metadata": {},
   "outputs": [
    {
     "name": "stderr",
     "output_type": "stream",
     "text": [
      "/tmp/ipykernel_2297/1135300614.py:10: FutureWarning: `rcond` parameter will change to the default of machine precision times ``max(M, N)`` where M and N are the input matrix dimensions.\n",
      "To use the future default and silence this warning we advise to pass `rcond=None`, to keep using the old, explicitly pass `rcond=-1`.\n",
      "  la.lstsq(X, np.eye(5)) #计算最小二乘解\n"
     ]
    },
    {
     "data": {
      "text/plain": [
       "(array([[ 0.16345489, -0.30935633, -0.00363317,  0.31533128,  0.55129115],\n",
       "        [-0.34979383,  0.33956777, -0.01878933, -0.32452163,  0.09250545],\n",
       "        [-0.14847072,  0.09710836, -0.68684146,  0.63956691,  0.42088459],\n",
       "        [-0.37063602, -0.10520303, -0.05440195,  0.18101641,  0.11296919],\n",
       "        [ 0.15863349, -0.51531551, -0.08843549, -0.59288156, -0.27974946]]),\n",
       " array([], dtype=float64),\n",
       " 5,\n",
       " array([3.13453315, 2.28891048, 1.78281616, 1.27127728, 0.77468344]))"
      ]
     },
     "execution_count": 52,
     "metadata": {},
     "output_type": "execute_result"
    }
   ],
   "source": [
    "import numpy.linalg as la \n",
    "np.diag(X) #提取对角线元素，返回一维数组\n",
    "np.diag(np.diag(X)) #将一维数组转换为对角矩阵\n",
    "np.dot(X, X) #矩阵点乘\n",
    "np.trace(X) #计算矩阵的迹，即对角线元素之和\n",
    "la.det(X) #计算矩阵的行列式\n",
    "la.eig(X) #计算矩阵的特征值和特征向量\n",
    "la.svd(X) #计算矩阵的奇异值分解\n",
    "la.solve(X, np.eye(5)) #解线性方程组，等价于inv(X)\n",
    "la.lstsq(X, np.eye(5)) #计算最小二乘解"
   ]
  },
  {
   "cell_type": "markdown",
   "id": "3bdcd6cb",
   "metadata": {},
   "source": [
    "## 伪随机数生成"
   ]
  },
  {
   "cell_type": "code",
   "execution_count": 53,
   "id": "42232021",
   "metadata": {},
   "outputs": [
    {
     "name": "stdout",
     "output_type": "stream",
     "text": [
      "[[-1.32394447  1.27104725  1.71144687  0.19060071]\n",
      " [-0.67707467  0.6650217  -0.78651107  0.85539345]\n",
      " [ 0.74056602  1.01436411 -1.2105531   0.85342553]\n",
      " [-0.26891104  0.83437324  0.29345525  0.63362404]]\n",
      "[[-0.00809221 -0.29394491  1.40442768  0.19662991]\n",
      " [-0.5356608   1.01466235 -0.13719143  0.56030612]\n",
      " [-0.86751792  0.44276931 -0.49980499 -0.76927861]\n",
      " [ 1.49953772 -1.05878091  0.79703443  0.37213582]]\n",
      "None\n",
      "[ 0.47143516 -1.19097569  1.43270697 -0.3126519  -0.72058873  0.88716294\n",
      "  0.85958841 -0.6365235   0.01569637 -2.24268495]\n"
     ]
    }
   ],
   "source": [
    "samples = np.random.normal(size=(4, 4)) #生成一个4行4列的标准正态分布随机数数组\n",
    "print(samples)\n",
    "from numpy.random import randn\n",
    "print(randn(4, 4)) #生成一个4行4列的标准正态分布随机数数组\n",
    "\n",
    "print(np.random.seed(1234)) #设置随机数种子，保证每次生成的随机数相同\n",
    "print(np.random.RandomState(1234).randn(10)) #生成一个十元素标准正态分布随机数数组"
   ]
  },
  {
   "cell_type": "markdown",
   "id": "dce8cea6",
   "metadata": {},
   "source": [
    "numpy.random的部分函数："
   ]
  },
  {
   "cell_type": "code",
   "execution_count": 54,
   "id": "72b277e4",
   "metadata": {},
   "outputs": [
    {
     "data": {
      "text/plain": [
       "array([[2.30154707, 5.54676118, 1.58241709, 0.36113555],\n",
       "       [1.34182708, 2.41398791, 1.0896079 , 0.39096286],\n",
       "       [3.04502764, 1.56686379, 3.04254334, 1.80056202],\n",
       "       [0.23121157, 0.02151064, 0.02662588, 1.20278634]])"
      ]
     },
     "execution_count": 54,
     "metadata": {},
     "output_type": "execute_result"
    }
   ],
   "source": [
    "np.random.seed(1234) #设置随机数种子\n",
    "np.random.permutation(10) #生成一个0到9的随机排列\n",
    "np.random.shuffle(X) #将数组元素随机打乱顺序\n",
    "np.random.rand(3, 2) #生成一个3行2列的均匀分布随机数数组\n",
    "np.random.randint(0, 10, (3, 3)) #生成一个3行3列的0到9的随机整数数组\n",
    "np.random.randn(4, 4) #生成一个4行4列的标准正态分布随机数数组\n",
    "np.random.binomial(10, 0.5, size=10) #生成一个包含10个元素的二项分布随机数数组，参数为n=10，p=0.5\n",
    "np.random.normal(size=(4, 4)) #生成一个4行4列的标准正态分布随机数数组\n",
    "np.random.beta(a=2.0, b=5.0, size=(4, 4)) #生成一个4行4列的Beta分布随机数数组，参数为a=2.0，b=5.0\n",
    "np.random.gamma(shape=2.0, scale=2.0, size=(4, 4)) #生成一个4行4列的Gamma分布随机数数组，参数为shape=2.0，scale=2.0\n",
    "np.random.poisson(lam=3.0, size=(4, 4)) #生成一个4行4列的Poisson分布随机数数组，参数为lam=3.0\n",
    "np.random.exponential(scale=1.0, size=(4, 4)) #生成一个4行4列的指数分布随机数数组，参数为scale=1.0\n",
    "np.random.uniform(low=0.0, high=1.0, size=(4, 4)) #生成一个4行4列的均匀分布随机数数组，参数为low=0.0，high=1.0\n",
    "np.random.chisquare(df=2.0, size=(4, 4)) #生成一个4行4列的卡方分布随机数数组，参数为df=2.0"
   ]
  },
  {
   "cell_type": "code",
   "execution_count": 55,
   "id": "7c9a26cf",
   "metadata": {},
   "outputs": [
    {
     "data": {
      "text/plain": [
       "8499"
      ]
     },
     "execution_count": 55,
     "metadata": {},
     "output_type": "execute_result"
    }
   ],
   "source": [
    "import gc\n",
    "\n",
    "del mask, mat, names, points, q, r, randn, remainder, result, samples, values, whole_part, x, xarr, xs, y, yarr, ys, z\n",
    "gc.collect()"
   ]
  },
  {
   "cell_type": "markdown",
   "id": "cafff770",
   "metadata": {},
   "source": [
    "## 示例：随机漫步"
   ]
  },
  {
   "cell_type": "code",
   "execution_count": 56,
   "id": "105aebb0",
   "metadata": {},
   "outputs": [
    {
     "data": {
      "image/png": "[encoded data removed]",
      "text/plain": [
       "<Figure size 640x480 with 1 Axes>"
      ]
     },
     "metadata": {},
     "output_type": "display_data"
    },
    {
     "name": "stdout",
     "output_type": "stream",
     "text": [
      "73\n"
     ]
    },
    {
     "data": {
      "image/png": "[encoded data removed]",
      "text/plain": [
       "<Figure size 640x480 with 1 Axes>"
      ]
     },
     "metadata": {},
     "output_type": "display_data"
    }
   ],
   "source": [
    "#用random模块实现随机漫步\n",
    "\n",
    "import random\n",
    "\n",
    "position = 0\n",
    "steps = 1000\n",
    "walk = [position]\n",
    "for i in range(steps):\n",
    "\tstep = 1 if random.randint(0, 1) else -1 #随机选择前进一步或后退一步\n",
    "\tposition += step\n",
    "\twalk.append(position)\n",
    "\n",
    "import matplotlib.pyplot as plt\n",
    "\n",
    "plt.plot(walk[:100]) #绘制前100步的随机漫步路径\n",
    "plt.title(\"Random Walk (first 100 steps)\") #添加标题\n",
    "plt.show()\n",
    "\n",
    "#用numpy实现随机漫步\n",
    "\n",
    "nsteps = 1000\n",
    "draws = np.random.randint(0, 2, size=nsteps) #生成一个包含1000个0或1的随机整数数组\n",
    "steps = np.where(draws > 0, 1, -1) #将0替换为-1，1替换为1\n",
    "walk = steps.cumsum() #计算累积和，得到随机漫步路径\n",
    "\n",
    "print((np.abs(walk) >= 10).argmax()) #计算首次到达10或-10的位置\n",
    "plt.plot(walk[:100]) #绘制前100步的随机漫步路径\n",
    "plt.title(\"Random Walk (first 100 steps)\") #添加标题\n",
    "plt.show()\n"
   ]
  },
  {
   "cell_type": "markdown",
   "id": "acd435e4",
   "metadata": {},
   "source": [
    "### 一次性模拟多次随机漫步"
   ]
  },
  {
   "cell_type": "code",
   "execution_count": 57,
   "id": "45fe90ca",
   "metadata": {},
   "outputs": [
    {
     "name": "stdout",
     "output_type": "stream",
     "text": [
      "[123  67  49 ...  75  47  91]\n",
      "5000\n"
     ]
    },
    {
     "data": {
      "image/png": "[encoded data removed]",
      "text/plain": [
       "<Figure size 640x480 with 1 Axes>"
      ]
     },
     "metadata": {},
     "output_type": "display_data"
    }
   ],
   "source": [
    "nwalks = 5000\n",
    "nsteps = 1000\n",
    "draws = np.random.randint(0, 2, size=(nwalks, nsteps)) #生成一个包含5000行1000列的0或1的随机整数数组\n",
    "steps = np.where(draws > 0, 1, -1) #将0替换为-1，1替换为1\n",
    "walks = steps.cumsum(1) #计算每行的累积和，得到5000条随机漫步路径\n",
    "\n",
    "hits10 = (np.abs(walks) >= 10).any(1) #判断每条路径是否到达10或-10\n",
    "print((np.abs(walks[hits10]) >= 10).argmax(1)) #计算每条路径首次到达10或-10的位置\n",
    "print(hits10.sum()) #计算有多少条路径到达10或-10\n",
    "\n",
    "import matplotlib.pyplot as plt\n",
    "\n",
    "plt.plot(walks[0]) #绘制第一条随机漫步路径\n",
    "plt.title(\"Random Walk (first walk)\") #添加标题\n",
    "plt.show()"
   ]
  }
 ],
 "metadata": {
  "kernelspec": {
   "display_name": "py38env",
   "language": "python",
   "name": "python3"
  },
  "language_info": {
   "codemirror_mode": {
    "name": "ipython",
    "version": 3
   },
   "file_extension": ".py",
   "mimetype": "text/x-python",
   "name": "python",
   "nbconvert_exporter": "python",
   "pygments_lexer": "ipython3",
   "version": "3.8.20"
  }
 },
 "nbformat": 4,
 "nbformat_minor": 5
}
