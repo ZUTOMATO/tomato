{
 "cells": [
  {
   "cell_type": "code",
   "execution_count": 1,
   "id": "ec19d9b7",
   "metadata": {},
   "outputs": [],
   "source": [
    "import pandas as pd\n",
    "import numpy as np"
   ]
  },
  {
   "cell_type": "markdown",
   "id": "a2936924",
   "metadata": {},
   "source": [
    "## 处理缺失值"
   ]
  },
  {
   "cell_type": "code",
   "execution_count": 4,
   "id": "39eb158e",
   "metadata": {},
   "outputs": [
    {
     "name": "stdout",
     "output_type": "stream",
     "text": [
      "0     aardvark\n",
      "1    artichoke\n",
      "2          NaN\n",
      "3      avocado\n",
      "dtype: object\n",
      "0    False\n",
      "1    False\n",
      "2     True\n",
      "3    False\n",
      "dtype: bool\n",
      "0     True\n",
      "1    False\n",
      "2     True\n",
      "3    False\n",
      "dtype: bool\n"
     ]
    }
   ],
   "source": [
    "string_data = pd.Series(['aardvark', 'artichoke', np.nan, 'avocado'])\n",
    "print(string_data)\n",
    "print(string_data.isnull())\n",
    "string_data[0] = None\n",
    "print(string_data.isnull())"
   ]
  },
  {
   "cell_type": "markdown",
   "id": "8faedb91",
   "metadata": {},
   "source": [
    "### 过滤缺失值"
   ]
  },
  {
   "cell_type": "code",
   "execution_count": 6,
   "id": "07cf296e",
   "metadata": {},
   "outputs": [
    {
     "name": "stdout",
     "output_type": "stream",
     "text": [
      "0    1.0\n",
      "1    NaN\n",
      "2    3.5\n",
      "3    NaN\n",
      "4    7.0\n",
      "dtype: float64\n",
      "0    1.0\n",
      "2    3.5\n",
      "4    7.0\n",
      "dtype: float64\n",
      "0    1.0\n",
      "2    3.5\n",
      "4    7.0\n",
      "dtype: float64\n"
     ]
    }
   ],
   "source": [
    "from numpy import nan as NA\n",
    "data = pd.Series([1, NA, 3.5, NA, 7])\n",
    "print(data)\n",
    "print(data.dropna())\n",
    "print(data[data.notnull()])"
   ]
  },
  {
   "cell_type": "code",
   "execution_count": 8,
   "id": "306390bd",
   "metadata": {},
   "outputs": [
    {
     "name": "stdout",
     "output_type": "stream",
     "text": [
      "     0    1    2\n",
      "0  1.0  6.5  3.0\n",
      "1  1.0  NaN  NaN\n",
      "2  NaN  NaN  NaN\n",
      "3  NaN  6.5  3.0\n",
      "     0    1    2\n",
      "0  1.0  6.5  3.0\n",
      "     0    1    2\n",
      "0  1.0  6.5  3.0\n",
      "1  1.0  NaN  NaN\n",
      "3  NaN  6.5  3.0\n",
      "     0    1    2   4\n",
      "0  1.0  6.5  3.0 NaN\n",
      "1  1.0  NaN  NaN NaN\n",
      "2  NaN  NaN  NaN NaN\n",
      "3  NaN  6.5  3.0 NaN\n",
      "     0    1    2\n",
      "0  1.0  6.5  3.0\n",
      "1  1.0  NaN  NaN\n",
      "2  NaN  NaN  NaN\n",
      "3  NaN  6.5  3.0\n"
     ]
    }
   ],
   "source": [
    "data = pd.DataFrame([[1., 6.5, 3.], [1., NA, NA], [NA, NA, NA], [NA, 6.5, 3.]])\n",
    "cleaned = data.dropna()\n",
    "print(data)\n",
    "print(cleaned)\n",
    "print(data.dropna(how='all'))\n",
    "data[4] = NA\n",
    "print(data)\n",
    "print(data.dropna(axis=1, how='all'))"
   ]
  },
  {
   "cell_type": "code",
   "execution_count": 10,
   "id": "d9b405a5",
   "metadata": {},
   "outputs": [
    {
     "name": "stdout",
     "output_type": "stream",
     "text": [
      "          0         1         2\n",
      "0  0.924823       NaN       NaN\n",
      "1 -1.001581       NaN       NaN\n",
      "2  0.070636       NaN  0.601011\n",
      "3 -0.851477       NaN -0.443560\n",
      "4 -0.302486 -0.883002  0.306087\n",
      "5 -0.778317 -1.343997 -1.104546\n",
      "6  2.009433 -1.070997 -0.467373\n",
      "          0         1         2\n",
      "4 -0.302486 -0.883002  0.306087\n",
      "5 -0.778317 -1.343997 -1.104546\n",
      "6  2.009433 -1.070997 -0.467373\n",
      "          0         1         2\n",
      "2  0.070636       NaN  0.601011\n",
      "3 -0.851477       NaN -0.443560\n",
      "4 -0.302486 -0.883002  0.306087\n",
      "5 -0.778317 -1.343997 -1.104546\n",
      "6  2.009433 -1.070997 -0.467373\n"
     ]
    }
   ],
   "source": [
    "df = pd.DataFrame(np.random.randn(7, 3))\n",
    "df.iloc[:4, 1] = NA\n",
    "df.iloc[:2, 2] = NA\n",
    "print(df)\n",
    "print(df.dropna())\n",
    "print(df.dropna(thresh=2)) # 至少有两个非NA值的行"
   ]
  },
  {
   "cell_type": "markdown",
   "id": "b40c6400",
   "metadata": {},
   "source": [
    "### 补全缺失值"
   ]
  },
  {
   "cell_type": "code",
   "execution_count": 11,
   "id": "a1797bca",
   "metadata": {},
   "outputs": [
    {
     "name": "stdout",
     "output_type": "stream",
     "text": [
      "          0         1         2\n",
      "0  0.924823  0.000000  0.000000\n",
      "1 -1.001581  0.000000  0.000000\n",
      "2  0.070636  0.000000  0.601011\n",
      "3 -0.851477  0.000000 -0.443560\n",
      "4 -0.302486 -0.883002  0.306087\n",
      "5 -0.778317 -1.343997 -1.104546\n",
      "6  2.009433 -1.070997 -0.467373\n",
      "          0         1         2\n",
      "0  0.924823  0.500000  0.000000\n",
      "1 -1.001581  0.500000  0.000000\n",
      "2  0.070636  0.500000  0.601011\n",
      "3 -0.851477  0.500000 -0.443560\n",
      "4 -0.302486 -0.883002  0.306087\n",
      "5 -0.778317 -1.343997 -1.104546\n",
      "6  2.009433 -1.070997 -0.467373\n"
     ]
    }
   ],
   "source": [
    "print(df.fillna(0)) # 用0填充NA值\n",
    "print(df.fillna({1: 0.5, 2: 0})) # 用不同的值填充不同的列"
   ]
  },
  {
   "cell_type": "code",
   "execution_count": 12,
   "id": "dc597fec",
   "metadata": {},
   "outputs": [
    {
     "name": "stdout",
     "output_type": "stream",
     "text": [
      "          0         1         2\n",
      "0  0.924823  0.000000  0.000000\n",
      "1 -1.001581  0.000000  0.000000\n",
      "2  0.070636  0.000000  0.601011\n",
      "3 -0.851477  0.000000 -0.443560\n",
      "4 -0.302486 -0.883002  0.306087\n",
      "5 -0.778317 -1.343997 -1.104546\n",
      "6  2.009433 -1.070997 -0.467373\n"
     ]
    }
   ],
   "source": [
    "_ = df.fillna(0, inplace=True)\n",
    "print(df) # 原地修改"
   ]
  },
  {
   "cell_type": "code",
   "execution_count": 13,
   "id": "02b766fe",
   "metadata": {},
   "outputs": [
    {
     "name": "stdout",
     "output_type": "stream",
     "text": [
      "          0         1         2\n",
      "0 -0.153056 -0.053037  1.582065\n",
      "1 -0.005950  0.908369  0.288584\n",
      "2  0.666006       NaN  0.088508\n",
      "3  0.946138       NaN -0.979656\n",
      "4  0.409500       NaN       NaN\n",
      "5  0.019259       NaN       NaN\n",
      "          0         1         2\n",
      "0 -0.153056 -0.053037  1.582065\n",
      "1 -0.005950  0.908369  0.288584\n",
      "2  0.666006  0.908369  0.088508\n",
      "3  0.946138  0.908369 -0.979656\n",
      "4  0.409500  0.908369 -0.979656\n",
      "5  0.019259  0.908369 -0.979656\n",
      "          0         1         2\n",
      "0 -0.153056 -0.053037  1.582065\n",
      "1 -0.005950  0.908369  0.288584\n",
      "2  0.666006  0.908369  0.088508\n",
      "3  0.946138  0.908369 -0.979656\n",
      "4  0.409500       NaN -0.979656\n",
      "5  0.019259       NaN -0.979656\n",
      "0    1.000000\n",
      "1    3.833333\n",
      "2    3.500000\n",
      "3    3.833333\n",
      "4    7.000000\n",
      "dtype: float64\n"
     ]
    },
    {
     "name": "stderr",
     "output_type": "stream",
     "text": [
      "/tmp/ipykernel_11760/47257907.py:5: FutureWarning: DataFrame.fillna with 'method' is deprecated and will raise in a future version. Use obj.ffill() or obj.bfill() instead.\n",
      "  print(df.fillna(method='ffill')) # 向前填充\n",
      "/tmp/ipykernel_11760/47257907.py:6: FutureWarning: DataFrame.fillna with 'method' is deprecated and will raise in a future version. Use obj.ffill() or obj.bfill() instead.\n",
      "  print(df.fillna(method='ffill', limit=2)) # 最多填充两个\n"
     ]
    }
   ],
   "source": [
    "df = pd.DataFrame(np.random.randn(6, 3))\n",
    "df.iloc[2:, 1] = NA\n",
    "df.iloc[4:, 2] = NA\n",
    "print(df)\n",
    "print(df.fillna(method='ffill')) # 向前填充\n",
    "print(df.fillna(method='ffill', limit=2)) # 最多填充两个\n",
    "data = pd.Series([1., NA, 3.5, NA, 7])\n",
    "print(data.fillna(data.mean())) # 用均值填充"
   ]
  }
 ],
 "metadata": {
  "kernelspec": {
   "display_name": "base",
   "language": "python",
   "name": "python3"
  },
  "language_info": {
   "codemirror_mode": {
    "name": "ipython",
    "version": 3
   },
   "file_extension": ".py",
   "mimetype": "text/x-python",
   "name": "python",
   "nbconvert_exporter": "python",
   "pygments_lexer": "ipython3",
   "version": "3.12.7"
  }
 },
 "nbformat": 4,
 "nbformat_minor": 5
}
