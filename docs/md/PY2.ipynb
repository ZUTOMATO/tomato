{
 "cells": [
  {
   "cell_type": "markdown",
   "id": "e954b081",
   "metadata": {},
   "source": [
    "# if语句"
   ]
  },
  {
   "cell_type": "code",
   "execution_count": 32,
   "id": "4fc657f2",
   "metadata": {},
   "outputs": [
    {
     "name": "stdout",
     "output_type": "stream",
     "text": [
      "Audi\n",
      "BMW\n",
      "Subaru\n",
      "Toyota\n"
     ]
    }
   ],
   "source": [
    "cars = [\"audi\", \"bmw\", \"subaru\", \"toyota\"]\n",
    "\n",
    "for car in cars:\n",
    "\tif car == \"bmw\":\n",
    "\t\tprint(car.upper())\n",
    "\telse:\n",
    "\t\tprint(car.title())"
   ]
  },
  {
   "cell_type": "markdown",
   "id": "b287c017",
   "metadata": {},
   "source": [
    "and/or："
   ]
  },
  {
   "cell_type": "code",
   "execution_count": 33,
   "id": "28c42250",
   "metadata": {},
   "outputs": [
    {
     "name": "stdout",
     "output_type": "stream",
     "text": [
      "False\n",
      "True\n"
     ]
    }
   ],
   "source": [
    "age_0 = 22\n",
    "age_1 = 18\n",
    "print(age_0 >= 21 and age_1 >= 21)\n",
    "print(age_0 >= 21 or age_1 >= 21)"
   ]
  },
  {
   "cell_type": "markdown",
   "id": "a5050a1a",
   "metadata": {},
   "source": [
    "检查特定值是否不包含在列表中："
   ]
  },
  {
   "cell_type": "code",
   "execution_count": 34,
   "id": "78f360f3",
   "metadata": {},
   "outputs": [
    {
     "name": "stdout",
     "output_type": "stream",
     "text": [
      "Marie, you can post a response if you wish.\n"
     ]
    }
   ],
   "source": [
    "banned_users = ['andrew', 'carolina', 'david']\n",
    "user = 'marie'\n",
    "\n",
    "if user not in banned_users:\n",
    "\tprint(user.title() + \", you can post a response if you wish.\")"
   ]
  },
  {
   "cell_type": "markdown",
   "id": "8a5c8e3f",
   "metadata": {},
   "source": [
    "if-else语句："
   ]
  },
  {
   "cell_type": "code",
   "execution_count": 35,
   "id": "d153f0bb",
   "metadata": {},
   "outputs": [
    {
     "name": "stdout",
     "output_type": "stream",
     "text": [
      "Sorry, you are too young to vote.\n",
      "Please register to vote as soon as you turn 18!\n"
     ]
    }
   ],
   "source": [
    "age = 17\n",
    "if age >= 18:\n",
    "\tprint(\"You are old enough to vote!\")\n",
    "\tprint(\"Have you registered to vote yet?\")\n",
    "else:\n",
    "\tprint(\"Sorry, you are too young to vote.\")\n",
    "\tprint(\"Please register to vote as soon as you turn 18!\")"
   ]
  },
  {
   "cell_type": "markdown",
   "id": "068b5914",
   "metadata": {},
   "source": [
    "确定列表不是空的："
   ]
  },
  {
   "cell_type": "code",
   "execution_count": 36,
   "id": "96ee3353",
   "metadata": {},
   "outputs": [
    {
     "name": "stdout",
     "output_type": "stream",
     "text": [
      "Are you sure you want a plain pizza?\n"
     ]
    }
   ],
   "source": [
    "requeseted_toppings = []\n",
    "\n",
    "if requeseted_toppings:\n",
    "\tfor topping in requeseted_toppings:\n",
    "\t\tprint(\"Adding \" + topping + \".\")\n",
    "\tprint(\"\\nFinished making your pizza!\")\n",
    "else:\n",
    "\tprint(\"Are you sure you want a plain pizza?\")"
   ]
  },
  {
   "cell_type": "markdown",
   "id": "a09dabd3",
   "metadata": {},
   "source": [
    "# 字典"
   ]
  },
  {
   "cell_type": "code",
   "execution_count": 37,
   "id": "98987f5d",
   "metadata": {},
   "outputs": [
    {
     "name": "stdout",
     "output_type": "stream",
     "text": [
      "green\n",
      "5\n"
     ]
    }
   ],
   "source": [
    "alien_0 = {'color': 'green', 'points': 5} #创建一个字典\n",
    "print(alien_0['color']) #访问字典中的值\n",
    "print(alien_0['points'])"
   ]
  },
  {
   "cell_type": "markdown",
   "id": "4c3d7ee4",
   "metadata": {},
   "source": [
    "添加键-值对："
   ]
  },
  {
   "cell_type": "code",
   "execution_count": 38,
   "id": "b8751b12",
   "metadata": {},
   "outputs": [
    {
     "name": "stdout",
     "output_type": "stream",
     "text": [
      "{'color': 'green', 'points': 5, 'x_position': 0, 'y_position': 25}\n"
     ]
    }
   ],
   "source": [
    "alien_0['x_position'] = 0 \n",
    "alien_0['y_position'] = 25\n",
    "print(alien_0)"
   ]
  },
  {
   "cell_type": "code",
   "execution_count": 39,
   "id": "5d928fac",
   "metadata": {},
   "outputs": [],
   "source": [
    "# 释放之前的变量内存\n",
    "del age, cars, car, age_0, age_1, banned_users, user, requeseted_toppings, alien_0"
   ]
  }
 ],
 "metadata": {
  "kernelspec": {
   "display_name": "py38env",
   "language": "python",
   "name": "python3"
  },
  "language_info": {
   "codemirror_mode": {
    "name": "ipython",
    "version": 3
   },
   "file_extension": ".py",
   "mimetype": "text/x-python",
   "name": "python",
   "nbconvert_exporter": "python",
   "pygments_lexer": "ipython3",
   "version": "3.8.20"
  }
 },
 "nbformat": 4,
 "nbformat_minor": 5
}
