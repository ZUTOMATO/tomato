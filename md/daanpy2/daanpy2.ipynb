{
 "cells": [
  {
   "cell_type": "code",
   "execution_count": 3,
   "id": "ec19d9b7",
   "metadata": {},
   "outputs": [],
   "source": [
    "import pandas as pd\n",
    "import numpy as np"
   ]
  },
  {
   "cell_type": "markdown",
   "id": "a2936924",
   "metadata": {},
   "source": [
    "## 处理缺失值"
   ]
  },
  {
   "cell_type": "code",
   "execution_count": 4,
   "id": "39eb158e",
   "metadata": {},
   "outputs": [
    {
     "name": "stdout",
     "output_type": "stream",
     "text": [
      "0     aardvark\n",
      "1    artichoke\n",
      "2          NaN\n",
      "3      avocado\n",
      "dtype: object\n",
      "0    False\n",
      "1    False\n",
      "2     True\n",
      "3    False\n",
      "dtype: bool\n",
      "0     True\n",
      "1    False\n",
      "2     True\n",
      "3    False\n",
      "dtype: bool\n"
     ]
    }
   ],
   "source": [
    "string_data = pd.Series(['aardvark', 'artichoke', np.nan, 'avocado'])\n",
    "print(string_data)\n",
    "print(string_data.isnull())\n",
    "string_data[0] = None\n",
    "print(string_data.isnull())"
   ]
  },
  {
   "cell_type": "markdown",
   "id": "8faedb91",
   "metadata": {},
   "source": [
    "### 过滤缺失值"
   ]
  },
  {
   "cell_type": "code",
   "execution_count": 5,
   "id": "07cf296e",
   "metadata": {},
   "outputs": [
    {
     "name": "stdout",
     "output_type": "stream",
     "text": [
      "0    1.0\n",
      "1    NaN\n",
      "2    3.5\n",
      "3    NaN\n",
      "4    7.0\n",
      "dtype: float64\n",
      "0    1.0\n",
      "2    3.5\n",
      "4    7.0\n",
      "dtype: float64\n",
      "0    1.0\n",
      "2    3.5\n",
      "4    7.0\n",
      "dtype: float64\n"
     ]
    }
   ],
   "source": [
    "from numpy import nan as NA\n",
    "data = pd.Series([1, NA, 3.5, NA, 7])\n",
    "print(data)\n",
    "print(data.dropna())\n",
    "print(data[data.notnull()])"
   ]
  },
  {
   "cell_type": "code",
   "execution_count": 6,
   "id": "306390bd",
   "metadata": {},
   "outputs": [
    {
     "name": "stdout",
     "output_type": "stream",
     "text": [
      "     0    1    2\n",
      "0  1.0  6.5  3.0\n",
      "1  1.0  NaN  NaN\n",
      "2  NaN  NaN  NaN\n",
      "3  NaN  6.5  3.0\n",
      "     0    1    2\n",
      "0  1.0  6.5  3.0\n",
      "     0    1    2\n",
      "0  1.0  6.5  3.0\n",
      "1  1.0  NaN  NaN\n",
      "3  NaN  6.5  3.0\n",
      "     0    1    2   4\n",
      "0  1.0  6.5  3.0 NaN\n",
      "1  1.0  NaN  NaN NaN\n",
      "2  NaN  NaN  NaN NaN\n",
      "3  NaN  6.5  3.0 NaN\n",
      "     0    1    2\n",
      "0  1.0  6.5  3.0\n",
      "1  1.0  NaN  NaN\n",
      "2  NaN  NaN  NaN\n",
      "3  NaN  6.5  3.0\n"
     ]
    }
   ],
   "source": [
    "data = pd.DataFrame([[1., 6.5, 3.], [1., NA, NA], [NA, NA, NA], [NA, 6.5, 3.]])\n",
    "cleaned = data.dropna()\n",
    "print(data)\n",
    "print(cleaned)\n",
    "print(data.dropna(how='all'))\n",
    "data[4] = NA\n",
    "print(data)\n",
    "print(data.dropna(axis=1, how='all'))"
   ]
  },
  {
   "cell_type": "code",
   "execution_count": 7,
   "id": "d9b405a5",
   "metadata": {},
   "outputs": [
    {
     "name": "stdout",
     "output_type": "stream",
     "text": [
      "          0         1         2\n",
      "0  2.543237       NaN       NaN\n",
      "1 -1.079833       NaN       NaN\n",
      "2 -0.713880       NaN -0.220922\n",
      "3  0.341867       NaN -1.092182\n",
      "4  0.566851 -0.975282 -0.231784\n",
      "5 -0.519598 -1.385690 -0.864309\n",
      "6 -0.445222 -1.738848 -1.062934\n",
      "          0         1         2\n",
      "4  0.566851 -0.975282 -0.231784\n",
      "5 -0.519598 -1.385690 -0.864309\n",
      "6 -0.445222 -1.738848 -1.062934\n",
      "          0         1         2\n",
      "2 -0.713880       NaN -0.220922\n",
      "3  0.341867       NaN -1.092182\n",
      "4  0.566851 -0.975282 -0.231784\n",
      "5 -0.519598 -1.385690 -0.864309\n",
      "6 -0.445222 -1.738848 -1.062934\n"
     ]
    }
   ],
   "source": [
    "df = pd.DataFrame(np.random.randn(7, 3))\n",
    "df.iloc[:4, 1] = NA\n",
    "df.iloc[:2, 2] = NA\n",
    "print(df)\n",
    "print(df.dropna())\n",
    "print(df.dropna(thresh=2)) # 至少有两个非NA值的行"
   ]
  },
  {
   "cell_type": "markdown",
   "id": "b40c6400",
   "metadata": {},
   "source": [
    "### 补全缺失值"
   ]
  },
  {
   "cell_type": "code",
   "execution_count": 8,
   "id": "a1797bca",
   "metadata": {},
   "outputs": [
    {
     "name": "stdout",
     "output_type": "stream",
     "text": [
      "          0         1         2\n",
      "0  2.543237  0.000000  0.000000\n",
      "1 -1.079833  0.000000  0.000000\n",
      "2 -0.713880  0.000000 -0.220922\n",
      "3  0.341867  0.000000 -1.092182\n",
      "4  0.566851 -0.975282 -0.231784\n",
      "5 -0.519598 -1.385690 -0.864309\n",
      "6 -0.445222 -1.738848 -1.062934\n",
      "          0         1         2\n",
      "0  2.543237  0.500000  0.000000\n",
      "1 -1.079833  0.500000  0.000000\n",
      "2 -0.713880  0.500000 -0.220922\n",
      "3  0.341867  0.500000 -1.092182\n",
      "4  0.566851 -0.975282 -0.231784\n",
      "5 -0.519598 -1.385690 -0.864309\n",
      "6 -0.445222 -1.738848 -1.062934\n"
     ]
    }
   ],
   "source": [
    "print(df.fillna(0)) # 用0填充NA值\n",
    "print(df.fillna({1: 0.5, 2: 0})) # 用不同的值填充不同的列"
   ]
  },
  {
   "cell_type": "code",
   "execution_count": 9,
   "id": "dc597fec",
   "metadata": {},
   "outputs": [
    {
     "name": "stdout",
     "output_type": "stream",
     "text": [
      "          0         1         2\n",
      "0  2.543237  0.000000  0.000000\n",
      "1 -1.079833  0.000000  0.000000\n",
      "2 -0.713880  0.000000 -0.220922\n",
      "3  0.341867  0.000000 -1.092182\n",
      "4  0.566851 -0.975282 -0.231784\n",
      "5 -0.519598 -1.385690 -0.864309\n",
      "6 -0.445222 -1.738848 -1.062934\n"
     ]
    }
   ],
   "source": [
    "_ = df.fillna(0, inplace=True)\n",
    "print(df) # 原地修改"
   ]
  },
  {
   "cell_type": "code",
   "execution_count": 10,
   "id": "02b766fe",
   "metadata": {},
   "outputs": [
    {
     "name": "stdout",
     "output_type": "stream",
     "text": [
      "          0        1         2\n",
      "0  0.597050  0.35625 -1.012544\n",
      "1 -1.000398 -1.43192 -0.564352\n",
      "2 -2.061784      NaN -0.741855\n",
      "3 -0.475321      NaN  1.534026\n",
      "4  0.284599      NaN       NaN\n",
      "5 -0.854206      NaN       NaN\n",
      "          0        1         2\n",
      "0  0.597050  0.35625 -1.012544\n",
      "1 -1.000398 -1.43192 -0.564352\n",
      "2 -2.061784 -1.43192 -0.741855\n",
      "3 -0.475321 -1.43192  1.534026\n",
      "4  0.284599 -1.43192  1.534026\n",
      "5 -0.854206 -1.43192  1.534026\n",
      "          0        1         2\n",
      "0  0.597050  0.35625 -1.012544\n",
      "1 -1.000398 -1.43192 -0.564352\n",
      "2 -2.061784 -1.43192 -0.741855\n",
      "3 -0.475321 -1.43192  1.534026\n",
      "4  0.284599      NaN  1.534026\n",
      "5 -0.854206      NaN  1.534026\n",
      "0    1.000000\n",
      "1    3.833333\n",
      "2    3.500000\n",
      "3    3.833333\n",
      "4    7.000000\n",
      "dtype: float64\n"
     ]
    },
    {
     "name": "stderr",
     "output_type": "stream",
     "text": [
      "/tmp/ipykernel_1454/47257907.py:5: FutureWarning: DataFrame.fillna with 'method' is deprecated and will raise in a future version. Use obj.ffill() or obj.bfill() instead.\n",
      "  print(df.fillna(method='ffill')) # 向前填充\n",
      "/tmp/ipykernel_1454/47257907.py:6: FutureWarning: DataFrame.fillna with 'method' is deprecated and will raise in a future version. Use obj.ffill() or obj.bfill() instead.\n",
      "  print(df.fillna(method='ffill', limit=2)) # 最多填充两个\n"
     ]
    }
   ],
   "source": [
    "df = pd.DataFrame(np.random.randn(6, 3))\n",
    "df.iloc[2:, 1] = NA\n",
    "df.iloc[4:, 2] = NA\n",
    "print(df)\n",
    "print(df.fillna(method='ffill')) # 向前填充\n",
    "print(df.fillna(method='ffill', limit=2)) # 最多填充两个\n",
    "data = pd.Series([1., NA, 3.5, NA, 7])\n",
    "print(data.fillna(data.mean())) # 用均值填充"
   ]
  },
  {
   "cell_type": "markdown",
   "id": "40f069e4",
   "metadata": {},
   "source": [
    "## 数据转换"
   ]
  },
  {
   "cell_type": "markdown",
   "id": "4b67f4ba",
   "metadata": {},
   "source": [
    "### 删除重复值"
   ]
  },
  {
   "cell_type": "code",
   "execution_count": 11,
   "id": "5755c5eb",
   "metadata": {},
   "outputs": [
    {
     "name": "stdout",
     "output_type": "stream",
     "text": [
      "    k1  k2\n",
      "0  one   1\n",
      "1  two   1\n",
      "2  one   2\n",
      "3  two   3\n",
      "4  one   3\n",
      "5  two   4\n",
      "6  two   4\n",
      "0    False\n",
      "1    False\n",
      "2    False\n",
      "3    False\n",
      "4    False\n",
      "5    False\n",
      "6     True\n",
      "dtype: bool\n",
      "    k1  k2\n",
      "0  one   1\n",
      "1  two   1\n",
      "2  one   2\n",
      "3  two   3\n",
      "4  one   3\n",
      "5  two   4\n"
     ]
    }
   ],
   "source": [
    "data = pd.DataFrame({'k1': ['one', 'two'] * 3 + ['two'], 'k2': [1, 1, 2, 3, 3, 4, 4]})\n",
    "print(data)\n",
    "print(data.duplicated()) # 标记重复行\n",
    "print(data.drop_duplicates()) # 删除重复行"
   ]
  },
  {
   "cell_type": "code",
   "execution_count": 12,
   "id": "527bdbe9",
   "metadata": {},
   "outputs": [
    {
     "name": "stdout",
     "output_type": "stream",
     "text": [
      "    k1  k2  v1\n",
      "0  one   1   0\n",
      "1  two   1   1\n",
      "    k1  k2  v1\n",
      "0  one   1   0\n",
      "1  two   1   1\n",
      "2  one   2   2\n",
      "3  two   3   3\n",
      "4  one   3   4\n",
      "5  two   4   5\n",
      "    k1  k2  v1\n",
      "0  one   1   0\n",
      "1  two   1   1\n",
      "2  one   2   2\n",
      "3  two   3   3\n",
      "4  one   3   4\n",
      "6  two   4   6\n"
     ]
    }
   ],
   "source": [
    "data['v1'] = range(7)\n",
    "print(data.drop_duplicates(['k1'])) # 根据某列删除重复行\n",
    "print(data.drop_duplicates(['k1', 'k2'])) # 根据多列删除重复行\n",
    "print(data.drop_duplicates(['k1', 'k2'], keep='last')) # 保留最后一个重复行"
   ]
  },
  {
   "cell_type": "markdown",
   "id": "5c157788",
   "metadata": {},
   "source": [
    "### 使用函数或映射进行数据转换"
   ]
  },
  {
   "cell_type": "code",
   "execution_count": 13,
   "id": "b077f33d",
   "metadata": {},
   "outputs": [
    {
     "name": "stdout",
     "output_type": "stream",
     "text": [
      "          food  ounces\n",
      "0        bacon     4.0\n",
      "1  pulled pork     3.0\n",
      "2        bacon    12.0\n",
      "3     Pastrami     6.0\n",
      "4  corned beef     7.5\n",
      "5        Bacon     8.0\n",
      "6     pastrami     3.0\n",
      "7    honey ham     5.0\n",
      "8     nova lox     6.0\n"
     ]
    }
   ],
   "source": [
    "data = pd.DataFrame({'food': ['bacon', 'pulled pork', 'bacon', 'Pastrami', 'corned beef', 'Bacon',\n",
    "\t\t\t\t\t\t  'pastrami', 'honey ham', 'nova lox'],\n",
    "\t\t\t\t\t\t 'ounces': [4, 3, 12, 6, 7.5, 8, 3, 5, 6]})\n",
    "print(data)"
   ]
  },
  {
   "cell_type": "code",
   "execution_count": 14,
   "id": "959e12fd",
   "metadata": {},
   "outputs": [
    {
     "name": "stdout",
     "output_type": "stream",
     "text": [
      "0          bacon\n",
      "1    pulled pork\n",
      "2          bacon\n",
      "3       pastrami\n",
      "4    corned beef\n",
      "5          bacon\n",
      "6       pastrami\n",
      "7      honey ham\n",
      "8       nova lox\n",
      "Name: food, dtype: object\n",
      "          food  ounces  animal\n",
      "0        bacon     4.0     pig\n",
      "1  pulled pork     3.0     pig\n",
      "2        bacon    12.0     pig\n",
      "3     Pastrami     6.0     cow\n",
      "4  corned beef     7.5     cow\n",
      "5        Bacon     8.0     pig\n",
      "6     pastrami     3.0     cow\n",
      "7    honey ham     5.0     pig\n",
      "8     nova lox     6.0  salmon\n"
     ]
    },
    {
     "data": {
      "text/plain": [
       "0       pig\n",
       "1       pig\n",
       "2       pig\n",
       "3       cow\n",
       "4       cow\n",
       "5       pig\n",
       "6       cow\n",
       "7       pig\n",
       "8    salmon\n",
       "Name: food, dtype: object"
      ]
     },
     "execution_count": 14,
     "metadata": {},
     "output_type": "execute_result"
    }
   ],
   "source": [
    "meat_to_animal = {\n",
    "\t'bacon': 'pig',\n",
    "\t'pulled pork': 'pig',\n",
    "\t'pastrami': 'cow',\n",
    "\t'corned beef': 'cow',\n",
    "\t'honey ham': 'pig',\n",
    "\t'nova lox': 'salmon'\n",
    "}\n",
    "lowercased = data['food'].str.lower() # 转小写\n",
    "print(lowercased)\n",
    "data['animal'] = lowercased.map(meat_to_animal) # 映射\n",
    "print(data)\n",
    "data['food'].map(lambda x: meat_to_animal[x.lower()]) # 用函数映射"
   ]
  },
  {
   "cell_type": "markdown",
   "id": "e3a8ecd9",
   "metadata": {},
   "source": [
    "### 替代值"
   ]
  },
  {
   "cell_type": "code",
   "execution_count": 15,
   "id": "daa27455",
   "metadata": {},
   "outputs": [
    {
     "name": "stdout",
     "output_type": "stream",
     "text": [
      "0       1.0\n",
      "1    -999.0\n",
      "2       2.0\n",
      "3    -999.0\n",
      "4   -1000.0\n",
      "5       3.0\n",
      "dtype: float64\n",
      "0       1.0\n",
      "1       NaN\n",
      "2       2.0\n",
      "3       NaN\n",
      "4   -1000.0\n",
      "5       3.0\n",
      "dtype: float64\n",
      "0    1.0\n",
      "1    NaN\n",
      "2    2.0\n",
      "3    NaN\n",
      "4    NaN\n",
      "5    3.0\n",
      "dtype: float64\n",
      "0    1.0\n",
      "1    NaN\n",
      "2    2.0\n",
      "3    NaN\n",
      "4    0.0\n",
      "5    3.0\n",
      "dtype: float64\n",
      "0    1.0\n",
      "1    NaN\n",
      "2    2.0\n",
      "3    NaN\n",
      "4    0.0\n",
      "5    3.0\n",
      "dtype: float64\n"
     ]
    }
   ],
   "source": [
    "data = pd.Series([1., -999., 2., -999., -1000., 3.])\n",
    "print(data)\n",
    "print(data.replace(-999, np.nan)) # 替换-999为NA\n",
    "print(data.replace([-999, -1000], np.nan)) # 替换多个值\n",
    "print(data.replace([-999, -1000], [np.nan, 0])) # 分别替换多个值\n",
    "print(data.replace({-999: np.nan, -1000: 0})) # 用字典替换"
   ]
  },
  {
   "cell_type": "markdown",
   "id": "30b72bac",
   "metadata": {},
   "source": [
    "### 重命名轴索引"
   ]
  },
  {
   "cell_type": "code",
   "execution_count": 16,
   "id": "3805f4de",
   "metadata": {},
   "outputs": [
    {
     "name": "stdout",
     "output_type": "stream",
     "text": [
      "Index(['OHIO', 'COLO', 'NEW '], dtype='object')\n",
      "      one  two  three  four\n",
      "OHIO    0    1      2     3\n",
      "COLO    4    5      6     7\n",
      "NEW     8    9     10    11\n",
      "      ONE  TWO  THREE  FOUR\n",
      "Ohio    0    1      2     3\n",
      "Colo    4    5      6     7\n",
      "New     8    9     10    11\n",
      "         one  two  peekaboo  four\n",
      "INDIANA    0    1         2     3\n",
      "COLO       4    5         6     7\n",
      "NEW        8    9        10    11\n",
      "         one  two  three  four\n",
      "INDIANA    0    1      2     3\n",
      "COLO       4    5      6     7\n",
      "NEW        8    9     10    11\n"
     ]
    }
   ],
   "source": [
    "data = pd.DataFrame(np.arange(12).reshape((3, 4)),\n",
    "\t\t\t\t\tindex=['Ohio', 'Colorado', 'New York'],\n",
    "\t\t\t\t\tcolumns=['one', 'two', 'three', 'four'])\n",
    "transform = lambda x: x[:4].upper()\n",
    "print(data.index.map(transform)) # 对索引应用函数\n",
    "data.index = data.index.map(transform) # 重命名索引\n",
    "print(data)\n",
    "print(data.rename(index=str.title, columns=str.upper)) # 创建数据集转换后的版本，不修改原数据\n",
    "print(data.rename(index={'OHIO': 'INDIANA'}, columns={'three': 'peekaboo'})) # 重命名部分行和列\n",
    "data.rename(index={'OHIO': 'INDIANA'}, inplace=True) # 原地修改\n",
    "print(data)"
   ]
  },
  {
   "cell_type": "markdown",
   "id": "86d123bb",
   "metadata": {},
   "source": [
    "### 离散化和分箱"
   ]
  },
  {
   "cell_type": "code",
   "execution_count": 17,
   "id": "909c270d",
   "metadata": {},
   "outputs": [
    {
     "name": "stdout",
     "output_type": "stream",
     "text": [
      "[(18, 25], (18, 25], (18, 25], (25, 35], (18, 25], ..., (25, 35], (60, 100], (35, 60], (35, 60], (25, 35]]\n",
      "Length: 12\n",
      "Categories (4, interval[int64, right]): [(18, 25] < (25, 35] < (35, 60] < (60, 100]]\n"
     ]
    }
   ],
   "source": [
    "ages = [20, 22, 25, 27, 21, 23, 37, 31, 61, 45, 41, 32]\n",
    "bins = [18, 25, 35, 60, 100]\n",
    "cats = pd.cut(ages, bins) # 分箱\n",
    "print(cats)"
   ]
  },
  {
   "cell_type": "code",
   "execution_count": 18,
   "id": "c8938c82",
   "metadata": {},
   "outputs": [
    {
     "name": "stdout",
     "output_type": "stream",
     "text": [
      "[0 0 0 1 0 0 2 1 3 2 2 1]\n",
      "IntervalIndex([(18, 25], (25, 35], (35, 60], (60, 100]], dtype='interval[int64, right]')\n",
      "(18, 25]     5\n",
      "(25, 35]     3\n",
      "(35, 60]     3\n",
      "(60, 100]    1\n",
      "Name: count, dtype: int64\n"
     ]
    },
    {
     "name": "stderr",
     "output_type": "stream",
     "text": [
      "/tmp/ipykernel_1454/3800502597.py:3: FutureWarning: pandas.value_counts is deprecated and will be removed in a future version. Use pd.Series(obj).value_counts() instead.\n",
      "  print(pd.value_counts(cats)) # 每个箱子中的值的数量\n"
     ]
    }
   ],
   "source": [
    "print(cats.codes) # 每个值对应的箱子\n",
    "print(cats.categories) # 箱子区间\n",
    "print(pd.value_counts(cats)) # 每个箱子中的值的数量"
   ]
  },
  {
   "cell_type": "code",
   "execution_count": 19,
   "id": "17d9a51b",
   "metadata": {},
   "outputs": [
    {
     "name": "stdout",
     "output_type": "stream",
     "text": [
      "[[18, 26), [18, 26), [18, 26), [26, 36), [18, 26), ..., [26, 36), [61, 100), [36, 61), [36, 61), [26, 36)]\n",
      "Length: 12\n",
      "Categories (4, interval[int64, left]): [[18, 26) < [26, 36) < [36, 61) < [61, 100)]\n",
      "['Youth', 'Youth', 'Youth', 'YoungAdult', 'Youth', ..., 'YoungAdult', 'Senior', 'MiddleAged', 'MiddleAged', 'YoungAdult']\n",
      "Length: 12\n",
      "Categories (4, object): ['Youth' < 'YoungAdult' < 'MiddleAged' < 'Senior']\n"
     ]
    }
   ],
   "source": [
    "print(pd.cut(ages, [18, 26, 36, 61, 100], right=False)) # 左闭右开\n",
    "group_names = ['Youth', 'YoungAdult', 'MiddleAged', 'Senior']\n",
    "group = pd.cut(ages, bins, labels=group_names) # 分箱并命名\n",
    "print(group)"
   ]
  },
  {
   "cell_type": "code",
   "execution_count": 20,
   "id": "6d086e03",
   "metadata": {},
   "outputs": [
    {
     "name": "stdout",
     "output_type": "stream",
     "text": [
      "[(0.28, 0.51], (0.51, 0.75], (0.28, 0.51], (0.041, 0.28], (0.041, 0.28], ..., (0.75, 0.99], (0.041, 0.28], (0.75, 0.99], (0.51, 0.75], (0.041, 0.28]]\n",
      "Length: 20\n",
      "Categories (4, interval[float64, right]): [(0.041, 0.28] < (0.28, 0.51] < (0.51, 0.75] < (0.75, 0.99]]\n"
     ]
    }
   ],
   "source": [
    "data = np.random.rand(20)\n",
    "print(pd.cut(data, 4, precision=2)) # 分成4个等宽箱，并设置小数点精度"
   ]
  },
  {
   "cell_type": "code",
   "execution_count": 21,
   "id": "e07892a8",
   "metadata": {},
   "outputs": [
    {
     "name": "stdout",
     "output_type": "stream",
     "text": [
      "[(0.686, 3.727], (-0.0112, 0.686], (-0.703, -0.0112], (-0.0112, 0.686], (-3.609, -0.703], ..., (-0.0112, 0.686], (-0.703, -0.0112], (-0.703, -0.0112], (-3.609, -0.703], (-0.703, -0.0112]]\n",
      "Length: 1000\n",
      "Categories (4, interval[float64, right]): [(-3.609, -0.703] < (-0.703, -0.0112] < (-0.0112, 0.686] < (0.686, 3.727]]\n",
      "(-3.609, -0.703]     250\n",
      "(-0.703, -0.0112]    250\n",
      "(-0.0112, 0.686]     250\n",
      "(0.686, 3.727]       250\n",
      "Name: count, dtype: int64\n"
     ]
    },
    {
     "name": "stderr",
     "output_type": "stream",
     "text": [
      "/tmp/ipykernel_1454/2283453662.py:4: FutureWarning: pandas.value_counts is deprecated and will be removed in a future version. Use pd.Series(obj).value_counts() instead.\n",
      "  print(pd.value_counts(cats))\n"
     ]
    }
   ],
   "source": [
    "data = np.random.randn(1000)\n",
    "cats = pd.qcut(data, 4) # 分位数分箱\n",
    "print(cats)\n",
    "print(pd.value_counts(cats))\n"
   ]
  },
  {
   "cell_type": "code",
   "execution_count": 22,
   "id": "77ceb607",
   "metadata": {},
   "outputs": [
    {
     "name": "stdout",
     "output_type": "stream",
     "text": [
      "[(-0.0112, 1.386], (-0.0112, 1.386], (-1.292, -0.0112], (-0.0112, 1.386], (-3.609, -1.292], ..., (-0.0112, 1.386], (-1.292, -0.0112], (-1.292, -0.0112], (-1.292, -0.0112], (-1.292, -0.0112]]\n",
      "Length: 1000\n",
      "Categories (4, interval[float64, right]): [(-3.609, -1.292] < (-1.292, -0.0112] < (-0.0112, 1.386] < (1.386, 3.727]]\n"
     ]
    }
   ],
   "source": [
    "print(pd.qcut(data, [0, 0.1, 0.5, 0.9, 1.])) # 指定分位数边界"
   ]
  },
  {
   "cell_type": "markdown",
   "id": "59dc7e10",
   "metadata": {},
   "source": [
    "### 检测和过滤异常值"
   ]
  },
  {
   "cell_type": "code",
   "execution_count": 23,
   "id": "f972f429",
   "metadata": {},
   "outputs": [
    {
     "name": "stdout",
     "output_type": "stream",
     "text": [
      "                 0            1            2            3\n",
      "count  1000.000000  1000.000000  1000.000000  1000.000000\n",
      "mean     -0.042461     0.000288     0.014000    -0.005518\n",
      "std       0.958596     0.993244     1.011492     0.983692\n",
      "min      -2.934752    -3.223137    -3.626758    -3.516472\n",
      "25%      -0.710026    -0.693996    -0.646431    -0.672141\n",
      "50%      -0.054174     0.016981     0.017097    -0.008659\n",
      "75%       0.592940     0.660169     0.673854     0.700765\n",
      "max       3.015893     3.275185     2.765506     2.772403\n"
     ]
    }
   ],
   "source": [
    "data = pd.DataFrame(np.random.randn(1000, 4))\n",
    "print(data.describe()) # 统计汇总"
   ]
  },
  {
   "cell_type": "code",
   "execution_count": 24,
   "id": "186d2d97",
   "metadata": {},
   "outputs": [
    {
     "name": "stdout",
     "output_type": "stream",
     "text": [
      "553   -3.626758\n",
      "702   -3.381316\n",
      "856   -3.016003\n",
      "Name: 2, dtype: float64\n",
      "            0         1         2         3\n",
      "206 -0.132839  3.275185  0.280842  0.090555\n",
      "432 -0.297675 -0.954030  0.000638 -3.382318\n",
      "468  0.909507 -0.649582  1.554405 -3.516472\n",
      "553  1.418487  0.288423 -3.626758 -0.303282\n",
      "702 -0.046808  0.154816 -3.381316 -0.076797\n",
      "715 -1.006807 -3.223137 -0.553369 -0.989707\n",
      "788  0.545581  3.263751 -1.163162 -2.334223\n",
      "856 -2.094900 -1.016688 -3.016003 -1.725434\n",
      "878  3.015893  0.865056 -0.332413 -0.403888\n",
      "908  0.927482 -3.103563  0.376485  0.590235\n",
      "                 0            1            2            3\n",
      "count  1000.000000  1000.000000  1000.000000  1000.000000\n",
      "mean     -0.042477     0.000076     0.015024    -0.004620\n",
      "std       0.958545     0.990519     1.008165     0.980738\n",
      "min      -2.934752    -3.000000    -3.000000    -3.000000\n",
      "25%      -0.710026    -0.693996    -0.646431    -0.672141\n",
      "50%      -0.054174     0.016981     0.017097    -0.008659\n",
      "75%       0.592940     0.660169     0.673854     0.700765\n",
      "max       3.000000     3.000000     2.765506     2.772403\n",
      "     0    1    2    3\n",
      "0 -1.0 -1.0 -1.0 -1.0\n",
      "1 -1.0 -1.0 -1.0  1.0\n",
      "2 -1.0  1.0 -1.0  1.0\n",
      "3 -1.0  1.0  1.0  1.0\n",
      "4  1.0 -1.0  1.0  1.0\n"
     ]
    }
   ],
   "source": [
    "col = data[2]\n",
    "print(col[np.abs(col) > 3]) # 绝对值大于3的值\n",
    "print(data[(np.abs(data) > 3).any(axis=1)]) # 任一列绝对值大于3的行\n",
    "data[np.abs(data) > 3] = np.sign(data) * 3 # 将绝对值大于3的值设为±3\n",
    "print(data.describe())\n",
    "print(np.sign(data).head()) # 每个值的符号"
   ]
  },
  {
   "cell_type": "markdown",
   "id": "d2dfb73a",
   "metadata": {},
   "source": [
    "### 置换和随机抽样"
   ]
  },
  {
   "cell_type": "code",
   "execution_count": 25,
   "id": "ff9b7c92",
   "metadata": {},
   "outputs": [
    {
     "name": "stdout",
     "output_type": "stream",
     "text": [
      "[3 2 1 0 4]\n"
     ]
    }
   ],
   "source": [
    "df = pd.DataFrame(np.arange(20).reshape((5, 4)))\n",
    "sampler = np.random.permutation(5) # 随机置换列索引\n",
    "print(sampler)"
   ]
  },
  {
   "cell_type": "code",
   "execution_count": 26,
   "id": "eaef9cec",
   "metadata": {},
   "outputs": [
    {
     "name": "stdout",
     "output_type": "stream",
     "text": [
      "    0   1   2   3\n",
      "0   0   1   2   3\n",
      "1   4   5   6   7\n",
      "2   8   9  10  11\n",
      "3  12  13  14  15\n",
      "4  16  17  18  19\n",
      "    0   1   2   3\n",
      "3  12  13  14  15\n",
      "2   8   9  10  11\n",
      "1   4   5   6   7\n",
      "0   0   1   2   3\n",
      "4  16  17  18  19\n",
      "    0   1   2   3\n",
      "4  16  17  18  19\n",
      "0   0   1   2   3\n",
      "2   8   9  10  11\n"
     ]
    }
   ],
   "source": [
    "print(df)\n",
    "\n",
    "print(df.take(sampler)) # 按照置换后的索引选取行\n",
    "print(df.sample(n=3)) # 随机抽取3行"
   ]
  },
  {
   "cell_type": "code",
   "execution_count": 27,
   "id": "f81c5852",
   "metadata": {},
   "outputs": [
    {
     "name": "stdout",
     "output_type": "stream",
     "text": [
      "3    6\n",
      "2   -1\n",
      "1    7\n",
      "2   -1\n",
      "0    5\n",
      "1    7\n",
      "3    6\n",
      "2   -1\n",
      "2   -1\n",
      "1    7\n",
      "dtype: int64\n"
     ]
    }
   ],
   "source": [
    "choices = pd.Series([5, 7, -1, 6, 4])\n",
    "draws = choices.sample(n=10, replace=True) # 有放回抽样\n",
    "print(draws)"
   ]
  },
  {
   "cell_type": "markdown",
   "id": "9cc8ce9c",
   "metadata": {},
   "source": [
    "### 计算指标/虚拟变量"
   ]
  },
  {
   "cell_type": "code",
   "execution_count": 28,
   "id": "e82aa022",
   "metadata": {},
   "outputs": [
    {
     "name": "stdout",
     "output_type": "stream",
     "text": [
      "  key  data1\n",
      "0   b      0\n",
      "1   b      1\n",
      "2   a      2\n",
      "3   c      3\n",
      "4   a      4\n",
      "5   b      5\n",
      "       a      b      c\n",
      "0  False   True  False\n",
      "1  False   True  False\n",
      "2   True  False  False\n",
      "3  False  False   True\n",
      "4   True  False  False\n",
      "5  False   True  False\n"
     ]
    }
   ],
   "source": [
    "df = pd.DataFrame({'key': ['b', 'b', 'a', 'c', 'a', 'b'], 'data1': range(6)})\n",
    "print(df)\n",
    "\n",
    "print(pd.get_dummies(df['key'])) # 计算虚拟变量"
   ]
  },
  {
   "cell_type": "code",
   "execution_count": 29,
   "id": "ac93493b",
   "metadata": {},
   "outputs": [
    {
     "name": "stdout",
     "output_type": "stream",
     "text": [
      "   key_a  key_b  key_c\n",
      "0  False   True  False\n",
      "1  False   True  False\n",
      "2   True  False  False\n",
      "3  False  False   True\n",
      "4   True  False  False\n",
      "5  False   True  False\n",
      "   data1  key_a  key_b  key_c\n",
      "0      0  False   True  False\n",
      "1      1  False   True  False\n",
      "2      2   True  False  False\n",
      "3      3  False  False   True\n",
      "4      4   True  False  False\n",
      "5      5  False   True  False\n"
     ]
    }
   ],
   "source": [
    "dummies = pd.get_dummies(df['key'], prefix='key') # 添加前缀\n",
    "print(dummies)\n",
    "df_with_dummy = df[['data1']].join(dummies) # 将虚拟变量加入原数据\n",
    "print(df_with_dummy)"
   ]
  },
  {
   "cell_type": "code",
   "execution_count": 30,
   "id": "4b7b2228",
   "metadata": {},
   "outputs": [
    {
     "name": "stdout",
     "output_type": "stream",
     "text": [
      "   movie_id                               title                        genres\n",
      "0         1                    Toy Story (1995)   Animation|Children's|Comedy\n",
      "1         2                      Jumanji (1995)  Adventure|Children's|Fantasy\n",
      "2         3             Grumpier Old Men (1995)                Comedy|Romance\n",
      "3         4            Waiting to Exhale (1995)                  Comedy|Drama\n",
      "4         5  Father of the Bride Part II (1995)                        Comedy\n",
      "5         6                         Heat (1995)         Action|Crime|Thriller\n",
      "6         7                      Sabrina (1995)                Comedy|Romance\n",
      "7         8                 Tom and Huck (1995)          Adventure|Children's\n",
      "8         9                 Sudden Death (1995)                        Action\n",
      "9        10                    GoldenEye (1995)     Action|Adventure|Thriller\n"
     ]
    },
    {
     "name": "stderr",
     "output_type": "stream",
     "text": [
      "/tmp/ipykernel_1454/1141379620.py:2: ParserWarning: Falling back to the 'python' engine because the 'c' engine does not support regex separators (separators > 1 char and different from '\\s+' are interpreted as regex); you can avoid this warning by specifying engine='python'.\n",
      "  movies = pd.read_table('datasets/movielens/movies.dat', sep='::', header=None, names=mnames)\n"
     ]
    }
   ],
   "source": [
    "mnames = ['movie_id', 'title', 'genres']\n",
    "movies = pd.read_table('datasets/movielens/movies.dat', sep='::', header=None, names=mnames)\n",
    "print(movies[:10])"
   ]
  },
  {
   "cell_type": "code",
   "execution_count": 31,
   "id": "f8386a6e",
   "metadata": {},
   "outputs": [
    {
     "name": "stdout",
     "output_type": "stream",
     "text": [
      "['Animation' \"Children's\" 'Comedy' 'Adventure' 'Fantasy' 'Romance' 'Drama'\n",
      " 'Action' 'Crime' 'Thriller' 'Horror' 'Sci-Fi' 'Documentary' 'War'\n",
      " 'Musical' 'Mystery' 'Film-Noir' 'Western']\n"
     ]
    },
    {
     "name": "stderr",
     "output_type": "stream",
     "text": [
      "/tmp/ipykernel_1454/287662216.py:4: FutureWarning: unique with argument that is not not a Series, Index, ExtensionArray, or np.ndarray is deprecated and will raise in a future version.\n",
      "  genres = pd.unique(all_genres)\n"
     ]
    }
   ],
   "source": [
    "all_genres = []\n",
    "for x in movies.genres:\n",
    "\tall_genres.extend(x.split('|'))\n",
    "genres = pd.unique(all_genres)\n",
    "print(genres)"
   ]
  },
  {
   "cell_type": "code",
   "execution_count": 32,
   "id": "82d875b8",
   "metadata": {},
   "outputs": [
    {
     "name": "stdout",
     "output_type": "stream",
     "text": [
      "['Animation', \"Children's\", 'Comedy']\n",
      "[0 1 2]\n"
     ]
    }
   ],
   "source": [
    "zero_matrix = np.zeros((len(movies), len(genres)))\n",
    "dummies = pd.DataFrame(zero_matrix, columns=genres)\n",
    "gen = movies.genres[0]\n",
    "print(gen.split('|'))\n",
    "print(dummies.columns.get_indexer(gen.split('|')))"
   ]
  },
  {
   "cell_type": "code",
   "execution_count": 33,
   "id": "a966b30e",
   "metadata": {},
   "outputs": [
    {
     "name": "stdout",
     "output_type": "stream",
     "text": [
      "movie_id                                       1\n",
      "title                           Toy Story (1995)\n",
      "genres               Animation|Children's|Comedy\n",
      "Genre_Animation                              1.0\n",
      "Genre_Children's                             1.0\n",
      "Genre_Comedy                                 1.0\n",
      "Genre_Adventure                              0.0\n",
      "Genre_Fantasy                                0.0\n",
      "Genre_Romance                                0.0\n",
      "Genre_Drama                                  0.0\n",
      "Genre_Action                                 0.0\n",
      "Genre_Crime                                  0.0\n",
      "Genre_Thriller                               0.0\n",
      "Genre_Horror                                 0.0\n",
      "Genre_Sci-Fi                                 0.0\n",
      "Genre_Documentary                            0.0\n",
      "Genre_War                                    0.0\n",
      "Genre_Musical                                0.0\n",
      "Genre_Mystery                                0.0\n",
      "Genre_Film-Noir                              0.0\n",
      "Genre_Western                                0.0\n",
      "Name: 0, dtype: object\n"
     ]
    }
   ],
   "source": [
    "for i, gen in enumerate(movies.genres):\n",
    "\tindices = dummies.columns.get_indexer(gen.split('|'))\n",
    "\tdummies.iloc[i, indices] = 1\n",
    "movies_windic = movies.join(dummies.add_prefix('Genre_'))\n",
    "print(movies_windic.iloc[0])"
   ]
  },
  {
   "cell_type": "code",
   "execution_count": 34,
   "id": "e1362138",
   "metadata": {},
   "outputs": [
    {
     "name": "stdout",
     "output_type": "stream",
     "text": [
      "[0.92961609 0.31637555 0.18391881 0.20456028 0.56772503 0.5955447\n",
      " 0.96451452 0.6531771  0.74890664 0.65356987]\n",
      "   (0.0, 0.2]  (0.2, 0.4]  (0.4, 0.6]  (0.6, 0.8]  (0.8, 1.0]\n",
      "0       False       False       False       False        True\n",
      "1       False        True       False       False       False\n",
      "2        True       False       False       False       False\n",
      "3       False        True       False       False       False\n",
      "4       False       False        True       False       False\n",
      "5       False       False        True       False       False\n",
      "6       False       False       False       False        True\n",
      "7       False       False       False        True       False\n",
      "8       False       False       False        True       False\n",
      "9       False       False       False        True       False\n"
     ]
    }
   ],
   "source": [
    "np.random.seed(12345)\n",
    "values = np.random.rand(10)\n",
    "print(values)\n",
    "bins = [0, 0.2, 0.4, 0.6, 0.8, 1]\n",
    "print(pd.get_dummies(pd.cut(values, bins)))"
   ]
  },
  {
   "cell_type": "markdown",
   "id": "c7ed6eb1",
   "metadata": {},
   "source": [
    "## 字符串操作"
   ]
  },
  {
   "cell_type": "markdown",
   "id": "ccd3ca00",
   "metadata": {},
   "source": [
    "### 字符串对象方法"
   ]
  },
  {
   "cell_type": "code",
   "execution_count": 35,
   "id": "eb8f4065",
   "metadata": {},
   "outputs": [
    {
     "data": {
      "text/plain": [
       "['a', 'b', '   guido']"
      ]
     },
     "execution_count": 35,
     "metadata": {},
     "output_type": "execute_result"
    }
   ],
   "source": [
    "val = 'a,b,   guido'\n",
    "val.split(',')"
   ]
  },
  {
   "cell_type": "code",
   "execution_count": 36,
   "id": "a5109081",
   "metadata": {},
   "outputs": [
    {
     "name": "stdout",
     "output_type": "stream",
     "text": [
      "['a', 'b', 'guido']\n",
      "a::b::guido\n",
      "a::b::guido\n"
     ]
    }
   ],
   "source": [
    "pieces = [x.strip() for x in val.split(',')]\n",
    "print(pieces) #清除空格和换行\n",
    "first, second, third = pieces\n",
    "print(first + '::' + second + '::' + third)\n",
    "print('::'.join(pieces))"
   ]
  },
  {
   "cell_type": "code",
   "execution_count": 37,
   "id": "99431b6f",
   "metadata": {},
   "outputs": [
    {
     "name": "stdout",
     "output_type": "stream",
     "text": [
      "True\n",
      "1\n",
      "-1\n"
     ]
    }
   ],
   "source": [
    "print('guido' in val)\n",
    "print(val.index(',')) #val.index(':')会报错\n",
    "print(val.find(':'))"
   ]
  },
  {
   "cell_type": "code",
   "execution_count": 38,
   "id": "58f7509a",
   "metadata": {},
   "outputs": [
    {
     "name": "stdout",
     "output_type": "stream",
     "text": [
      "2\n",
      "a::b::   guido\n",
      "ab   guido\n"
     ]
    }
   ],
   "source": [
    "print(val.count(','))\n",
    "print(val.replace(',', '::'))\n",
    "print(val.replace(',', ''))"
   ]
  },
  {
   "cell_type": "markdown",
   "id": "9dd8f5cc",
   "metadata": {},
   "source": [
    "### 正则表达式"
   ]
  },
  {
   "cell_type": "code",
   "execution_count": 39,
   "id": "3ba45214",
   "metadata": {},
   "outputs": [],
   "source": [
    "import re"
   ]
  },
  {
   "cell_type": "code",
   "execution_count": 40,
   "id": "69afcb1e",
   "metadata": {},
   "outputs": [
    {
     "name": "stdout",
     "output_type": "stream",
     "text": [
      "['foo', 'bar', 'baz', 'qux']\n"
     ]
    },
    {
     "name": "stderr",
     "output_type": "stream",
     "text": [
      "<>:2: SyntaxWarning: invalid escape sequence '\\s'\n",
      "<>:2: SyntaxWarning: invalid escape sequence '\\s'\n",
      "/tmp/ipykernel_1454/3947689210.py:2: SyntaxWarning: invalid escape sequence '\\s'\n",
      "  print(re.split('\\s+', text))\n"
     ]
    }
   ],
   "source": [
    "text = 'foo    bar\\t baz  \\tqux'\n",
    "print(re.split('\\s+', text)) "
   ]
  },
  {
   "cell_type": "code",
   "execution_count": 41,
   "id": "792e0284",
   "metadata": {},
   "outputs": [
    {
     "name": "stdout",
     "output_type": "stream",
     "text": [
      "['foo', 'bar', 'baz', 'qux']\n",
      "['    ', '\\t ', '  \\t']\n"
     ]
    },
    {
     "name": "stderr",
     "output_type": "stream",
     "text": [
      "<>:1: SyntaxWarning: invalid escape sequence '\\s'\n",
      "<>:1: SyntaxWarning: invalid escape sequence '\\s'\n",
      "/tmp/ipykernel_1454/3159715678.py:1: SyntaxWarning: invalid escape sequence '\\s'\n",
      "  regex = re.compile('\\s+')\n"
     ]
    }
   ],
   "source": [
    "regex = re.compile('\\s+')\n",
    "print(regex.split(text))\n",
    "print(regex.findall(text)) #未完成"
   ]
  },
  {
   "cell_type": "markdown",
   "id": "67072b13",
   "metadata": {},
   "source": [
    "### pandas中的向量化字符串函数"
   ]
  },
  {
   "cell_type": "code",
   "execution_count": 42,
   "id": "df7129b3",
   "metadata": {},
   "outputs": [
    {
     "name": "stdout",
     "output_type": "stream",
     "text": [
      "Dave     dave@google.com\n",
      "Steve    steve@gmail.com\n",
      "Rob        rob@gmail.com\n",
      "Wes                  NaN\n",
      "dtype: object\n"
     ]
    }
   ],
   "source": [
    "data = {'Dave': 'dave@google.com', 'Steve': 'steve@gmail.com', 'Rob': 'rob@gmail.com', 'Wes': np.nan}\n",
    "data = pd.Series(data)\n",
    "print(data)"
   ]
  },
  {
   "cell_type": "code",
   "execution_count": 43,
   "id": "bbe9b369",
   "metadata": {},
   "outputs": [
    {
     "name": "stdout",
     "output_type": "stream",
     "text": [
      "<bound method Series.isnull of Dave     dave@google.com\n",
      "Steve    steve@gmail.com\n",
      "Rob        rob@gmail.com\n",
      "Wes                  NaN\n",
      "dtype: object>\n"
     ]
    }
   ],
   "source": [
    "print(data.isnull) #未完成"
   ]
  }
 ],
 "metadata": {
  "kernelspec": {
   "display_name": "base",
   "language": "python",
   "name": "python3"
  },
  "language_info": {
   "codemirror_mode": {
    "name": "ipython",
    "version": 3
   },
   "file_extension": ".py",
   "mimetype": "text/x-python",
   "name": "python",
   "nbconvert_exporter": "python",
   "pygments_lexer": "ipython3",
   "version": "3.12.7"
  }
 },
 "nbformat": 4,
 "nbformat_minor": 5
}
