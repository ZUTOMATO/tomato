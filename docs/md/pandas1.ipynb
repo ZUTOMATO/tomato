{
 "cells": [
  {
   "cell_type": "code",
   "execution_count": 212,
   "id": "bd056cac",
   "metadata": {},
   "outputs": [],
   "source": [
    "import pandas as pd\n",
    "import numpy as np"
   ]
  },
  {
   "cell_type": "markdown",
   "id": "85c90b83",
   "metadata": {},
   "source": [
    "## 数据结构"
   ]
  },
  {
   "cell_type": "markdown",
   "id": "0bd3615c",
   "metadata": {},
   "source": [
    "### Series"
   ]
  },
  {
   "cell_type": "code",
   "execution_count": 213,
   "id": "84196c1b",
   "metadata": {},
   "outputs": [
    {
     "name": "stdout",
     "output_type": "stream",
     "text": [
      "0    4\n",
      "1    7\n",
      "2   -5\n",
      "3    3\n",
      "dtype: int64\n",
      "[ 4  7 -5  3]\n",
      "RangeIndex(start=0, stop=4, step=1)\n",
      "d    4\n",
      "b    7\n",
      "a   -5\n",
      "c    3\n",
      "dtype: int64\n",
      "Index(['d', 'b', 'a', 'c'], dtype='object')\n",
      "-5\n",
      "c    3\n",
      "a   -5\n",
      "d    6\n",
      "dtype: int64\n"
     ]
    }
   ],
   "source": [
    "obj = pd.Series([4, 7, -5, 3])\n",
    "print(obj) #左边是索引，右边是值\n",
    "print(obj.values) #值\n",
    "print(obj.index) #索引\n",
    "\n",
    "obj2 = pd.Series([4, 7, -5, 3], index=['d', 'b', 'a', 'c'])\n",
    "print(obj2)\n",
    "print(obj2.index)\n",
    "\n",
    "print(obj2['a']) #通过索引取值\n",
    "obj2['d'] = 6 #通过索引赋值\n",
    "print(obj2[['c', 'a', 'd']]) #通过索引列表取值"
   ]
  },
  {
   "cell_type": "code",
   "execution_count": 214,
   "id": "1062fe17",
   "metadata": {},
   "outputs": [
    {
     "name": "stdout",
     "output_type": "stream",
     "text": [
      "d    6\n",
      "b    7\n",
      "c    3\n",
      "dtype: int64\n",
      "d    12\n",
      "b    14\n",
      "a   -10\n",
      "c     6\n",
      "dtype: int64\n",
      "d     403.428793\n",
      "b    1096.633158\n",
      "a       0.006738\n",
      "c      20.085537\n",
      "dtype: float64\n",
      "True\n",
      "Ohio      35000\n",
      "Texas     71000\n",
      "Oregon    16000\n",
      "Utah       5000\n",
      "dtype: int64\n"
     ]
    }
   ],
   "source": [
    "print(obj2[obj2 > 0]) #布尔型索引\n",
    "print(obj2 * 2) #算术运算\n",
    "print(np.exp(obj2)) #numpy函数\n",
    "\n",
    "print('b' in obj2) #检查索引是否存在\n",
    "\n",
    "sdata = {'Ohio': 35000, 'Texas': 71000, 'Oregon': 16000, 'Utah': 5000} #字典创建Series\n",
    "obj3 = pd.Series(sdata)\n",
    "print(obj3)"
   ]
  },
  {
   "cell_type": "code",
   "execution_count": 215,
   "id": "b530ea12",
   "metadata": {},
   "outputs": [
    {
     "name": "stdout",
     "output_type": "stream",
     "text": [
      "California        NaN\n",
      "Ohio          35000.0\n",
      "Oregon        16000.0\n",
      "Texas         71000.0\n",
      "dtype: float64\n",
      "California     True\n",
      "Ohio          False\n",
      "Oregon        False\n",
      "Texas         False\n",
      "dtype: bool\n",
      "California    False\n",
      "Ohio           True\n",
      "Oregon         True\n",
      "Texas          True\n",
      "dtype: bool\n",
      "California         NaN\n",
      "Ohio           70000.0\n",
      "Oregon         32000.0\n",
      "Texas         142000.0\n",
      "Utah               NaN\n",
      "dtype: float64\n",
      "state\n",
      "California        NaN\n",
      "Ohio          35000.0\n",
      "Oregon        16000.0\n",
      "Texas         71000.0\n",
      "Name: population, dtype: float64\n"
     ]
    }
   ],
   "source": [
    "states = ['California', 'Ohio', 'Oregon', 'Texas'] #指定索引创建Series\n",
    "obj4 = pd.Series(sdata, index=states)\n",
    "print(obj4) #缺失值为NaN\n",
    "print(pd.isnull(obj4)) #检查缺失值\n",
    "print(pd.notnull(obj4)) #检查非缺失值\n",
    "print(obj3 + obj4) #算术运算，索引对齐\n",
    "\n",
    "obj4.name = 'population' #设置name属性\n",
    "obj4.index.name = 'state' #设置index的name属性\n",
    "print(obj4)"
   ]
  },
  {
   "cell_type": "code",
   "execution_count": 216,
   "id": "7ea6db6c",
   "metadata": {},
   "outputs": [
    {
     "name": "stdout",
     "output_type": "stream",
     "text": [
      "Bob      4\n",
      "Steve    7\n",
      "Jeff    -5\n",
      "Ryan     3\n",
      "dtype: int64\n"
     ]
    }
   ],
   "source": [
    "\n",
    "obj.index = ['Bob', 'Steve', 'Jeff', 'Ryan'] #修改索引\n",
    "print(obj)"
   ]
  },
  {
   "cell_type": "markdown",
   "id": "8c099945",
   "metadata": {},
   "source": [
    "### DataFrame"
   ]
  },
  {
   "cell_type": "code",
   "execution_count": 217,
   "id": "aeae36b2",
   "metadata": {},
   "outputs": [
    {
     "name": "stdout",
     "output_type": "stream",
     "text": [
      "    state  year  pop\n",
      "0    Ohio  2000  1.5\n",
      "1    Ohio  2001  1.7\n",
      "2    Ohio  2002  3.6\n",
      "3  Nevada  2001  2.4\n",
      "4  Nevada  2002  2.9\n",
      "5  Nevada  2003  3.2\n",
      "    state  year  pop\n",
      "0    Ohio  2000  1.5\n",
      "1    Ohio  2001  1.7\n",
      "2    Ohio  2002  3.6\n",
      "3  Nevada  2001  2.4\n",
      "4  Nevada  2002  2.9\n",
      "    state  year  pop\n",
      "3  Nevada  2001  2.4\n",
      "4  Nevada  2002  2.9\n",
      "5  Nevada  2003  3.2\n"
     ]
    }
   ],
   "source": [
    "data = {'state': ['Ohio', 'Ohio', 'Ohio', 'Nevada', 'Nevada', 'Nevada'],\n",
    "\t\t'year': [2000, 2001, 2002, 2001, 2002, 2003],\n",
    "\t\t'pop': [1.5, 1.7, 3.6, 2.4, 2.9, 3.2]}\n",
    "frame = pd.DataFrame(data) #字典创建DataFrame\n",
    "print(frame)\n",
    "print(frame.head()) #前五行\n",
    "print(frame.tail(3)) #后3行"
   ]
  },
  {
   "cell_type": "code",
   "execution_count": 218,
   "id": "7d7dff12",
   "metadata": {},
   "outputs": [
    {
     "name": "stdout",
     "output_type": "stream",
     "text": [
      "   year   state  pop\n",
      "0  2000    Ohio  1.5\n",
      "1  2001    Ohio  1.7\n",
      "2  2002    Ohio  3.6\n",
      "3  2001  Nevada  2.4\n",
      "4  2002  Nevada  2.9\n",
      "5  2003  Nevada  3.2\n",
      "       year   state  pop debt\n",
      "one    2000    Ohio  1.5  NaN\n",
      "two    2001    Ohio  1.7  NaN\n",
      "three  2002    Ohio  3.6  NaN\n",
      "four   2001  Nevada  2.4  NaN\n",
      "five   2002  Nevada  2.9  NaN\n",
      "six    2003  Nevada  3.2  NaN\n",
      "Index(['state', 'year', 'pop'], dtype='object')\n"
     ]
    }
   ],
   "source": [
    "print(pd.DataFrame(data, columns=['year', 'state', 'pop'])) #指定列顺序\n",
    "frame2 = pd.DataFrame(data, columns=['year', 'state', 'pop', 'debt'], index=['one', 'two', 'three', 'four', 'five', 'six']) #指定列顺序和索引\n",
    "print(frame2)\n",
    "\n",
    "print(frame.columns) #列名"
   ]
  },
  {
   "cell_type": "code",
   "execution_count": 219,
   "id": "b3153f05",
   "metadata": {},
   "outputs": [
    {
     "name": "stdout",
     "output_type": "stream",
     "text": [
      "one        Ohio\n",
      "two        Ohio\n",
      "three      Ohio\n",
      "four     Nevada\n",
      "five     Nevada\n",
      "six      Nevada\n",
      "Name: state, dtype: object\n",
      "one      2000\n",
      "two      2001\n",
      "three    2002\n",
      "four     2001\n",
      "five     2002\n",
      "six      2003\n",
      "Name: year, dtype: int64\n",
      "year     2002\n",
      "state    Ohio\n",
      "pop       3.6\n",
      "debt      NaN\n",
      "Name: three, dtype: object\n"
     ]
    }
   ],
   "source": [
    "print(frame2['state']) #取列\n",
    "print(frame2.year) #取列\n",
    "\n",
    "print(frame2.loc['three']) #按标签取行"
   ]
  },
  {
   "cell_type": "code",
   "execution_count": 220,
   "id": "0df47ff1",
   "metadata": {},
   "outputs": [
    {
     "name": "stdout",
     "output_type": "stream",
     "text": [
      "       year   state  pop  debt\n",
      "one    2000    Ohio  1.5  16.5\n",
      "two    2001    Ohio  1.7  16.5\n",
      "three  2002    Ohio  3.6  16.5\n",
      "four   2001  Nevada  2.4  16.5\n",
      "five   2002  Nevada  2.9  16.5\n",
      "six    2003  Nevada  3.2  16.5\n",
      "       year   state  pop  debt\n",
      "one    2000    Ohio  1.5   0.0\n",
      "two    2001    Ohio  1.7   1.0\n",
      "three  2002    Ohio  3.6   2.0\n",
      "four   2001  Nevada  2.4   3.0\n",
      "five   2002  Nevada  2.9   4.0\n",
      "six    2003  Nevada  3.2   5.0\n"
     ]
    }
   ],
   "source": [
    "frame2['debt'] = 16.5 #赋值\n",
    "print(frame2)\n",
    "frame2['debt'] = np.arange(6.)\n",
    "print(frame2)"
   ]
  },
  {
   "cell_type": "code",
   "execution_count": 221,
   "id": "b3aebd5f",
   "metadata": {},
   "outputs": [
    {
     "name": "stdout",
     "output_type": "stream",
     "text": [
      "       year   state  pop  debt\n",
      "one    2000    Ohio  1.5   NaN\n",
      "two    2001    Ohio  1.7  -1.2\n",
      "three  2002    Ohio  3.6   NaN\n",
      "four   2001  Nevada  2.4  -1.5\n",
      "five   2002  Nevada  2.9  -1.7\n",
      "six    2003  Nevada  3.2   NaN\n",
      "       year   state  pop  debt  eastern\n",
      "one    2000    Ohio  1.5   NaN     True\n",
      "two    2001    Ohio  1.7  -1.2     True\n",
      "three  2002    Ohio  3.6   NaN     True\n",
      "four   2001  Nevada  2.4  -1.5    False\n",
      "five   2002  Nevada  2.9  -1.7    False\n",
      "six    2003  Nevada  3.2   NaN    False\n",
      "Index(['year', 'state', 'pop', 'debt'], dtype='object')\n"
     ]
    }
   ],
   "source": [
    "val = pd.Series([-1.2, -1.5, -1.7], index=['two', 'four', 'five'])\n",
    "frame2['debt'] = val #按索引赋值\n",
    "print(frame2)\n",
    "\n",
    "frame2['eastern'] = frame2.state == 'Ohio' #布尔型列\n",
    "print(frame2)\n",
    "del frame2['eastern'] #删除列\n",
    "print(frame2.columns) #列名"
   ]
  },
  {
   "cell_type": "code",
   "execution_count": 222,
   "id": "eeb2b4fc",
   "metadata": {},
   "outputs": [
    {
     "name": "stdout",
     "output_type": "stream",
     "text": [
      "      Nevada  Ohio\n",
      "2001     2.4   1.7\n",
      "2002     2.9   3.6\n",
      "2000     NaN   1.5\n",
      "        2001  2002  2000\n",
      "Nevada   2.4   2.9   NaN\n",
      "Ohio     1.7   3.6   1.5\n",
      "      Ohio  Nevada\n",
      "2001   1.7     2.4\n",
      "2002   3.6     2.9\n",
      "state  Nevada  Ohio\n",
      "year               \n",
      "2001      2.4   1.7\n",
      "2002      2.9   3.6\n",
      "2000      NaN   1.5\n",
      "[[2.4 1.7]\n",
      " [2.9 3.6]\n",
      " [nan 1.5]]\n",
      "float64\n",
      "[[2000 'Ohio' 1.5 nan]\n",
      " [2001 'Ohio' 1.7 -1.2]\n",
      " [2002 'Ohio' 3.6 nan]\n",
      " [2001 'Nevada' 2.4 -1.5]\n",
      " [2002 'Nevada' 2.9 -1.7]\n",
      " [2003 'Nevada' 3.2 nan]]\n",
      "object\n"
     ]
    }
   ],
   "source": [
    "pop = {'Nevada': {2001: 2.4, 2002: 2.9},\n",
    "\t   'Ohio': {2000: 1.5, 2001: 1.7, 2002: 3.6}}\n",
    "frame3 = pd.DataFrame(pop) #嵌套字典创建DataFrame\n",
    "print(frame3)\n",
    "print(frame3.T) #转置\n",
    "\n",
    "pdata = {'Ohio': frame3['Ohio'][:-1], 'Nevada': frame3['Nevada'][:2]} #通过列创建DataFrame\n",
    "print(pd.DataFrame(pdata))\n",
    "\n",
    "frame3.index.name = 'year' #设置index的name属性\n",
    "frame3.columns.name = 'state' #设置columns的name属性\n",
    "print(frame3)\n",
    "\n",
    "print(frame3.values) #二维ndarray\n",
    "print(frame3.values.dtype) #值的类型\n",
    "print(frame2.values) #二维ndarray，类型不同会转换成object\n",
    "print(frame2.values.dtype) #值的类型"
   ]
  },
  {
   "cell_type": "markdown",
   "id": "9aa40edb",
   "metadata": {},
   "source": [
    "DataFrame构造函数的有效输入可以有：\n",
    "\n",
    "- 2D ndarray：数据的矩阵，行和列的标签是可选参数\n",
    "- 数组、列表和元组构成的字典：每个序列成为DataFrame的一列，所有序列必须长度相等\n",
    "- NumPy结构化/记录化数组：与数组构成的字典一致\n",
    "- Series构成的字典：每个值成为一列，每个Series的索引联合起来 形成结果的行索引，也可以显式地传递序列\n",
    "- 字典构成的字典：每个内部字典成为一列，键联合起来形成结果的行索引\n",
    "- 字典或Series构成的列表：列表中的一个元素形成DataFrame的一行，字典键或Series索引联合起来形成DataFrame的列标签\n",
    "- 列表或元组构成的列表：与二维数组的情况一致\n",
    "- 其他DataFrame：如果不显示传递索引，则会使用原DatraFrame的索引\n",
    "- NumPy MaskedArray：和二维数组的情况类似但隐藏制会在结果中成为缺失值"
   ]
  },
  {
   "cell_type": "markdown",
   "id": "f88c92ab",
   "metadata": {},
   "source": [
    "### 索引对象"
   ]
  },
  {
   "cell_type": "code",
   "execution_count": 223,
   "id": "47e4b81c",
   "metadata": {},
   "outputs": [
    {
     "name": "stdout",
     "output_type": "stream",
     "text": [
      "a    0\n",
      "b    1\n",
      "c    2\n",
      "dtype: int64\n",
      "Index(['a', 'b', 'c'], dtype='object')\n",
      "Index(['b', 'c'], dtype='object')\n",
      "b\n",
      "Index([0, 1, 2], dtype='int64')\n",
      "0    1.5\n",
      "1   -2.5\n",
      "2    0.0\n",
      "dtype: float64\n",
      "True\n"
     ]
    }
   ],
   "source": [
    "obj = pd.Series(range(3), index=['a', 'b', 'c'])\n",
    "index = obj.index\n",
    "print(obj)\n",
    "print(index)\n",
    "print(index[1:]) #索引切片\n",
    "print(index[1]) #单个索引\n",
    "# index[1] = 'd' #索引不可修改，不变性更安全\n",
    "lables = pd.Index(np.arange(3)) #创建Index对象\n",
    "print(lables)\n",
    "obj2 = pd.Series([1.5, -2.5, 0], index=lables)\n",
    "print(obj2)\n",
    "print(obj2.index is lables) #obj2的索引就是lables"
   ]
  },
  {
   "cell_type": "code",
   "execution_count": 224,
   "id": "29c2809d",
   "metadata": {},
   "outputs": [
    {
     "name": "stdout",
     "output_type": "stream",
     "text": [
      "state  Nevada  Ohio\n",
      "year               \n",
      "2001      2.4   1.7\n",
      "2002      2.9   3.6\n",
      "2000      NaN   1.5\n",
      "True\n",
      "False\n",
      "Index(['foo', 'foo', 'bar', 'bar'], dtype='object')\n"
     ]
    }
   ],
   "source": [
    "#除了类似数组，索引对象也像一个固定大小的集合\n",
    "print(frame3)\n",
    "print('Ohio' in frame3.columns) #检查列名是否存在\n",
    "print(2003 in frame3.index) #检查行索引是否存在\n",
    "dup_lables = pd.Index(['foo', 'foo', 'bar', 'bar']) #重复索引\n",
    "print(dup_lables)"
   ]
  },
  {
   "cell_type": "code",
   "execution_count": 225,
   "id": "9463093b",
   "metadata": {},
   "outputs": [],
   "source": [
    "del obj, obj2, obj3, obj4, frame, frame2, frame3, data, sdata, states, pop, pdata, val, index, lables, dup_lables"
   ]
  },
  {
   "cell_type": "markdown",
   "id": "a92b8880",
   "metadata": {},
   "source": [
    "## 基本功能"
   ]
  },
  {
   "cell_type": "markdown",
   "id": "50c98d0c",
   "metadata": {},
   "source": [
    "### 重建索引"
   ]
  },
  {
   "cell_type": "markdown",
   "id": "74ab8ffc",
   "metadata": {},
   "source": [
    "在Series中的reindex()函数："
   ]
  },
  {
   "cell_type": "code",
   "execution_count": 226,
   "id": "e4c03296",
   "metadata": {},
   "outputs": [
    {
     "name": "stdout",
     "output_type": "stream",
     "text": [
      "d    4.5\n",
      "b    7.2\n",
      "a   -5.3\n",
      "c    3.6\n",
      "dtype: float64\n",
      "a   -5.3\n",
      "b    7.2\n",
      "c    3.6\n",
      "d    4.5\n",
      "e    NaN\n",
      "dtype: float64\n",
      "a   -5.3\n",
      "b    7.2\n",
      "c    3.6\n",
      "d    4.5\n",
      "e    0.0\n",
      "dtype: float64\n",
      "0      blue\n",
      "2    purple\n",
      "4    yellow\n",
      "dtype: object\n",
      "0      blue\n",
      "1      blue\n",
      "2    purple\n",
      "3    purple\n",
      "4    yellow\n",
      "5    yellow\n",
      "dtype: object\n"
     ]
    }
   ],
   "source": [
    "obj = pd.Series([4.5, 7.2, -5.3, 3.6], index=['d', 'b', 'a', 'c'])\n",
    "print(obj)\n",
    "obj2 = obj.reindex(['a', 'b', 'c', 'd', 'e']) #重新索引，缺失值为NaN\n",
    "print(obj2)\n",
    "obj3 = obj.reindex(['a', 'b', 'c', 'd', 'e'], fill_value=0) #重新索引，缺失值填充0\n",
    "print(obj3)\n",
    "obj4 = pd.Series(['blue', 'purple', 'yellow'], index=[0, 2, 4])\n",
    "print(obj4)\n",
    "obj4 = obj4.reindex(range(6), method='ffill') #重新索引，前向填充\n",
    "print(obj4)"
   ]
  },
  {
   "cell_type": "markdown",
   "id": "b7020127",
   "metadata": {},
   "source": [
    "在DataFrame中："
   ]
  },
  {
   "cell_type": "code",
   "execution_count": 227,
   "id": "eefbf89e",
   "metadata": {},
   "outputs": [
    {
     "name": "stdout",
     "output_type": "stream",
     "text": [
      "   Ohio  Texas  California\n",
      "a     0      1           2\n",
      "c     3      4           5\n",
      "d     6      7           8\n",
      "   Ohio  Texas  California\n",
      "a   0.0    1.0         2.0\n",
      "b   NaN    NaN         NaN\n",
      "c   3.0    4.0         5.0\n",
      "d   6.0    7.0         8.0\n",
      "   Texas  Utah  California\n",
      "a      1   NaN           2\n",
      "c      4   NaN           5\n",
      "d      7   NaN           8\n"
     ]
    }
   ],
   "source": [
    "frame = pd.DataFrame(np.arange(9).reshape((3, 3)), index=['a', 'c', 'd'], columns=['Ohio', 'Texas', 'California'])\n",
    "print(frame)\n",
    "frame2 = frame.reindex(['a', 'b', 'c', 'd']) #重新索引行，缺失值为NaN\n",
    "print(frame2)\n",
    "states = ['Texas', 'Utah', 'California']\n",
    "frame3 = frame.reindex(columns=states) #重新索引列，缺失值为NaN\n",
    "print(frame3)"
   ]
  },
  {
   "cell_type": "markdown",
   "id": "768a9760",
   "metadata": {},
   "source": [
    "reindex方法的参数：\n",
    "- index：新建作为索引的序列，可以是索引实例或任意其他序列型python数据结构，索引使用时无需复制\n",
    "- method：插值方式：'ffill'为前向填充，'bfill'是后向填充\n",
    "- fill_value：通过重新索引引入缺失数据时使用的替代值\n",
    "- limit：当前向或后向填充时，所需填充的最大尺寸间隙（以元素数量）\n",
    "- tolerance：当前向或后向填充时，所需填充的不精确匹配下的最大尺寸间隙（以绝对数字距离）\n",
    "- level：匹配MultiIndex级别的简单索引，否则选择子集\n",
    "- copy：如果为True，即使新索引等于旧索引，也总是复制底层数据，如果时False，则在索引相同时不要复制数据"
   ]
  },
  {
   "cell_type": "markdown",
   "id": "7c234b52",
   "metadata": {},
   "source": [
    "### 轴向上删除条目"
   ]
  },
  {
   "cell_type": "code",
   "execution_count": 228,
   "id": "902f3ce7",
   "metadata": {},
   "outputs": [
    {
     "name": "stdout",
     "output_type": "stream",
     "text": [
      "a    0.0\n",
      "b    1.0\n",
      "c    2.0\n",
      "d    3.0\n",
      "e    4.0\n",
      "dtype: float64\n",
      "a    0.0\n",
      "b    1.0\n",
      "d    3.0\n",
      "e    4.0\n",
      "dtype: float64\n",
      "          one  two  three  four\n",
      "Ohio        0    1      2     3\n",
      "Colorado    4    5      6     7\n",
      "Utah        8    9     10    11\n",
      "New York   12   13     14    15\n",
      "          one  two  three  four\n",
      "Utah        8    9     10    11\n",
      "New York   12   13     14    15\n",
      "          one  three  four\n",
      "Ohio        0      2     3\n",
      "Colorado    4      6     7\n",
      "Utah        8     10    11\n",
      "New York   12     14    15\n",
      "          one  three\n",
      "Ohio        0      2\n",
      "Colorado    4      6\n",
      "Utah        8     10\n",
      "New York   12     14\n"
     ]
    }
   ],
   "source": [
    "obj = pd.Series(np.arange(5.), index=['a', 'b', 'c', 'd', 'e'])\n",
    "print(obj)\n",
    "new_obj = obj.drop('c') #删除指定索引\n",
    "print(new_obj)\n",
    "obj.drop(['d', 'c']) #删除多个索引\n",
    "\n",
    "data = pd.DataFrame(np.arange(16).reshape((4, 4)),\n",
    "\t\t\t\t\tindex=['Ohio', 'Colorado', 'Utah', 'New York'],\n",
    "\t\t\t\t\tcolumns=['one', 'two', 'three', 'four'])\n",
    "print(data)\n",
    "data2 = data.drop(['Colorado', 'Ohio']) #删除指定行\n",
    "print(data2)\n",
    "print(data.drop('two', axis=1)) #删除指定列\n",
    "print(data.drop(['two', 'four'], axis='columns')) #删除多列"
   ]
  },
  {
   "cell_type": "code",
   "execution_count": 229,
   "id": "6795bcd8",
   "metadata": {},
   "outputs": [
    {
     "name": "stdout",
     "output_type": "stream",
     "text": [
      "a    0.0\n",
      "b    1.0\n",
      "d    3.0\n",
      "e    4.0\n",
      "dtype: float64\n"
     ]
    }
   ],
   "source": [
    "obj.drop('c', inplace=True) #直接在obj上删除，不返回新对象\n",
    "print(obj)"
   ]
  },
  {
   "cell_type": "markdown",
   "id": "5861b243",
   "metadata": {},
   "source": [
    "### 索引、选择和与过滤"
   ]
  },
  {
   "cell_type": "code",
   "execution_count": 230,
   "id": "2b24ebc7",
   "metadata": {},
   "outputs": [
    {
     "name": "stdout",
     "output_type": "stream",
     "text": [
      "a    0.0\n",
      "b    1.0\n",
      "c    2.0\n",
      "d    3.0\n",
      "dtype: float64\n",
      "1.0\n",
      "1.0\n",
      "c    2.0\n",
      "d    3.0\n",
      "dtype: float64\n",
      "b    1.0\n",
      "a    0.0\n",
      "d    3.0\n",
      "dtype: float64\n",
      "b    1.0\n",
      "d    3.0\n",
      "dtype: float64\n",
      "a    0.0\n",
      "b    1.0\n",
      "dtype: float64\n",
      "a    0.0\n",
      "b    0.0\n",
      "c    2.0\n",
      "d    3.0\n",
      "dtype: float64\n"
     ]
    }
   ],
   "source": [
    "obj = pd.Series(np.arange(4.), index=['a', 'b', 'c', 'd'])\n",
    "print(obj)\n",
    "print(obj['b']) #通过索引取值\n",
    "print(obj[1]) #通过位置取值\n",
    "print(obj[2:4]) #切片取值\n",
    "print(obj[['b', 'a', 'd']]) #通过索引列表取值\n",
    "print(obj[[1, 3]]) #通过位置列表取值\n",
    "print(obj[obj < 2]) #布尔型索引取值\n",
    "obj[obj < 2] = 0 #布尔型索引赋值\n",
    "print(obj)"
   ]
  },
  {
   "cell_type": "code",
   "execution_count": 231,
   "id": "c0beeb18",
   "metadata": {},
   "outputs": [
    {
     "name": "stdout",
     "output_type": "stream",
     "text": [
      "          one  two  three  four\n",
      "Ohio        0    1      2     3\n",
      "Colorado    4    5      6     7\n",
      "Utah        8    9     10    11\n",
      "New York   12   13     14    15\n",
      "Ohio         1\n",
      "Colorado     5\n",
      "Utah         9\n",
      "New York    13\n",
      "Name: two, dtype: int64\n",
      "          three  one\n",
      "Ohio          2    0\n",
      "Colorado      6    4\n",
      "Utah         10    8\n",
      "New York     14   12\n",
      "          one  two  three  four\n",
      "Ohio        0    1      2     3\n",
      "Colorado    4    5      6     7\n"
     ]
    }
   ],
   "source": [
    "data = pd.DataFrame(np.arange(16).reshape((4, 4)),\n",
    "\t\t\t\t\tindex=['Ohio', 'Colorado', 'Utah', 'New York'],\n",
    "\t\t\t\t\tcolumns=['one', 'two', 'three', 'four'])\n",
    "print(data)\n",
    "print(data['two']) #取列\n",
    "print(data[['three', 'one']]) #取多列\n",
    "print(data[:2]) #切片取行"
   ]
  },
  {
   "cell_type": "code",
   "execution_count": 232,
   "id": "654eaafb",
   "metadata": {},
   "outputs": [
    {
     "name": "stdout",
     "output_type": "stream",
     "text": [
      "          one  two  three  four\n",
      "Colorado    4    5      6     7\n",
      "Utah        8    9     10    11\n",
      "New York   12   13     14    15\n",
      "            one    two  three   four\n",
      "Ohio       True   True   True   True\n",
      "Colorado   True  False  False  False\n",
      "Utah      False  False  False  False\n",
      "New York  False  False  False  False\n",
      "          one  two  three  four\n",
      "Ohio        0    0      0     0\n",
      "Colorado    0    5      6     7\n",
      "Utah        8    9     10    11\n",
      "New York   12   13     14    15\n"
     ]
    }
   ],
   "source": [
    "print(data[data['three'] > 5]) #布尔型索引取行\n",
    "print(data < 5) #产生布尔型DataFrame\n",
    "data[data < 5] = 0 #通过布尔型DataFrame赋值\n",
    "print(data)"
   ]
  },
  {
   "cell_type": "markdown",
   "id": "6c1f8af6",
   "metadata": {},
   "source": [
    "使用loc和iloc选择数据"
   ]
  },
  {
   "cell_type": "code",
   "execution_count": 233,
   "id": "294d37f4",
   "metadata": {},
   "outputs": [
    {
     "name": "stdout",
     "output_type": "stream",
     "text": [
      "two      5\n",
      "three    6\n",
      "Name: Colorado, dtype: int64\n",
      "four    11\n",
      "one      8\n",
      "two      9\n",
      "Name: Utah, dtype: int64\n",
      "one       8\n",
      "two       9\n",
      "three    10\n",
      "four     11\n",
      "Name: Utah, dtype: int64\n"
     ]
    }
   ],
   "source": [
    "print(data.loc['Colorado', ['two', 'three']])\n",
    "print(data.iloc[2, [3, 0, 1]])\n",
    "print(data.iloc[2])"
   ]
  },
  {
   "cell_type": "markdown",
   "id": "4a0e38e2",
   "metadata": {},
   "source": [
    "### 算术和数据对齐"
   ]
  },
  {
   "cell_type": "markdown",
   "id": "89704427",
   "metadata": {},
   "source": [
    "两个不同的索引化对象进行算术时结果对齐数据会产生缺失值"
   ]
  },
  {
   "cell_type": "markdown",
   "id": "810d7e68",
   "metadata": {},
   "source": [
    "使用特殊值填充："
   ]
  },
  {
   "cell_type": "code",
   "execution_count": 234,
   "id": "511feb90",
   "metadata": {},
   "outputs": [
    {
     "name": "stdout",
     "output_type": "stream",
     "text": [
      "     a    b     c     d\n",
      "0  0.0  1.0   2.0   3.0\n",
      "1  4.0  5.0   6.0   7.0\n",
      "2  8.0  9.0  10.0  11.0\n",
      "      a     b     c     d     e\n",
      "0   0.0   1.0   2.0   3.0   4.0\n",
      "1   5.0   NaN   7.0   8.0   9.0\n",
      "2  10.0  11.0  12.0  13.0  14.0\n",
      "3  15.0  16.0  17.0  18.0  19.0\n"
     ]
    }
   ],
   "source": [
    "df1 = pd.DataFrame(np.arange(12.).reshape((3, 4)), columns=list('abcd'))\n",
    "df2 = pd.DataFrame(np.arange(20.).reshape((4, 5)), columns=list('abcde'))\n",
    "df2.loc[1, 'b'] = np.nan\n",
    "print(df1)\n",
    "print(df2)"
   ]
  },
  {
   "cell_type": "markdown",
   "id": "50e7dc64",
   "metadata": {},
   "source": [
    "直接相加："
   ]
  },
  {
   "cell_type": "code",
   "execution_count": 235,
   "id": "9ee16648",
   "metadata": {},
   "outputs": [
    {
     "name": "stdout",
     "output_type": "stream",
     "text": [
      "      a     b     c     d   e\n",
      "0   0.0   2.0   4.0   6.0 NaN\n",
      "1   9.0   NaN  13.0  15.0 NaN\n",
      "2  18.0  20.0  22.0  24.0 NaN\n",
      "3   NaN   NaN   NaN   NaN NaN\n"
     ]
    }
   ],
   "source": [
    "print(df1 + df2)"
   ]
  },
  {
   "cell_type": "markdown",
   "id": "1e85b0f9",
   "metadata": {},
   "source": [
    "用add方法："
   ]
  },
  {
   "cell_type": "code",
   "execution_count": 236,
   "id": "6d9036e0",
   "metadata": {},
   "outputs": [
    {
     "name": "stdout",
     "output_type": "stream",
     "text": [
      "      a     b     c     d     e\n",
      "0   0.0   2.0   4.0   6.0   4.0\n",
      "1   9.0   5.0  13.0  15.0   9.0\n",
      "2  18.0  20.0  22.0  24.0  14.0\n",
      "3  15.0  16.0  17.0  18.0  19.0\n"
     ]
    }
   ],
   "source": [
    "print(df1.add(df2, fill_value=0))"
   ]
  },
  {
   "cell_type": "code",
   "execution_count": 237,
   "id": "cf2c2ee2",
   "metadata": {},
   "outputs": [
    {
     "name": "stdout",
     "output_type": "stream",
     "text": [
      "       a         b         c         d\n",
      "0    inf  1.000000  0.500000  0.333333\n",
      "1  0.250  0.200000  0.166667  0.142857\n",
      "2  0.125  0.111111  0.100000  0.090909\n",
      "       a         b         c         d\n",
      "0    inf  1.000000  0.500000  0.333333\n",
      "1  0.250  0.200000  0.166667  0.142857\n",
      "2  0.125  0.111111  0.100000  0.090909\n"
     ]
    }
   ],
   "source": [
    "print(1/df1)\n",
    "print(df1.rdiv(1))"
   ]
  },
  {
   "cell_type": "markdown",
   "id": "c672f8bc",
   "metadata": {},
   "source": [
    "reindex也有类似的："
   ]
  },
  {
   "cell_type": "code",
   "execution_count": 238,
   "id": "20e90517",
   "metadata": {},
   "outputs": [
    {
     "name": "stdout",
     "output_type": "stream",
     "text": [
      "     a    b     c     d  e\n",
      "0  0.0  1.0   2.0   3.0  0\n",
      "1  4.0  5.0   6.0   7.0  0\n",
      "2  8.0  9.0  10.0  11.0  0\n"
     ]
    }
   ],
   "source": [
    "print(df1.reindex(columns=df2.columns, fill_value=0))"
   ]
  },
  {
   "cell_type": "markdown",
   "id": "080d91fa",
   "metadata": {},
   "source": [
    "算术方法有：\n",
    "- add, radd：加法\n",
    "- sub, rsub：减法\n",
    "- div, rdiv：除法\n",
    "- floordiv, rfloordiv：整除\n",
    "- mul, rmul：乘法\n",
    "- pow, rpow：幂次方"
   ]
  },
  {
   "cell_type": "markdown",
   "id": "db93a97b",
   "metadata": {},
   "source": [
    "广播机制："
   ]
  },
  {
   "cell_type": "code",
   "execution_count": 239,
   "id": "466bcb3e",
   "metadata": {},
   "outputs": [
    {
     "name": "stdout",
     "output_type": "stream",
     "text": [
      "[[ 0.  1.  2.  3.]\n",
      " [ 4.  5.  6.  7.]\n",
      " [ 8.  9. 10. 11.]]\n",
      "[0. 1. 2. 3.]\n",
      "[[0. 0. 0. 0.]\n",
      " [4. 4. 4. 4.]\n",
      " [8. 8. 8. 8.]]\n"
     ]
    }
   ],
   "source": [
    "arr = np.arange(12.).reshape((3, 4))\n",
    "print(arr)\n",
    "print(arr[0])\n",
    "print(arr - arr[0]) #进行减法时在每一行都进行了操作"
   ]
  },
  {
   "cell_type": "markdown",
   "id": "61f58bc2",
   "metadata": {},
   "source": [
    "在DataFrame和Series间进行操作："
   ]
  },
  {
   "cell_type": "code",
   "execution_count": 240,
   "id": "b722898f",
   "metadata": {},
   "outputs": [
    {
     "name": "stdout",
     "output_type": "stream",
     "text": [
      "          b     d     e\n",
      "Utah    0.0   1.0   2.0\n",
      "Ohio    3.0   4.0   5.0\n",
      "Texa    6.0   7.0   8.0\n",
      "Oregon  9.0  10.0  11.0\n",
      "b    0.0\n",
      "d    1.0\n",
      "e    2.0\n",
      "Name: Utah, dtype: float64\n",
      "          b    d    e\n",
      "Utah    0.0  0.0  0.0\n",
      "Ohio    3.0  3.0  3.0\n",
      "Texa    6.0  6.0  6.0\n",
      "Oregon  9.0  9.0  9.0\n"
     ]
    }
   ],
   "source": [
    "frame = pd.DataFrame(np.arange(12.).reshape((4, 3)), columns=list('bde'), index=['Utah', 'Ohio', 'Texa', 'Oregon'])\n",
    "series = frame.iloc[0]\n",
    "print(frame)\n",
    "print(series)\n",
    "print(frame-series) #将Series的索引和DataFrame的列进行匹配并广播到各行"
   ]
  },
  {
   "cell_type": "markdown",
   "id": "6f0ca7e5",
   "metadata": {},
   "source": [
    "在列上广播："
   ]
  },
  {
   "cell_type": "code",
   "execution_count": 241,
   "id": "122cdafe",
   "metadata": {},
   "outputs": [
    {
     "name": "stdout",
     "output_type": "stream",
     "text": [
      "          b     d     e\n",
      "Utah    0.0   1.0   2.0\n",
      "Ohio    3.0   4.0   5.0\n",
      "Texa    6.0   7.0   8.0\n",
      "Oregon  9.0  10.0  11.0\n",
      "Utah       1.0\n",
      "Ohio       4.0\n",
      "Texa       7.0\n",
      "Oregon    10.0\n",
      "Name: d, dtype: float64\n",
      "          b    d    e\n",
      "Utah   -1.0  0.0  1.0\n",
      "Ohio   -1.0  0.0  1.0\n",
      "Texa   -1.0  0.0  1.0\n",
      "Oregon -1.0  0.0  1.0\n"
     ]
    }
   ],
   "source": [
    "series2 = frame['d']\n",
    "print(frame)\n",
    "print(series2)\n",
    "print(frame.sub(series2, axis='index'))"
   ]
  }
 ],
 "metadata": {
  "kernelspec": {
   "display_name": "py38env",
   "language": "python",
   "name": "python3"
  },
  "language_info": {
   "codemirror_mode": {
    "name": "ipython",
    "version": 3
   },
   "file_extension": ".py",
   "mimetype": "text/x-python",
   "name": "python",
   "nbconvert_exporter": "python",
   "pygments_lexer": "ipython3",
   "version": "3.8.20"
  }
 },
 "nbformat": 4,
 "nbformat_minor": 5
}
