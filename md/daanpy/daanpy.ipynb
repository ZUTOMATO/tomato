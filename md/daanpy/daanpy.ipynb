{
 "cells": [
  {
   "cell_type": "markdown",
   "id": "fafb3f98",
   "metadata": {},
   "source": [
    "## 文本格式数据的读写"
   ]
  },
  {
   "cell_type": "markdown",
   "id": "db57a20a",
   "metadata": {},
   "source": [
    "pandas的解析函数：\n",
    "- read_csv\n",
    "- read_table\n",
    "- ..."
   ]
  },
  {
   "cell_type": "code",
   "execution_count": 47,
   "id": "fc19bc18",
   "metadata": {},
   "outputs": [],
   "source": [
    "import pandas as pd\n",
    "import numpy as np"
   ]
  },
  {
   "cell_type": "code",
   "execution_count": 48,
   "id": "11f8e8df",
   "metadata": {},
   "outputs": [
    {
     "name": "stdout",
     "output_type": "stream",
     "text": [
      "   a   b   c   d message\n",
      "0  1   2   3   4   hello\n",
      "1  5   6   7   8   world\n",
      "2  9  10  11  12     foo\n",
      "   a   b   c   d message\n",
      "0  1   2   3   4   hello\n",
      "1  5   6   7   8   world\n",
      "2  9  10  11  12     foo\n",
      "   0   1   2   3      4\n",
      "0  1   2   3   4  hello\n",
      "1  5   6   7   8  world\n",
      "2  9  10  11  12    foo\n",
      "   a   b   c   d message\n",
      "0  1   2   3   4   hello\n",
      "1  5   6   7   8   world\n",
      "2  9  10  11  12     foo\n",
      "         a   b   c   d\n",
      "message               \n",
      "hello    1   2   3   4\n",
      "world    5   6   7   8\n",
      "foo      9  10  11  12\n"
     ]
    }
   ],
   "source": [
    "df = pd.read_csv('examples/ex1.csv')\n",
    "print(df) #用read_csv()读取csv文件\n",
    "print(pd.read_table('examples/ex1.csv', sep=',')) #用read_table()读取csv文件，并指定分隔符\n",
    "print(pd.read_csv('examples/ex2.csv', header=None)) #没有列名时，header=None\n",
    "print(pd.read_csv('examples/ex2.csv', names=['a', 'b', 'c', 'd', 'message'])) #指定列名\n",
    "names = ['a', 'b', 'c', 'd', 'message']\n",
    "print(pd.read_csv('examples/ex2.csv', names=names, index_col='message')) #指定列名，并将message列作为索引"
   ]
  },
  {
   "cell_type": "code",
   "execution_count": 49,
   "id": "0f96f1a5",
   "metadata": {},
   "outputs": [
    {
     "name": "stdout",
     "output_type": "stream",
     "text": [
      "           value1  value2\n",
      "key1 key2                \n",
      "one  a          1       2\n",
      "     b          3       4\n",
      "     c          5       6\n",
      "     d          7       8\n",
      "two  a          9      10\n",
      "     b         11      12\n",
      "     c         13      14\n",
      "     d         15      16\n",
      "['            A         B         C\\n', 'aaa -0.264438 -1.026059 -0.619500\\n', 'bbb  0.927272  0.302904 -0.032399\\n', 'ccc -0.264273 -0.386314 -0.217601\\n', 'ddd -0.871858 -0.348382  1.100491\\n']\n",
      "            A         B         C\n",
      "aaa -0.264438 -1.026059 -0.619500\n",
      "bbb  0.927272  0.302904 -0.032399\n",
      "ccc -0.264273 -0.386314 -0.217601\n",
      "ddd -0.871858 -0.348382  1.100491\n"
     ]
    },
    {
     "name": "stderr",
     "output_type": "stream",
     "text": [
      "<>:4: SyntaxWarning: invalid escape sequence '\\s'\n",
      "<>:4: SyntaxWarning: invalid escape sequence '\\s'\n",
      "/tmp/ipykernel_1860/1436999290.py:4: SyntaxWarning: invalid escape sequence '\\s'\n",
      "  result = pd.read_table('examples/ex3.txt', sep='\\s+') #用正则表达式作为分隔符读取文本文件，\\s+表示多个空格\n"
     ]
    }
   ],
   "source": [
    "parsed = pd.read_csv('examples/csv_mindex.csv', index_col=['key1', 'key2'])\n",
    "print(parsed) #指定多列作为索引\n",
    "print(list(open('examples/ex3.txt'))) #逐行读取文本文件\n",
    "result = pd.read_table('examples/ex3.txt', sep='\\s+') #用正则表达式作为分隔符读取文本文件，\\s+表示多个空格\n",
    "print(result)"
   ]
  },
  {
   "cell_type": "code",
   "execution_count": 50,
   "id": "252d6cb2",
   "metadata": {},
   "outputs": [
    {
     "name": "stdout",
     "output_type": "stream",
     "text": [
      "   a   b   c   d message\n",
      "0  1   2   3   4   hello\n",
      "1  5   6   7   8   world\n",
      "2  9  10  11  12     foo\n",
      "  something  a   b     c   d message\n",
      "0       one  1   2   3.0   4     NaN\n",
      "1       two  5   6   NaN   8   world\n",
      "2     three  9  10  11.0  12     foo\n",
      "   something      a      b      c      d  message\n",
      "0      False  False  False  False  False     True\n",
      "1      False  False  False   True  False    False\n",
      "2      False  False  False  False  False    False\n",
      "  something  a   b     c   d message\n",
      "0       one  1   2   3.0   4     NaN\n",
      "1       two  5   6   NaN   8   world\n",
      "2     three  9  10  11.0  12     foo\n",
      "  something  a   b     c   d message\n",
      "0       one  1   2   3.0   4     NaN\n",
      "1       NaN  5   6   NaN   8   world\n",
      "2     three  9  10  11.0  12     NaN\n"
     ]
    }
   ],
   "source": [
    "print(pd.read_csv('examples/ex4.csv', skiprows=[0, 2, 3])) #跳过指定行读取csv文件\n",
    "results = pd.read_csv('examples/ex5.csv')\n",
    "print(results)\n",
    "print(results.isnull()) #检查缺失值\n",
    "results = pd.read_csv('examples/ex5.csv', na_values=['NULL']) #将指定值识别为NaN\n",
    "print(results)\n",
    "sentinels = {'message': ['foo', 'NA'], 'something': ['two']}\n",
    "print(pd.read_csv('examples/ex5.csv', na_values=sentinels)) #为不同列指定不同的缺失值标记"
   ]
  },
  {
   "cell_type": "markdown",
   "id": "2684305a",
   "metadata": {},
   "source": [
    "### 分块读入文本文件"
   ]
  },
  {
   "cell_type": "code",
   "execution_count": 51,
   "id": "261ead75",
   "metadata": {},
   "outputs": [
    {
     "name": "stdout",
     "output_type": "stream",
     "text": [
      "           one       two     three      four key\n",
      "0     0.467976 -0.038649 -0.295344 -1.824726   L\n",
      "1    -0.358893  1.404453  0.704965 -0.200638   B\n",
      "2    -0.501840  0.659254 -0.421691 -0.057688   G\n",
      "3     0.204886  1.074134  1.388361 -0.982404   R\n",
      "4     0.354628 -0.133116  0.283763 -0.837063   Q\n",
      "...        ...       ...       ...       ...  ..\n",
      "9995  2.311896 -0.417070 -1.409599 -0.515821   L\n",
      "9996 -0.479893 -0.650419  0.745152 -0.646038   E\n",
      "9997  0.523331  0.787112  0.486066  1.093156   K\n",
      "9998 -0.362559  0.598894 -1.843201  0.887292   G\n",
      "9999 -0.096376 -1.012999 -0.657431 -0.573315   0\n",
      "\n",
      "[10000 rows x 5 columns]\n",
      "        one       two     three      four key\n",
      "0  0.467976 -0.038649 -0.295344 -1.824726   L\n",
      "1 -0.358893  1.404453  0.704965 -0.200638   B\n",
      "2 -0.501840  0.659254 -0.421691 -0.057688   G\n",
      "3  0.204886  1.074134  1.388361 -0.982404   R\n",
      "4  0.354628 -0.133116  0.283763 -0.837063   Q\n"
     ]
    }
   ],
   "source": [
    "pd.options.display.max_rows = 10 #设置显示的最大行数\n",
    "result = pd.read_csv('examples/ex6.csv')\n",
    "print(result)\n",
    "print(pd.read_csv('examples/ex6.csv', nrows=5)) #只读取前5行"
   ]
  },
  {
   "cell_type": "code",
   "execution_count": 52,
   "id": "067653e1",
   "metadata": {},
   "outputs": [
    {
     "name": "stdout",
     "output_type": "stream",
     "text": [
      "<pandas.io.parsers.readers.TextFileReader object at 0x7f79e9b141a0>\n",
      "key\n",
      "E    368\n",
      "X    364\n",
      "L    346\n",
      "O    343\n",
      "Q    340\n",
      "M    338\n",
      "J    337\n",
      "F    335\n",
      "K    334\n",
      "H    330\n",
      "dtype: object\n"
     ]
    }
   ],
   "source": [
    "chunks = pd.read_csv('examples/ex6.csv', chunksize=1000) #分块读取大文件，每次读取1000行\n",
    "print(chunks) #返回一个TextFileReader对象，可以迭代\n",
    "chuner = pd.read_csv('examples/ex6.csv', chunksize=1000)\n",
    "tot = pd.Series([])\n",
    "for piece in chuner:\n",
    "\ttot = tot.add(piece['key'].value_counts(), fill_value=0) #统计每个块中key列的值的出现次数，并累加\n",
    "\n",
    "tot = tot.sort_values(ascending=False) #按出现次数排序\n",
    "print(tot[:10]) #显示出现次数最多的前10个值"
   ]
  },
  {
   "cell_type": "markdown",
   "id": "e2459071",
   "metadata": {},
   "source": [
    "### 将数据写入文本格式"
   ]
  },
  {
   "cell_type": "code",
   "execution_count": 53,
   "id": "e929c9be",
   "metadata": {},
   "outputs": [
    {
     "name": "stdout",
     "output_type": "stream",
     "text": [
      "  something  a   b     c   d message\n",
      "0       one  1   2   3.0   4     NaN\n",
      "1       two  5   6   NaN   8   world\n",
      "2     three  9  10  11.0  12     foo\n",
      "|something|a|b|c|d|message\n",
      "0|one|1|2|3.0|4|\n",
      "1|two|5|6||8|world\n",
      "2|three|9|10|11.0|12|foo\n",
      ",something,a,b,c,d,message\n",
      "0,one,1,2,3.0,4,NULL\n",
      "1,two,5,6,NULL,8,world\n",
      "2,three,9,10,11.0,12,foo\n",
      "one,1,2,3.0,4,\n",
      "two,5,6,,8,world\n",
      "three,9,10,11.0,12,foo\n",
      "a,b,c\n",
      "1,2,3.0\n",
      "5,6,\n",
      "9,10,11.0\n",
      "2000-01-01    0\n",
      "2000-01-02    1\n",
      "2000-01-03    2\n",
      "2000-01-04    3\n",
      "2000-01-05    4\n",
      "2000-01-06    5\n",
      "2000-01-07    6\n",
      "Freq: D, dtype: int64\n"
     ]
    }
   ],
   "source": [
    "data = pd.read_csv('examples/ex5.csv')\n",
    "print(data)\n",
    "data.to_csv('examples/out.csv') #将DataFrame写入csv格式的字符串文件\n",
    "import sys\n",
    "data.to_csv(sys.stdout, sep='|') #将DataFrame写入csv格式的文件，指定分隔符\n",
    "data.to_csv(sys.stdout, na_rep='NULL') #将NaN值写为指定字符串\n",
    "data.to_csv(sys.stdout, index=False, header=False) #不写入行索引和列名\n",
    "data.to_csv(sys.stdout, index=False, columns=['a', 'b', 'c']) #只写入指定的列\n",
    "dates = pd.date_range('1/1/2000', periods=7)\n",
    "ts = pd.Series(np.arange(7), index=dates)\n",
    "print(ts)\n",
    "ts.to_csv('examples/tseries.csv') #将时间序列写入csv文件"
   ]
  },
  {
   "cell_type": "markdown",
   "id": "28348296",
   "metadata": {},
   "source": [
    "### 使用分隔格式"
   ]
  },
  {
   "cell_type": "code",
   "execution_count": 54,
   "id": "20b7a1ef",
   "metadata": {},
   "outputs": [
    {
     "name": "stdout",
     "output_type": "stream",
     "text": [
      "['a', 'b', 'c']\n",
      "['1', '2', '3']\n",
      "['1', '2', '3']\n",
      "{'a': ('1', '1'), 'b': ('2', '2'), 'c': ('3', '3')}\n"
     ]
    }
   ],
   "source": [
    "import csv\n",
    "f = open('examples/ex7.csv')\n",
    "reader = csv.reader(f) #使用csv模块读取csv文件\n",
    "for line in reader:\n",
    "\tprint(line)\n",
    "with open('examples/ex7.csv') as f:\n",
    "\tlines = list(csv.reader(f)) #将csv文件读取为列表\n",
    "header, values = lines[0], lines[1:] #分离表头和数据\n",
    "data_dict = {h: v for h, v in zip(header, zip(*values))} #将数据转换为字典\n",
    "print(data_dict)"
   ]
  },
  {
   "cell_type": "markdown",
   "id": "2993e662",
   "metadata": {},
   "source": [
    "### JSON数据"
   ]
  },
  {
   "cell_type": "code",
   "execution_count": 55,
   "id": "4049896f",
   "metadata": {},
   "outputs": [
    {
     "name": "stdout",
     "output_type": "stream",
     "text": [
      "{'name': 'Wes', 'places_lived': ['United States', 'Spain', 'Germany'], 'pet': None, 'siblings': [{'name': 'Scott', 'age': 30, 'pet': 'Zuko'}, {'name': 'Katie', 'age': 38, 'pet': 'Cisco'}]}\n",
      "{\"name\": \"Wes\", \"places_lived\": [\"United States\", \"Spain\", \"Germany\"], \"pet\": null, \"siblings\": [{\"name\": \"Scott\", \"age\": 30, \"pet\": \"Zuko\"}, {\"name\": \"Katie\", \"age\": 38, \"pet\": \"Cisco\"}]}\n",
      "    name  age    pet\n",
      "0  Scott   30   Zuko\n",
      "1  Katie   38  Cisco\n",
      "   a  b  c\n",
      "0  1  2  3\n",
      "1  4  5  6\n",
      "2  7  8  9\n",
      "{\"a\":{\"0\":1,\"1\":4,\"2\":7},\"b\":{\"0\":2,\"1\":5,\"2\":8},\"c\":{\"0\":3,\"1\":6,\"2\":9}}\n",
      "[{\"a\":1,\"b\":2,\"c\":3},{\"a\":4,\"b\":5,\"c\":6},{\"a\":7,\"b\":8,\"c\":9}]\n"
     ]
    }
   ],
   "source": [
    "obj = \"\"\"\n",
    "{\"name\": \"Wes\", \"places_lived\": [\"United States\", \"Spain\", \"Germany\"], \"pet\": null, \"siblings\": [{\"name\": \"Scott\", \"age\": 30, \"pet\": \"Zuko\"}, {\"name\": \"Katie\", \"age\": 38, \"pet\": \"Cisco\"}]}\n",
    "\"\"\"\n",
    "import json\n",
    "result = json.loads(obj) #将JSON字符串解析为Python字典\n",
    "print(result)\n",
    "asjson = json.dumps(result) #将Python字典转换为JSON字符串\n",
    "print(asjson)\n",
    "siblings = pd.DataFrame(result['siblings'], columns=['name', 'age', 'pet']) #将字典中的列表转换为DataFrame\n",
    "print(siblings)\n",
    "data = pd.read_json('examples/example.json') #从JSON文件读取数据\n",
    "print(data)\n",
    "print(data.to_json()) #将DataFrame转换为JSON字符串\n",
    "print(data.to_json(orient='records')) #将DataFrame转换为JSON字符串，按记录格式"
   ]
  },
  {
   "cell_type": "markdown",
   "id": "963a7491",
   "metadata": {},
   "source": [
    "### XML和HTML：网络抓取"
   ]
  },
  {
   "cell_type": "code",
   "execution_count": 56,
   "id": "88b4a8d5",
   "metadata": {},
   "outputs": [
    {
     "name": "stdout",
     "output_type": "stream",
     "text": [
      "1\n",
      "                      Bank Name             City  ST   CERT  \\\n",
      "0                   Allied Bank         Mulberry  AR     91   \n",
      "1  The Woodbury Banking Company         Woodbury  GA  11297   \n",
      "2        First CornerStone Bank  King of Prussia  PA  35312   \n",
      "3            Trust Company Bank          Memphis  TN   9956   \n",
      "4    North Milwaukee State Bank        Milwaukee  WI  20364   \n",
      "\n",
      "                 Acquiring Institution        Closing Date       Updated Date  \n",
      "0                         Today's Bank  September 23, 2016  November 17, 2016  \n",
      "1                          United Bank     August 19, 2016  November 17, 2016  \n",
      "2  First-Citizens Bank & Trust Company         May 6, 2016  September 6, 2016  \n",
      "3           The Bank of Fayette County      April 29, 2016  September 6, 2016  \n",
      "4  First-Citizens Bank & Trust Company      March 11, 2016      June 16, 2016  \n",
      "Closing Date\n",
      "2010    157\n",
      "2009    140\n",
      "2011     92\n",
      "2012     51\n",
      "2008     25\n",
      "       ... \n",
      "2004      4\n",
      "2001      4\n",
      "2007      3\n",
      "2003      3\n",
      "2000      2\n",
      "Name: count, Length: 15, dtype: int64\n",
      "City\n",
      "Chicago            18\n",
      "Atlanta            10\n",
      "Phoenix             6\n",
      "Naples              5\n",
      "Miami               4\n",
      "                   ..\n",
      "Clarkesville        1\n",
      "Napa                1\n",
      "San Luis Obispo     1\n",
      "St. Charles         1\n",
      "Honolulu            1\n",
      "Name: count, Length: 421, dtype: int64\n"
     ]
    }
   ],
   "source": [
    "tables = pd.read_html('examples/fdic_failed_bank_list.html') #从HTML文件中提取所有表格\n",
    "print(len(tables)) #返回一个列表，包含所有提取的表格\n",
    "failures = tables[0]\n",
    "print(failures.head()) #显示第一个表格的前5行\n",
    "close_dates = pd.to_datetime(failures['Closing Date']) #将字符串转换为日期时间格式\n",
    "print(close_dates.dt.year.value_counts()) #统计每年关闭的银行数量\n",
    "print(failures['City'].value_counts()) #统计每个城市关闭的银行数量"
   ]
  },
  {
   "cell_type": "markdown",
   "id": "8cc68744",
   "metadata": {},
   "source": [
    "#### 使用ixml.objectify解析XML"
   ]
  },
  {
   "cell_type": "code",
   "execution_count": 57,
   "id": "18c0ec17",
   "metadata": {},
   "outputs": [],
   "source": [
    "#待补充"
   ]
  },
  {
   "cell_type": "markdown",
   "id": "23a747f2",
   "metadata": {},
   "source": [
    "## 二进制格式"
   ]
  },
  {
   "cell_type": "code",
   "execution_count": 58,
   "id": "56e74638",
   "metadata": {},
   "outputs": [
    {
     "name": "stdout",
     "output_type": "stream",
     "text": [
      "   a   b   c   d message\n",
      "0  1   2   3   4   hello\n",
      "1  5   6   7   8   world\n",
      "2  9  10  11  12     foo\n"
     ]
    },
    {
     "data": {
      "text/html": [
       "<div>\n",
       "<style scoped>\n",
       "    .dataframe tbody tr th:only-of-type {\n",
       "        vertical-align: middle;\n",
       "    }\n",
       "\n",
       "    .dataframe tbody tr th {\n",
       "        vertical-align: top;\n",
       "    }\n",
       "\n",
       "    .dataframe thead th {\n",
       "        text-align: right;\n",
       "    }\n",
       "</style>\n",
       "<table border=\"1\" class=\"dataframe\">\n",
       "  <thead>\n",
       "    <tr style=\"text-align: right;\">\n",
       "      <th></th>\n",
       "      <th>a</th>\n",
       "      <th>b</th>\n",
       "      <th>c</th>\n",
       "      <th>d</th>\n",
       "      <th>message</th>\n",
       "    </tr>\n",
       "  </thead>\n",
       "  <tbody>\n",
       "    <tr>\n",
       "      <th>0</th>\n",
       "      <td>1</td>\n",
       "      <td>2</td>\n",
       "      <td>3</td>\n",
       "      <td>4</td>\n",
       "      <td>hello</td>\n",
       "    </tr>\n",
       "    <tr>\n",
       "      <th>1</th>\n",
       "      <td>5</td>\n",
       "      <td>6</td>\n",
       "      <td>7</td>\n",
       "      <td>8</td>\n",
       "      <td>world</td>\n",
       "    </tr>\n",
       "    <tr>\n",
       "      <th>2</th>\n",
       "      <td>9</td>\n",
       "      <td>10</td>\n",
       "      <td>11</td>\n",
       "      <td>12</td>\n",
       "      <td>foo</td>\n",
       "    </tr>\n",
       "  </tbody>\n",
       "</table>\n",
       "</div>"
      ],
      "text/plain": [
       "   a   b   c   d message\n",
       "0  1   2   3   4   hello\n",
       "1  5   6   7   8   world\n",
       "2  9  10  11  12     foo"
      ]
     },
     "execution_count": 58,
     "metadata": {},
     "output_type": "execute_result"
    }
   ],
   "source": [
    "frame = pd.read_csv('examples/ex1.csv')\n",
    "print(frame)\n",
    "frame.to_pickle('examples/frame_pickle') #将DataFrame存储为pickle格式的文件\n",
    "pd.read_pickle('examples/frame_pickle') #从pickle格式的文件读取DataFrame"
   ]
  },
  {
   "cell_type": "markdown",
   "id": "1fd2b679",
   "metadata": {},
   "source": [
    "### 使用HDF5格式"
   ]
  },
  {
   "cell_type": "code",
   "execution_count": 59,
   "id": "18e62b6c",
   "metadata": {},
   "outputs": [
    {
     "name": "stdout",
     "output_type": "stream",
     "text": [
      "           a\n",
      "0  -0.501809\n",
      "1  -2.468277\n",
      "2  -1.097029\n",
      "3   1.083563\n",
      "4  -1.473387\n",
      "..       ...\n",
      "95  1.902708\n",
      "96 -0.432740\n",
      "97  0.855250\n",
      "98  0.168788\n",
      "99 -0.096917\n",
      "\n",
      "[100 rows x 1 columns]\n",
      "0    -0.501809\n",
      "1    -2.468277\n",
      "2    -1.097029\n",
      "3     1.083563\n",
      "4    -1.473387\n",
      "        ...   \n",
      "95    1.902708\n",
      "96   -0.432740\n",
      "97    0.855250\n",
      "98    0.168788\n",
      "99   -0.096917\n",
      "Name: a, Length: 100, dtype: float64\n",
      "<class 'pandas.io.pytables.HDFStore'>\n",
      "File path: mydata.h5\n",
      "\n"
     ]
    }
   ],
   "source": [
    "frame = pd.DataFrame({'a': np.random.randn(100)})\n",
    "store = pd.HDFStore('mydata.h5') #创建HDF5文件\n",
    "store['obj1'] = frame #将DataFrame存储为HDF5格式\n",
    "print(store['obj1']) #从HDF5文件读取DataFrame\n",
    "store['obj1_col'] = frame['a'] #将DataFrame的一列存储为HDF5格式\n",
    "print(store['obj1_col']) #从HDF5文件读取DataFrame的一列\n",
    "print(store) #显示HDF5文件中的所有对象\n",
    "store.close() #关闭HDF5文件"
   ]
  },
  {
   "cell_type": "markdown",
   "id": "ed59233e",
   "metadata": {},
   "source": [
    "### 读取Excel文件"
   ]
  },
  {
   "cell_type": "code",
   "execution_count": 60,
   "id": "e802624a",
   "metadata": {},
   "outputs": [
    {
     "name": "stdout",
     "output_type": "stream",
     "text": [
      "['Sheet1']\n",
      "   Unnamed: 0  a   b   c   d message\n",
      "0           0  1   2   3   4   hello\n",
      "1           1  5   6   7   8   world\n",
      "2           2  9  10  11  12     foo\n",
      "   Unnamed: 0  a   b   c   d message\n",
      "0           0  1   2   3   4   hello\n",
      "1           1  5   6   7   8   world\n",
      "2           2  9  10  11  12     foo\n"
     ]
    },
    {
     "name": "stderr",
     "output_type": "stream",
     "text": [
      "/tmp/ipykernel_1860/851877596.py:7: FutureWarning: Starting with pandas version 3.0 all arguments of to_excel except for the argument 'excel_writer' will be keyword-only.\n",
      "  frame.to_excel(writer, 'Sheet1') #将DataFrame写入指定工作表\n"
     ]
    }
   ],
   "source": [
    "xlsx = pd.ExcelFile('examples/ex1.xlsx') #读取Excel文件\n",
    "print(xlsx.sheet_names) #显示所有工作表的名称\n",
    "print(pd.read_excel(xlsx, 'Sheet1')) #读取指定工作表\n",
    "frame = pd.read_excel('examples/ex1.xlsx', 'Sheet1') #直接读取指定工作表\n",
    "print(frame)\n",
    "writer = pd.ExcelWriter('examples/ex2.xlsx') #创建Excel写入对象\n",
    "frame.to_excel(writer, 'Sheet1') #将DataFrame写入指定工作表\n",
    "with pd.ExcelWriter('examples/ex2.xlsx') as writer:\n",
    "    frame.to_excel(writer, sheet_name='Sheet1', index=False)\n",
    "# 离开 with 块时自动保存并关闭\n",
    "frame.to_excel('examples/ex2.xlsx')"
   ]
  },
  {
   "cell_type": "markdown",
   "id": "4974815c",
   "metadata": {},
   "source": [
    "## 与Web API交互"
   ]
  },
  {
   "cell_type": "code",
   "execution_count": 61,
   "id": "efb76804",
   "metadata": {},
   "outputs": [
    {
     "name": "stdout",
     "output_type": "stream",
     "text": [
      "<Response [200]>\n",
      "BUG: use `make altinstall` in debug Dockerfile to avoid overwriting system python3\n",
      "    number                                              title  \\\n",
      "0    62272  BUG: use `make altinstall` in debug Dockerfile...   \n",
      "1    62271  ERR: Improve error message for deprecated freq...   \n",
      "2    62270  CLN: Enforce deprecation of PeriodIndex in res...   \n",
      "3    62269                 CLN: Apply ruff format to scripts/   \n",
      "4    62268  ENH: Make ExtensionDtype.numpy_dtype part of t...   \n",
      "..     ...                                                ...   \n",
      "25   62232  DEPR: Remove special date-datetime64 case in i...   \n",
      "26   62227  BUG: rank with object dtype and small values #...   \n",
      "27   62226  fix : include datatype in memo key in sanitiza...   \n",
      "28   62225  DOC: Fix linkcode_resolve for inherited proper...   \n",
      "29   62222  Remove custom footer template in favor of them...   \n",
      "\n",
      "                                               labels state  \n",
      "0                                                  []  open  \n",
      "1                                                  []  open  \n",
      "2                                                  []  open  \n",
      "3   [{'id': 48070600, 'node_id': 'MDU6TGFiZWw0ODA3...  open  \n",
      "4   [{'id': 76812, 'node_id': 'MDU6TGFiZWw3NjgxMg=...  open  \n",
      "..                                                ...   ...  \n",
      "25                                                 []  open  \n",
      "26                                                 []  open  \n",
      "27                                                 []  open  \n",
      "28                                                 []  open  \n",
      "29                                                 []  open  \n",
      "\n",
      "[30 rows x 4 columns]\n"
     ]
    }
   ],
   "source": [
    "import requests\n",
    "\n",
    "url = 'https://api.github.com/repos/pandas-dev/pandas/issues'\n",
    "resp = requests.get(url) #发送GET请求\n",
    "print(resp) #显示响应状态码\n",
    "data = resp.json() #将响应内容解析为JSON格式\n",
    "print(data[0]['title']) #显示第一个问题的标题\n",
    "issues = pd.DataFrame(data, columns=['number', 'title', 'labels', 'state']) #将JSON数据转换为DataFrame\n",
    "print(issues) #显示DataFrame"
   ]
  },
  {
   "cell_type": "markdown",
   "id": "80d9bb10",
   "metadata": {},
   "source": [
    "## 与数据库交互"
   ]
  },
  {
   "cell_type": "code",
   "execution_count": 66,
   "id": "8535edcd",
   "metadata": {},
   "outputs": [
    {
     "name": "stdout",
     "output_type": "stream",
     "text": [
      "[('one', 'two', 3.0, 4), ('five', 'six', 7.0, 8), ('nine', 'ten', 11.0, 12), ('Atlanta', 'Georgia', 1.25, 6), ('Tallahassee', 'Florida', 2.6, 3), ('Sacramento', 'California', 1.7, 5)]\n",
      "(('a', None, None, None, None, None, None), ('b', None, None, None, None, None, None), ('c', None, None, None, None, None, None), ('d', None, None, None, None, None, None))\n",
      "             a           b      c   d\n",
      "0          one         two   3.00   4\n",
      "1         five         six   7.00   8\n",
      "2         nine         ten  11.00  12\n",
      "3      Atlanta     Georgia   1.25   6\n",
      "4  Tallahassee     Florida   2.60   3\n",
      "5   Sacramento  California   1.70   5\n"
     ]
    }
   ],
   "source": [
    "import sqlite3\n",
    "query = \"\"\"CREATE TABLE test (a VARCHAR(20), b VARCHAR(20), c REAL, d INTEGER);\n",
    "INSERT INTO test VALUES ('one', 'two', 3.0, 4);\n",
    "INSERT INTO test VALUES ('five', 'six', 7.0, 8);\n",
    "INSERT INTO test VALUES ('nine', 'ten', 11.0, 12);\n",
    "\"\"\"\n",
    "con = sqlite3.connect(':memory:') #创建内存中的SQLite数据库\n",
    "con.executescript(query) #执行多条SQL语句\n",
    "con.commit() #提交事务\n",
    "data = [('Atlanta', 'Georgia', 1.25, 6), ('Tallahassee', 'Florida', 2.6, 3), ('Sacramento', 'California', 1.7, 5)]\n",
    "stmt = \"INSERT INTO test VALUES (?, ?, ?, ?)\"\n",
    "con.executemany(stmt, data) #执行多条SQL语句\n",
    "con.commit() #提交事务\n",
    "cursor = con.execute('select * from test') #执行查询语句\n",
    "rows = cursor.fetchall() #获取所有查询结果\n",
    "print(rows)\n",
    "print(cursor.description) #显示查询结果的列信息\n",
    "print(pd.DataFrame(rows, columns=[x[0] for x in cursor.description])) #将查询结果转换为DataFrame\n",
    "import sqlalchemy as sqlal\n",
    "db = sqlal.create_engine('sqlite:///:mydata.sqlite') #创建内存中的SQLite数据库"
   ]
  }
 ],
 "metadata": {
  "kernelspec": {
   "display_name": "base",
   "language": "python",
   "name": "python3"
  },
  "language_info": {
   "codemirror_mode": {
    "name": "ipython",
    "version": 3
   },
   "file_extension": ".py",
   "mimetype": "text/x-python",
   "name": "python",
   "nbconvert_exporter": "python",
   "pygments_lexer": "ipython3",
   "version": "3.12.7"
  }
 },
 "nbformat": 4,
 "nbformat_minor": 5
}
