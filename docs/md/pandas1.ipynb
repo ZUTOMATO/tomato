{
 "cells": [
  {
   "cell_type": "code",
   "execution_count": 192,
   "id": "bd056cac",
   "metadata": {},
   "outputs": [],
   "source": [
    "import pandas as pd\n",
    "import numpy as np"
   ]
  },
  {
   "cell_type": "markdown",
   "id": "85c90b83",
   "metadata": {},
   "source": [
    "## 数据结构"
   ]
  },
  {
   "cell_type": "markdown",
   "id": "0bd3615c",
   "metadata": {},
   "source": [
    "### Series"
   ]
  },
  {
   "cell_type": "code",
   "execution_count": 193,
   "id": "84196c1b",
   "metadata": {},
   "outputs": [
    {
     "name": "stdout",
     "output_type": "stream",
     "text": [
      "0    4\n",
      "1    7\n",
      "2   -5\n",
      "3    3\n",
      "dtype: int64\n",
      "[ 4  7 -5  3]\n",
      "RangeIndex(start=0, stop=4, step=1)\n",
      "d    4\n",
      "b    7\n",
      "a   -5\n",
      "c    3\n",
      "dtype: int64\n",
      "Index(['d', 'b', 'a', 'c'], dtype='object')\n",
      "-5\n",
      "c    3\n",
      "a   -5\n",
      "d    6\n",
      "dtype: int64\n"
     ]
    }
   ],
   "source": [
    "obj = pd.Series([4, 7, -5, 3])\n",
    "print(obj) #左边是索引，右边是值\n",
    "print(obj.values) #值\n",
    "print(obj.index) #索引\n",
    "\n",
    "obj2 = pd.Series([4, 7, -5, 3], index=['d', 'b', 'a', 'c'])\n",
    "print(obj2)\n",
    "print(obj2.index)\n",
    "\n",
    "print(obj2['a']) #通过索引取值\n",
    "obj2['d'] = 6 #通过索引赋值\n",
    "print(obj2[['c', 'a', 'd']]) #通过索引列表取值"
   ]
  },
  {
   "cell_type": "code",
   "execution_count": 194,
   "id": "1062fe17",
   "metadata": {},
   "outputs": [
    {
     "name": "stdout",
     "output_type": "stream",
     "text": [
      "d    6\n",
      "b    7\n",
      "c    3\n",
      "dtype: int64\n",
      "d    12\n",
      "b    14\n",
      "a   -10\n",
      "c     6\n",
      "dtype: int64\n",
      "d     403.428793\n",
      "b    1096.633158\n",
      "a       0.006738\n",
      "c      20.085537\n",
      "dtype: float64\n",
      "True\n",
      "Ohio      35000\n",
      "Texas     71000\n",
      "Oregon    16000\n",
      "Utah       5000\n",
      "dtype: int64\n"
     ]
    }
   ],
   "source": [
    "print(obj2[obj2 > 0]) #布尔型索引\n",
    "print(obj2 * 2) #算术运算\n",
    "print(np.exp(obj2)) #numpy函数\n",
    "\n",
    "print('b' in obj2) #检查索引是否存在\n",
    "\n",
    "sdata = {'Ohio': 35000, 'Texas': 71000, 'Oregon': 16000, 'Utah': 5000} #字典创建Series\n",
    "obj3 = pd.Series(sdata)\n",
    "print(obj3)"
   ]
  },
  {
   "cell_type": "code",
   "execution_count": 195,
   "id": "b530ea12",
   "metadata": {},
   "outputs": [
    {
     "name": "stdout",
     "output_type": "stream",
     "text": [
      "California        NaN\n",
      "Ohio          35000.0\n",
      "Oregon        16000.0\n",
      "Texas         71000.0\n",
      "dtype: float64\n",
      "California     True\n",
      "Ohio          False\n",
      "Oregon        False\n",
      "Texas         False\n",
      "dtype: bool\n",
      "California    False\n",
      "Ohio           True\n",
      "Oregon         True\n",
      "Texas          True\n",
      "dtype: bool\n",
      "California         NaN\n",
      "Ohio           70000.0\n",
      "Oregon         32000.0\n",
      "Texas         142000.0\n",
      "Utah               NaN\n",
      "dtype: float64\n",
      "state\n",
      "California        NaN\n",
      "Ohio          35000.0\n",
      "Oregon        16000.0\n",
      "Texas         71000.0\n",
      "Name: population, dtype: float64\n"
     ]
    }
   ],
   "source": [
    "states = ['California', 'Ohio', 'Oregon', 'Texas'] #指定索引创建Series\n",
    "obj4 = pd.Series(sdata, index=states)\n",
    "print(obj4) #缺失值为NaN\n",
    "print(pd.isnull(obj4)) #检查缺失值\n",
    "print(pd.notnull(obj4)) #检查非缺失值\n",
    "print(obj3 + obj4) #算术运算，索引对齐\n",
    "\n",
    "obj4.name = 'population' #设置name属性\n",
    "obj4.index.name = 'state' #设置index的name属性\n",
    "print(obj4)"
   ]
  },
  {
   "cell_type": "code",
   "execution_count": 196,
   "id": "7ea6db6c",
   "metadata": {},
   "outputs": [
    {
     "name": "stdout",
     "output_type": "stream",
     "text": [
      "Bob      4\n",
      "Steve    7\n",
      "Jeff    -5\n",
      "Ryan     3\n",
      "dtype: int64\n"
     ]
    }
   ],
   "source": [
    "\n",
    "obj.index = ['Bob', 'Steve', 'Jeff', 'Ryan'] #修改索引\n",
    "print(obj)"
   ]
  },
  {
   "cell_type": "markdown",
   "id": "8c099945",
   "metadata": {},
   "source": [
    "### DataFrame"
   ]
  },
  {
   "cell_type": "code",
   "execution_count": null,
   "id": "aeae36b2",
   "metadata": {},
   "outputs": [
    {
     "name": "stdout",
     "output_type": "stream",
     "text": [
      "    state  year  pop\n",
      "0    Ohio  2000  1.5\n",
      "1    Ohio  2001  1.7\n",
      "2    Ohio  2002  3.6\n",
      "3  Nevada  2001  2.4\n",
      "4  Nevada  2002  2.9\n",
      "5  Nevada  2003  3.2\n",
      "    state  year  pop\n",
      "0    Ohio  2000  1.5\n",
      "1    Ohio  2001  1.7\n",
      "2    Ohio  2002  3.6\n",
      "3  Nevada  2001  2.4\n",
      "4  Nevada  2002  2.9\n",
      "    state  year  pop\n",
      "3  Nevada  2001  2.4\n",
      "4  Nevada  2002  2.9\n",
      "5  Nevada  2003  3.2\n",
      "   year   state  pop\n",
      "0  2000    Ohio  1.5\n",
      "1  2001    Ohio  1.7\n",
      "2  2002    Ohio  3.6\n",
      "3  2001  Nevada  2.4\n",
      "4  2002  Nevada  2.9\n",
      "5  2003  Nevada  3.2\n",
      "       year   state  pop debt\n",
      "one    2000    Ohio  1.5  NaN\n",
      "two    2001    Ohio  1.7  NaN\n",
      "three  2002    Ohio  3.6  NaN\n",
      "four   2001  Nevada  2.4  NaN\n",
      "five   2002  Nevada  2.9  NaN\n",
      "six    2003  Nevada  3.2  NaN\n",
      "Index(['state', 'year', 'pop'], dtype='object')\n"
     ]
    }
   ],
   "source": [
    "data = {'state': ['Ohio', 'Ohio', 'Ohio', 'Nevada', 'Nevada', 'Nevada'],\n",
    "\t\t'year': [2000, 2001, 2002, 2001, 2002, 2003],\n",
    "\t\t'pop': [1.5, 1.7, 3.6, 2.4, 2.9, 3.2]}\n",
    "frame = pd.DataFrame(data) #字典创建DataFrame\n",
    "print(frame)\n",
    "print(frame.head()) #前五行\n",
    "print(frame.tail(3)) #后3行"
   ]
  },
  {
   "cell_type": "code",
   "execution_count": null,
   "id": "7d7dff12",
   "metadata": {},
   "outputs": [],
   "source": [
    "print(pd.DataFrame(data, columns=['year', 'state', 'pop'])) #指定列顺序\n",
    "frame2 = pd.DataFrame(data, columns=['year', 'state', 'pop', 'debt'], index=['one', 'two', 'three', 'four', 'five', 'six']) #指定列顺序和索引\n",
    "print(frame2)\n",
    "\n",
    "print(frame.columns) #列名"
   ]
  },
  {
   "cell_type": "code",
   "execution_count": 198,
   "id": "b3153f05",
   "metadata": {},
   "outputs": [
    {
     "name": "stdout",
     "output_type": "stream",
     "text": [
      "one        Ohio\n",
      "two        Ohio\n",
      "three      Ohio\n",
      "four     Nevada\n",
      "five     Nevada\n",
      "six      Nevada\n",
      "Name: state, dtype: object\n",
      "one      2000\n",
      "two      2001\n",
      "three    2002\n",
      "four     2001\n",
      "five     2002\n",
      "six      2003\n",
      "Name: year, dtype: int64\n",
      "year     2002\n",
      "state    Ohio\n",
      "pop       3.6\n",
      "debt      NaN\n",
      "Name: three, dtype: object\n"
     ]
    }
   ],
   "source": [
    "print(frame2['state']) #取列\n",
    "print(frame2.year) #取列\n",
    "\n",
    "print(frame2.loc['three']) #按标签取行"
   ]
  },
  {
   "cell_type": "code",
   "execution_count": 199,
   "id": "0df47ff1",
   "metadata": {},
   "outputs": [
    {
     "name": "stdout",
     "output_type": "stream",
     "text": [
      "       year   state  pop  debt\n",
      "one    2000    Ohio  1.5  16.5\n",
      "two    2001    Ohio  1.7  16.5\n",
      "three  2002    Ohio  3.6  16.5\n",
      "four   2001  Nevada  2.4  16.5\n",
      "five   2002  Nevada  2.9  16.5\n",
      "six    2003  Nevada  3.2  16.5\n",
      "       year   state  pop  debt\n",
      "one    2000    Ohio  1.5   0.0\n",
      "two    2001    Ohio  1.7   1.0\n",
      "three  2002    Ohio  3.6   2.0\n",
      "four   2001  Nevada  2.4   3.0\n",
      "five   2002  Nevada  2.9   4.0\n",
      "six    2003  Nevada  3.2   5.0\n"
     ]
    }
   ],
   "source": [
    "frame2['debt'] = 16.5 #赋值\n",
    "print(frame2)\n",
    "frame2['debt'] = np.arange(6.)\n",
    "print(frame2)"
   ]
  },
  {
   "cell_type": "code",
   "execution_count": 200,
   "id": "b3aebd5f",
   "metadata": {},
   "outputs": [
    {
     "name": "stdout",
     "output_type": "stream",
     "text": [
      "       year   state  pop  debt\n",
      "one    2000    Ohio  1.5   NaN\n",
      "two    2001    Ohio  1.7  -1.2\n",
      "three  2002    Ohio  3.6   NaN\n",
      "four   2001  Nevada  2.4  -1.5\n",
      "five   2002  Nevada  2.9  -1.7\n",
      "six    2003  Nevada  3.2   NaN\n",
      "       year   state  pop  debt  eastern\n",
      "one    2000    Ohio  1.5   NaN     True\n",
      "two    2001    Ohio  1.7  -1.2     True\n",
      "three  2002    Ohio  3.6   NaN     True\n",
      "four   2001  Nevada  2.4  -1.5    False\n",
      "five   2002  Nevada  2.9  -1.7    False\n",
      "six    2003  Nevada  3.2   NaN    False\n",
      "Index(['year', 'state', 'pop', 'debt'], dtype='object')\n"
     ]
    }
   ],
   "source": [
    "val = pd.Series([-1.2, -1.5, -1.7], index=['two', 'four', 'five'])\n",
    "frame2['debt'] = val #按索引赋值\n",
    "print(frame2)\n",
    "\n",
    "frame2['eastern'] = frame2.state == 'Ohio' #布尔型列\n",
    "print(frame2)\n",
    "del frame2['eastern'] #删除列\n",
    "print(frame2.columns) #列名"
   ]
  },
  {
   "cell_type": "code",
   "execution_count": 201,
   "id": "eeb2b4fc",
   "metadata": {},
   "outputs": [
    {
     "name": "stdout",
     "output_type": "stream",
     "text": [
      "      Nevada  Ohio\n",
      "2001     2.4   1.7\n",
      "2002     2.9   3.6\n",
      "2000     NaN   1.5\n",
      "        2001  2002  2000\n",
      "Nevada   2.4   2.9   NaN\n",
      "Ohio     1.7   3.6   1.5\n",
      "      Ohio  Nevada\n",
      "2001   1.7     2.4\n",
      "2002   3.6     2.9\n",
      "state  Nevada  Ohio\n",
      "year               \n",
      "2001      2.4   1.7\n",
      "2002      2.9   3.6\n",
      "2000      NaN   1.5\n",
      "[[2.4 1.7]\n",
      " [2.9 3.6]\n",
      " [nan 1.5]]\n",
      "float64\n",
      "[[2000 'Ohio' 1.5 nan]\n",
      " [2001 'Ohio' 1.7 -1.2]\n",
      " [2002 'Ohio' 3.6 nan]\n",
      " [2001 'Nevada' 2.4 -1.5]\n",
      " [2002 'Nevada' 2.9 -1.7]\n",
      " [2003 'Nevada' 3.2 nan]]\n",
      "object\n"
     ]
    }
   ],
   "source": [
    "pop = {'Nevada': {2001: 2.4, 2002: 2.9},\n",
    "\t   'Ohio': {2000: 1.5, 2001: 1.7, 2002: 3.6}}\n",
    "frame3 = pd.DataFrame(pop) #嵌套字典创建DataFrame\n",
    "print(frame3)\n",
    "print(frame3.T) #转置\n",
    "\n",
    "pdata = {'Ohio': frame3['Ohio'][:-1], 'Nevada': frame3['Nevada'][:2]} #通过列创建DataFrame\n",
    "print(pd.DataFrame(pdata))\n",
    "\n",
    "frame3.index.name = 'year' #设置index的name属性\n",
    "frame3.columns.name = 'state' #设置columns的name属性\n",
    "print(frame3)\n",
    "\n",
    "print(frame3.values) #二维ndarray\n",
    "print(frame3.values.dtype) #值的类型\n",
    "print(frame2.values) #二维ndarray，类型不同会转换成object\n",
    "print(frame2.values.dtype) #值的类型"
   ]
  },
  {
   "cell_type": "markdown",
   "id": "9aa40edb",
   "metadata": {},
   "source": [
    "DataFrame构造函数的有效输入可以有：\n",
    "\n",
    "- 2D ndarray：数据的矩阵，行和列的标签是可选参数\n",
    "- 数组、列表和元组构成的字典：每个序列成为DataFrame的一列，所有序列必须长度相等\n",
    "- NumPy结构化/记录化数组：与数组构成的字典一致\n",
    "- Series构成的字典：每个值成为一列，每个Series的索引联合起来 形成结果的行索引，也可以显式地传递序列\n",
    "- 字典构成的字典：每个内部字典成为一列，键联合起来形成结果的行索引\n",
    "- 字典或Series构成的列表：列表中的一个元素形成DataFrame的一行，字典键或Series索引联合起来形成DataFrame的列标签\n",
    "- 列表或元组构成的列表：与二维数组的情况一致\n",
    "- 其他DataFrame：如果不显示传递索引，则会使用原DatraFrame的索引\n",
    "- NumPy MaskedArray：和二维数组的情况类似但隐藏制会在结果中成为缺失值"
   ]
  },
  {
   "cell_type": "markdown",
   "id": "f88c92ab",
   "metadata": {},
   "source": [
    "### 索引对象"
   ]
  },
  {
   "cell_type": "code",
   "execution_count": 202,
   "id": "47e4b81c",
   "metadata": {},
   "outputs": [
    {
     "name": "stdout",
     "output_type": "stream",
     "text": [
      "a    0\n",
      "b    1\n",
      "c    2\n",
      "dtype: int64\n",
      "Index(['a', 'b', 'c'], dtype='object')\n",
      "Index(['b', 'c'], dtype='object')\n",
      "b\n",
      "Index([0, 1, 2], dtype='int64')\n",
      "0    1.5\n",
      "1   -2.5\n",
      "2    0.0\n",
      "dtype: float64\n",
      "True\n"
     ]
    }
   ],
   "source": [
    "obj = pd.Series(range(3), index=['a', 'b', 'c'])\n",
    "index = obj.index\n",
    "print(obj)\n",
    "print(index)\n",
    "print(index[1:]) #索引切片\n",
    "print(index[1]) #单个索引\n",
    "# index[1] = 'd' #索引不可修改，不变性更安全\n",
    "lables = pd.Index(np.arange(3)) #创建Index对象\n",
    "print(lables)\n",
    "obj2 = pd.Series([1.5, -2.5, 0], index=lables)\n",
    "print(obj2)\n",
    "print(obj2.index is lables) #obj2的索引就是lables"
   ]
  },
  {
   "cell_type": "code",
   "execution_count": 203,
   "id": "29c2809d",
   "metadata": {},
   "outputs": [
    {
     "name": "stdout",
     "output_type": "stream",
     "text": [
      "state  Nevada  Ohio\n",
      "year               \n",
      "2001      2.4   1.7\n",
      "2002      2.9   3.6\n",
      "2000      NaN   1.5\n",
      "True\n",
      "False\n",
      "Index(['foo', 'foo', 'bar', 'bar'], dtype='object')\n"
     ]
    }
   ],
   "source": [
    "#除了类似数组，索引对象也像一个固定大小的集合\n",
    "print(frame3)\n",
    "print('Ohio' in frame3.columns) #检查列名是否存在\n",
    "print(2003 in frame3.index) #检查行索引是否存在\n",
    "dup_lables = pd.Index(['foo', 'foo', 'bar', 'bar']) #重复索引\n",
    "print(dup_lables)"
   ]
  },
  {
   "cell_type": "code",
   "execution_count": 204,
   "id": "9463093b",
   "metadata": {},
   "outputs": [],
   "source": [
    "del obj, obj2, obj3, obj4, frame, frame2, frame3, data, sdata, states, pop, pdata, val, index, lables, dup_lables"
   ]
  }
 ],
 "metadata": {
  "kernelspec": {
   "display_name": "py38env",
   "language": "python",
   "name": "python3"
  },
  "language_info": {
   "codemirror_mode": {
    "name": "ipython",
    "version": 3
   },
   "file_extension": ".py",
   "mimetype": "text/x-python",
   "name": "python",
   "nbconvert_exporter": "python",
   "pygments_lexer": "ipython3",
   "version": "3.8.20"
  }
 },
 "nbformat": 4,
 "nbformat_minor": 5
}
