{
 "cells": [
  {
   "cell_type": "markdown",
   "id": "d6434bb1",
   "metadata": {},
   "source": [
    "# 变量与简单数据类型"
   ]
  },
  {
   "cell_type": "code",
   "execution_count": null,
   "id": "abb6065a",
   "metadata": {},
   "outputs": [],
   "source": [
    "name = \"ada lovelace\""
   ]
  },
  {
   "cell_type": "markdown",
   "id": "65c76f58",
   "metadata": {},
   "source": [
    "首字母大写："
   ]
  },
  {
   "cell_type": "code",
   "execution_count": 27,
   "id": "797fcc42",
   "metadata": {},
   "outputs": [
    {
     "name": "stdout",
     "output_type": "stream",
     "text": [
      "Ada Lovelace\n"
     ]
    }
   ],
   "source": [
    "print(name.title())"
   ]
  },
  {
   "cell_type": "markdown",
   "id": "e11894a1",
   "metadata": {},
   "source": [
    "全大写/小写："
   ]
  },
  {
   "cell_type": "code",
   "execution_count": 28,
   "id": "a4560789",
   "metadata": {},
   "outputs": [
    {
     "name": "stdout",
     "output_type": "stream",
     "text": [
      "ADA LOVELACE\n",
      "ada lovelace\n"
     ]
    }
   ],
   "source": [
    "print(name.upper())\n",
    "\n",
    "print(name.lower())"
   ]
  },
  {
   "cell_type": "code",
   "execution_count": 29,
   "id": "c675114b",
   "metadata": {},
   "outputs": [],
   "source": [
    "first_name = \"ada\"\n",
    "last_name = \"lovelace\""
   ]
  },
  {
   "cell_type": "markdown",
   "id": "a99575a8",
   "metadata": {},
   "source": [
    "合并字符串："
   ]
  },
  {
   "cell_type": "code",
   "execution_count": 30,
   "id": "6c114b4b",
   "metadata": {},
   "outputs": [
    {
     "name": "stdout",
     "output_type": "stream",
     "text": [
      "Ada Lovelace\n"
     ]
    }
   ],
   "source": [
    "full_name = first_name + \" \" + last_name\n",
    "print(full_name.title())"
   ]
  },
  {
   "cell_type": "markdown",
   "id": "c2ff3900",
   "metadata": {},
   "source": [
    "制表符与换行符："
   ]
  },
  {
   "cell_type": "code",
   "execution_count": 31,
   "id": "4749f702",
   "metadata": {},
   "outputs": [
    {
     "name": "stdout",
     "output_type": "stream",
     "text": [
      "Python\n",
      "\tPython\n",
      "Languages:\n",
      "Python\n",
      "C\n",
      "JavaScript\n",
      "Languages:\n",
      "\tPython\n",
      "\tC\n",
      "\tJavaScript\n"
     ]
    }
   ],
   "source": [
    "print(\"Python\")\n",
    "\n",
    "print(\"\\tPython\")\n",
    "\n",
    "print(\"Languages:\\nPython\\nC\\nJavaScript\")\n",
    "\n",
    "print(\"Languages:\\n\\tPython\\n\\tC\\n\\tJavaScript\")"
   ]
  },
  {
   "cell_type": "markdown",
   "id": "c8199aaf",
   "metadata": {},
   "source": [
    "删除空白:"
   ]
  },
  {
   "cell_type": "code",
   "execution_count": 32,
   "id": "ca64cc33",
   "metadata": {},
   "outputs": [
    {
     "data": {
      "text/plain": [
       "'python'"
      ]
     },
     "execution_count": 32,
     "metadata": {},
     "output_type": "execute_result"
    }
   ],
   "source": [
    "favorite_language = \" python \"\n",
    "\n",
    "favorite_language\n",
    "\n",
    "favorite_language.rstrip() # 删除右侧空白\n",
    "\n",
    "favorite_language.lstrip()# 删除左侧空白\n",
    "\n",
    "favorite_language.strip() # 删除两侧空白"
   ]
  },
  {
   "cell_type": "markdown",
   "id": "d7bd0cc7",
   "metadata": {},
   "source": [
    "str()"
   ]
  },
  {
   "cell_type": "code",
   "execution_count": 33,
   "id": "c5657d14",
   "metadata": {},
   "outputs": [
    {
     "name": "stdout",
     "output_type": "stream",
     "text": [
      "Happy 23rd Birthday!\n"
     ]
    }
   ],
   "source": [
    "age = 23\n",
    "\n",
    "message = \"Happy \" + str(age) + \"rd Birthday!\"\n",
    "\n",
    "print(message)"
   ]
  },
  {
   "cell_type": "markdown",
   "id": "4fe3631d",
   "metadata": {},
   "source": [
    "# 列表"
   ]
  },
  {
   "cell_type": "code",
   "execution_count": 34,
   "id": "c58b4a24",
   "metadata": {},
   "outputs": [
    {
     "name": "stdout",
     "output_type": "stream",
     "text": [
      "['trek', 'cannondale', 'redline', 'specialized']\n",
      "trek\n"
     ]
    }
   ],
   "source": [
    "bicycles = ['trek', 'cannondale', 'redline', 'specialized']\n",
    "\n",
    "print(bicycles)\n",
    "\n",
    "print(bicycles[0])"
   ]
  },
  {
   "cell_type": "markdown",
   "id": "73c91bc6",
   "metadata": {},
   "source": [
    "修改、添加、删除列表中的元素"
   ]
  },
  {
   "cell_type": "code",
   "execution_count": 35,
   "id": "af5e286c",
   "metadata": {},
   "outputs": [
    {
     "name": "stdout",
     "output_type": "stream",
     "text": [
      "['honda', 'yamaha', 'suzuki']\n",
      "['ducati', 'yamaha', 'suzuki']\n",
      "['ducati', 'yamaha', 'suzuki', 'ducati']\n",
      "['ducati', 'ducati', 'yamaha', 'suzuki', 'ducati']\n",
      "['ducati', 'yamaha', 'suzuki', 'ducati']\n",
      "['honda', 'yamaha', 'suzuki']\n",
      "['honda', 'yamaha']\n",
      "suzuki\n",
      "['honda', 'yamaha', 'suzuki']\n",
      "The first motorcycle I owned was a Honda.\n",
      "['honda', 'yamaha', 'suzuki', 'ducati']\n",
      "['honda', 'yamaha', 'suzuki']\n",
      "['honda', 'yamaha', 'suzuki']\n",
      "['honda', 'yamaha']\n",
      "\n",
      "A Suzuki is too expensive for me.\n"
     ]
    }
   ],
   "source": [
    "motorcycles = ['honda', 'yamaha', 'suzuki']\n",
    "print(motorcycles)\n",
    "\n",
    "motorcycles[0] = 'ducati' # 修改列表元素\n",
    "print(motorcycles)\n",
    "\n",
    "motorcycles.append('ducati') # 在列表末尾添加元素\n",
    "print(motorcycles)\n",
    "\n",
    "motorcycles.insert(0, 'ducati') # 在列表指定位置添加元素\n",
    "print(motorcycles)\n",
    "\n",
    "del motorcycles[0] # 删除列表指定位置元素\n",
    "print(motorcycles)\n",
    "\n",
    "motorcycles = ['honda', 'yamaha', 'suzuki']\n",
    "print(motorcycles)\n",
    "\n",
    "popped_motorcycle = motorcycles.pop() # 弹出列表末尾元素\n",
    "print(motorcycles)\n",
    "print(popped_motorcycle)\n",
    "\n",
    "motorcycles = ['honda', 'yamaha', 'suzuki']\n",
    "print(motorcycles)\n",
    "\n",
    "first_owned = motorcycles.pop(0) # 弹出列表指定位置元素\n",
    "print(f\"The first motorcycle I owned was a {first_owned.title()}.\")\n",
    "\n",
    "motorcycles = ['honda', 'yamaha', 'suzuki', 'ducati']\n",
    "print(motorcycles)\n",
    "motorcycles.remove('ducati') # 删除列表指定值元素\n",
    "print(motorcycles)\n",
    "\n",
    "motorcycles = ['honda', 'yamaha', 'suzuki']\n",
    "print(motorcycles)\n",
    "\n",
    "too_expensive = 'suzuki'\n",
    "motorcycles.remove(too_expensive)\n",
    "print(motorcycles)\n",
    "print(f\"\\nA {too_expensive.title()} is too expensive for me.\")"
   ]
  },
  {
   "cell_type": "markdown",
   "id": "74b8df47",
   "metadata": {},
   "source": [
    "sort()：永久性排序"
   ]
  },
  {
   "cell_type": "code",
   "execution_count": 36,
   "id": "9102169b",
   "metadata": {},
   "outputs": [
    {
     "name": "stdout",
     "output_type": "stream",
     "text": [
      "['audi', 'bmw', 'subaru', 'toyota']\n",
      "['toyota', 'subaru', 'bmw', 'audi']\n"
     ]
    }
   ],
   "source": [
    "cars = ['bmw', 'audi', 'toyota', 'subaru']\n",
    "cars.sort()  # 按字母顺序排列列表\n",
    "print(cars)\n",
    "\n",
    "cars.sort(reverse=True)  # 按字母逆序排列列表\n",
    "print(cars)"
   ]
  },
  {
   "cell_type": "markdown",
   "id": "b87e31ad",
   "metadata": {},
   "source": [
    "sorted()：临时排序"
   ]
  },
  {
   "cell_type": "code",
   "execution_count": 37,
   "id": "b20ab0df",
   "metadata": {},
   "outputs": [
    {
     "name": "stdout",
     "output_type": "stream",
     "text": [
      "['audi', 'bmw', 'subaru', 'toyota']\n",
      "['bmw', 'audi', 'toyota', 'subaru']\n"
     ]
    }
   ],
   "source": [
    "cars = ['bmw', 'audi', 'toyota', 'subaru']\n",
    "print(sorted(cars))  # 临时排序\n",
    "print(cars)  # 原列表未改变"
   ]
  },
  {
   "cell_type": "markdown",
   "id": "29e78c78",
   "metadata": {},
   "source": [
    "倒着打印列表(永久性)"
   ]
  },
  {
   "cell_type": "code",
   "execution_count": 38,
   "id": "cecf1faf",
   "metadata": {},
   "outputs": [
    {
     "name": "stdout",
     "output_type": "stream",
     "text": [
      "['subaru', 'toyota', 'audi', 'bmw']\n"
     ]
    }
   ],
   "source": [
    "cars = ['bmw', 'audi', 'toyota', 'subaru']\n",
    "cars.reverse()  # 倒着打印列表\n",
    "print(cars)"
   ]
  },
  {
   "cell_type": "markdown",
   "id": "affd3847",
   "metadata": {},
   "source": [
    "列表长度"
   ]
  },
  {
   "cell_type": "code",
   "execution_count": 39,
   "id": "cc5359ee",
   "metadata": {},
   "outputs": [
    {
     "data": {
      "text/plain": [
       "4"
      ]
     },
     "execution_count": 39,
     "metadata": {},
     "output_type": "execute_result"
    }
   ],
   "source": [
    "len(cars)  # 列表长度"
   ]
  },
  {
   "cell_type": "markdown",
   "id": "ef5d5108",
   "metadata": {},
   "source": [
    "# 操作列表"
   ]
  },
  {
   "cell_type": "markdown",
   "id": "ae96cc33",
   "metadata": {},
   "source": [
    "遍历整个列表："
   ]
  },
  {
   "cell_type": "code",
   "execution_count": 40,
   "id": "7a277cbd",
   "metadata": {},
   "outputs": [
    {
     "name": "stdout",
     "output_type": "stream",
     "text": [
      "alice\n",
      "david\n",
      "carolina\n"
     ]
    }
   ],
   "source": [
    "magicians = ['alice', 'david', 'carolina']\n",
    "for magician in magicians:\n",
    "\tprint(magician)"
   ]
  },
  {
   "cell_type": "markdown",
   "id": "b2c5482b",
   "metadata": {},
   "source": [
    "### for循环：\n",
    "- 注意缩进\n",
    "- 注意冒号"
   ]
  },
  {
   "cell_type": "markdown",
   "id": "a7901d9f",
   "metadata": {},
   "source": [
    "创建数字列表：range()："
   ]
  },
  {
   "cell_type": "code",
   "execution_count": 41,
   "id": "488b5f75",
   "metadata": {},
   "outputs": [
    {
     "name": "stdout",
     "output_type": "stream",
     "text": [
      "1\n",
      "2\n",
      "3\n",
      "4\n"
     ]
    }
   ],
   "source": [
    "for value in range(1,5):\n",
    "\tprint(value)"
   ]
  },
  {
   "cell_type": "code",
   "execution_count": 42,
   "id": "bfe1ca7e",
   "metadata": {},
   "outputs": [
    {
     "name": "stdout",
     "output_type": "stream",
     "text": [
      "[1, 2, 3, 4, 5]\n"
     ]
    }
   ],
   "source": [
    "numbers = list(range(1,6)) # 创建数字列表，从1到5\n",
    "print(numbers)"
   ]
  },
  {
   "cell_type": "code",
   "execution_count": 43,
   "id": "06e737ca",
   "metadata": {},
   "outputs": [
    {
     "name": "stdout",
     "output_type": "stream",
     "text": [
      "[2, 4, 6, 8, 10]\n"
     ]
    }
   ],
   "source": [
    "even_numbers = list(range(2,11,2)) # 创建偶数列表，指定步长\n",
    "print(even_numbers)"
   ]
  },
  {
   "cell_type": "code",
   "execution_count": 44,
   "id": "6222d8c0",
   "metadata": {},
   "outputs": [
    {
     "name": "stdout",
     "output_type": "stream",
     "text": [
      "[1, 4, 9, 16, 25, 36, 49, 64, 81, 100]\n",
      "[1, 4, 9, 16, 25, 36, 49, 64, 81, 100]\n"
     ]
    }
   ],
   "source": [
    "squares = []\n",
    "for value in range(1,11): \n",
    "\tsquare = value**2\n",
    "\tsquares.append(square)\n",
    "print(squares)\n",
    "\n",
    "#或：\n",
    "squares = [value**2 for value in range(1,11)]\n",
    "print(squares)"
   ]
  },
  {
   "cell_type": "code",
   "execution_count": 45,
   "id": "e0922779",
   "metadata": {},
   "outputs": [],
   "source": [
    "# 释放之前的变量内存\n",
    "del age, bicycles, cars, favorite_language, first_name, first_owned, full_name, last_name\n",
    "del message, motorcycles, name, numbers, popped_motorcycle, square, squares, too_expensive, value"
   ]
  },
  {
   "cell_type": "markdown",
   "id": "51bfca63",
   "metadata": {},
   "source": [
    "### 对数字列表做统计计算："
   ]
  },
  {
   "cell_type": "code",
   "execution_count": 46,
   "id": "50246622",
   "metadata": {},
   "outputs": [
    {
     "name": "stdout",
     "output_type": "stream",
     "text": [
      "0\n",
      "9\n",
      "45\n"
     ]
    }
   ],
   "source": [
    "digits = [1,2,3,4,5,6,7,8,9,0]\n",
    "print(min(digits)) # 最小值\n",
    "print(max(digits)) # 最大值\n",
    "print(sum(digits)) # 总和"
   ]
  },
  {
   "cell_type": "markdown",
   "id": "bfff9129",
   "metadata": {},
   "source": [
    "### 使用列表的一部分"
   ]
  },
  {
   "cell_type": "markdown",
   "id": "6e028722",
   "metadata": {},
   "source": [
    "切片："
   ]
  },
  {
   "cell_type": "code",
   "execution_count": 47,
   "id": "304f8aba",
   "metadata": {},
   "outputs": [
    {
     "name": "stdout",
     "output_type": "stream",
     "text": [
      "['charles', 'martina', 'michael']\n",
      "['martina', 'michael', 'florence']\n",
      "['michael', 'florence', 'eli']\n",
      "['charles', 'martina', 'michael']\n",
      "['michael', 'florence', 'eli']\n"
     ]
    }
   ],
   "source": [
    "players = ['charles', 'martina', 'michael', 'florence', 'eli']\n",
    "print(players[0:3])  # 打印前三名选手\n",
    "print(players[1:4])  # 打印第二到第四名选手\n",
    "print(players[-3:])   # 打印最后三名选手\n",
    "print(players[:3])  # 打印前三名选手\n",
    "print(players[2:])  # 打印第三名及之后的选手"
   ]
  },
  {
   "cell_type": "markdown",
   "id": "32ef070f",
   "metadata": {},
   "source": [
    "遍历切片"
   ]
  },
  {
   "cell_type": "code",
   "execution_count": 48,
   "id": "edf347ac",
   "metadata": {},
   "outputs": [
    {
     "name": "stdout",
     "output_type": "stream",
     "text": [
      "Charles\n",
      "Martina\n",
      "Michael\n"
     ]
    }
   ],
   "source": [
    "for player in players[:3]:\n",
    "\tprint(player.title())"
   ]
  },
  {
   "cell_type": "markdown",
   "id": "8c284ff1",
   "metadata": {},
   "source": [
    "复制列表："
   ]
  },
  {
   "cell_type": "code",
   "execution_count": 49,
   "id": "fbdc21d9",
   "metadata": {},
   "outputs": [
    {
     "name": "stdout",
     "output_type": "stream",
     "text": [
      "My favorite foods are:\n",
      "['pizza', 'falafel', 'carrot cake']\n",
      "\n",
      "My friend's favorite foods are:\n",
      "['pizza', 'falafel', 'carrot cake']\n"
     ]
    }
   ],
   "source": [
    "my_foods = ['pizza', 'falafel', 'carrot cake']\n",
    "friend_foods = my_foods[:]\n",
    "print(\"My favorite foods are:\")\n",
    "print(my_foods)\n",
    "print(\"\\nMy friend's favorite foods are:\")\n",
    "print(friend_foods)"
   ]
  },
  {
   "cell_type": "markdown",
   "id": "5fa358cc",
   "metadata": {},
   "source": [
    "### 元组"
   ]
  },
  {
   "cell_type": "code",
   "execution_count": 50,
   "id": "c88abbe1",
   "metadata": {},
   "outputs": [
    {
     "name": "stdout",
     "output_type": "stream",
     "text": [
      "200\n",
      "50\n",
      "(200, 50)\n",
      "200\n",
      "50\n"
     ]
    }
   ],
   "source": [
    "dimension = (200,50)\n",
    "print(dimension[0])  # 打印元组第一个元素\n",
    "print(dimension[1])  # 打印元组第二个元素\n",
    "print(dimension)\n",
    "# 元组是不可变的，不能修改元组中的元素，只能重新定义整个元组\n",
    "# dimension[0] = 250  # 这行代码会报错\n",
    "# 元组同样可以用for循环遍历\n",
    "for dim in dimension:\n",
    "\tprint(dim)"
   ]
  }
 ],
 "metadata": {
  "kernelspec": {
   "display_name": "py38env",
   "language": "python",
   "name": "python3"
  },
  "language_info": {
   "codemirror_mode": {
    "name": "ipython",
    "version": 3
   },
   "file_extension": ".py",
   "mimetype": "text/x-python",
   "name": "python",
   "nbconvert_exporter": "python",
   "pygments_lexer": "ipython3",
   "version": "3.8.20"
  }
 },
 "nbformat": 4,
 "nbformat_minor": 5
}
