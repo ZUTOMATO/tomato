{
 "cells": [
  {
   "cell_type": "code",
   "execution_count": 23,
   "id": "3abe83cf",
   "metadata": {},
   "outputs": [],
   "source": [
    "import turtle as t"
   ]
  },
  {
   "cell_type": "code",
   "execution_count": 51,
   "id": "9d264e7a",
   "metadata": {},
   "outputs": [],
   "source": [
    "t.fd(100) # 向前走100步，前进函数"
   ]
  },
  {
   "cell_type": "code",
   "execution_count": 50,
   "id": "4ca1f503",
   "metadata": {},
   "outputs": [],
   "source": [
    "t.fd(100)\n",
    "t.left(90) # 向左转90度，左转函数\n",
    "t.fd(100)"
   ]
  },
  {
   "cell_type": "code",
   "execution_count": 34,
   "id": "50f1b668",
   "metadata": {},
   "outputs": [],
   "source": [
    "t.fd(100)\n",
    "t.seth(100) # 设置角度，设置航向函数\n",
    "t.fd(100)"
   ]
  },
  {
   "cell_type": "code",
   "execution_count": 49,
   "id": "8d919f7c",
   "metadata": {},
   "outputs": [],
   "source": [
    "t.pensize(10) # 设置画笔粗细"
   ]
  },
  {
   "cell_type": "code",
   "execution_count": 38,
   "id": "88e18b06",
   "metadata": {},
   "outputs": [],
   "source": [
    "t.fd(100)\n",
    "t.seth(120)\n",
    "t.fd(100)\n",
    "t.seth(240)\n",
    "t.fd(100)"
   ]
  },
  {
   "cell_type": "code",
   "execution_count": 43,
   "id": "fe839852",
   "metadata": {},
   "outputs": [],
   "source": [
    "t.color(\"blue\", \"red\") # 设置画笔颜色\n",
    "t.begin_fill() # 开始填充\n",
    "for i in range(3):\n",
    "\tt.fd(100)\n",
    "\tt.left(120)\n",
    "t.end_fill() # 结束填充"
   ]
  },
  {
   "cell_type": "code",
   "execution_count": 53,
   "id": "3eb00369",
   "metadata": {},
   "outputs": [],
   "source": [
    "t.fd(100)\n",
    "t.goto(200,90) # 直接跳到指定坐标\n",
    "t.fd(100)"
   ]
  },
  {
   "cell_type": "code",
   "execution_count": 54,
   "id": "913490dc",
   "metadata": {},
   "outputs": [],
   "source": [
    "t.penup() # 提起画笔，抬笔函数\n",
    "t.fd(100)\n",
    "t.pendown() # 放下画笔，落笔函数\n",
    "t.fd(100)"
   ]
  },
  {
   "cell_type": "code",
   "execution_count": null,
   "id": "5d900e45",
   "metadata": {},
   "outputs": [],
   "source": [
    "t.circle(50) # 画一个半径为50的圆\n",
    "t.circle(100,180) # 画一个半径为100的半圆\n",
    "t.circle(-100,180)"
   ]
  }
 ],
 "metadata": {
  "kernelspec": {
   "display_name": "base",
   "language": "python",
   "name": "python3"
  },
  "language_info": {
   "codemirror_mode": {
    "name": "ipython",
    "version": 3
   },
   "file_extension": ".py",
   "mimetype": "text/x-python",
   "name": "python",
   "nbconvert_exporter": "python",
   "pygments_lexer": "ipython3",
   "version": "3.12.7"
  }
 },
 "nbformat": 4,
 "nbformat_minor": 5
}
