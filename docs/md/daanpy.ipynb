{
 "cells": [
  {
   "cell_type": "markdown",
   "id": "fafb3f98",
   "metadata": {},
   "source": [
    "## 文本格式数据的读写"
   ]
  },
  {
   "cell_type": "markdown",
   "id": "db57a20a",
   "metadata": {},
   "source": [
    "pandas的解析函数：\n",
    "- read_csv\n",
    "- read_table\n",
    "- ..."
   ]
  },
  {
   "cell_type": "code",
   "execution_count": 12,
   "id": "fc19bc18",
   "metadata": {},
   "outputs": [],
   "source": [
    "import pandas as pd\n",
    "import numpy as np"
   ]
  },
  {
   "cell_type": "code",
   "execution_count": 13,
   "id": "11f8e8df",
   "metadata": {},
   "outputs": [
    {
     "name": "stdout",
     "output_type": "stream",
     "text": [
      "   a   b   c   d message\n",
      "0  1   2   3   4   hello\n",
      "1  5   6   7   8   world\n",
      "2  9  10  11  12     foo\n",
      "   a   b   c   d message\n",
      "0  1   2   3   4   hello\n",
      "1  5   6   7   8   world\n",
      "2  9  10  11  12     foo\n",
      "   0   1   2   3      4\n",
      "0  1   2   3   4  hello\n",
      "1  5   6   7   8  world\n",
      "2  9  10  11  12    foo\n",
      "   a   b   c   d message\n",
      "0  1   2   3   4   hello\n",
      "1  5   6   7   8   world\n",
      "2  9  10  11  12     foo\n",
      "         a   b   c   d\n",
      "message               \n",
      "hello    1   2   3   4\n",
      "world    5   6   7   8\n",
      "foo      9  10  11  12\n"
     ]
    }
   ],
   "source": [
    "df = pd.read_csv('examples/ex1.csv')\n",
    "print(df) #用read_csv()读取csv文件\n",
    "print(pd.read_table('examples/ex1.csv', sep=',')) #用read_table()读取csv文件，并指定分隔符\n",
    "print(pd.read_csv('examples/ex2.csv', header=None)) #没有列名时，header=None\n",
    "print(pd.read_csv('examples/ex2.csv', names=['a', 'b', 'c', 'd', 'message'])) #指定列名\n",
    "names = ['a', 'b', 'c', 'd', 'message']\n",
    "print(pd.read_csv('examples/ex2.csv', names=names, index_col='message')) #指定列名，并将message列作为索引"
   ]
  },
  {
   "cell_type": "code",
   "execution_count": 14,
   "id": "0f96f1a5",
   "metadata": {},
   "outputs": [
    {
     "name": "stdout",
     "output_type": "stream",
     "text": [
      "           value1  value2\n",
      "key1 key2                \n",
      "one  a          1       2\n",
      "     b          3       4\n",
      "     c          5       6\n",
      "     d          7       8\n",
      "two  a          9      10\n",
      "     b         11      12\n",
      "     c         13      14\n",
      "     d         15      16\n",
      "['            A         B         C\\n', 'aaa -0.264438 -1.026059 -0.619500\\n', 'bbb  0.927272  0.302904 -0.032399\\n', 'ccc -0.264273 -0.386314 -0.217601\\n', 'ddd -0.871858 -0.348382  1.100491\\n']\n",
      "            A         B         C\n",
      "aaa -0.264438 -1.026059 -0.619500\n",
      "bbb  0.927272  0.302904 -0.032399\n",
      "ccc -0.264273 -0.386314 -0.217601\n",
      "ddd -0.871858 -0.348382  1.100491\n"
     ]
    },
    {
     "name": "stderr",
     "output_type": "stream",
     "text": [
      "<>:4: SyntaxWarning: invalid escape sequence '\\s'\n",
      "<>:4: SyntaxWarning: invalid escape sequence '\\s'\n",
      "/tmp/ipykernel_31939/1436999290.py:4: SyntaxWarning: invalid escape sequence '\\s'\n",
      "  result = pd.read_table('examples/ex3.txt', sep='\\s+') #用正则表达式作为分隔符读取文本文件，\\s+表示多个空格\n"
     ]
    }
   ],
   "source": [
    "parsed = pd.read_csv('examples/csv_mindex.csv', index_col=['key1', 'key2'])\n",
    "print(parsed) #指定多列作为索引\n",
    "print(list(open('examples/ex3.txt'))) #逐行读取文本文件\n",
    "result = pd.read_table('examples/ex3.txt', sep='\\s+') #用正则表达式作为分隔符读取文本文件，\\s+表示多个空格\n",
    "print(result)"
   ]
  },
  {
   "cell_type": "code",
   "execution_count": 15,
   "id": "252d6cb2",
   "metadata": {},
   "outputs": [
    {
     "name": "stdout",
     "output_type": "stream",
     "text": [
      "   a   b   c   d message\n",
      "0  1   2   3   4   hello\n",
      "1  5   6   7   8   world\n",
      "2  9  10  11  12     foo\n",
      "  something  a   b     c   d message\n",
      "0       one  1   2   3.0   4     NaN\n",
      "1       two  5   6   NaN   8   world\n",
      "2     three  9  10  11.0  12     foo\n",
      "   something      a      b      c      d  message\n",
      "0      False  False  False  False  False     True\n",
      "1      False  False  False   True  False    False\n",
      "2      False  False  False  False  False    False\n",
      "  something  a   b     c   d message\n",
      "0       one  1   2   3.0   4     NaN\n",
      "1       two  5   6   NaN   8   world\n",
      "2     three  9  10  11.0  12     foo\n",
      "  something  a   b     c   d message\n",
      "0       one  1   2   3.0   4     NaN\n",
      "1       NaN  5   6   NaN   8   world\n",
      "2     three  9  10  11.0  12     NaN\n"
     ]
    }
   ],
   "source": [
    "print(pd.read_csv('examples/ex4.csv', skiprows=[0, 2, 3])) #跳过指定行读取csv文件\n",
    "results = pd.read_csv('examples/ex5.csv')\n",
    "print(results)\n",
    "print(results.isnull()) #检查缺失值\n",
    "results = pd.read_csv('examples/ex5.csv', na_values=['NULL']) #将指定值识别为NaN\n",
    "print(results)\n",
    "sentinels = {'message': ['foo', 'NA'], 'something': ['two']}\n",
    "print(pd.read_csv('examples/ex5.csv', na_values=sentinels)) #为不同列指定不同的缺失值标记"
   ]
  },
  {
   "cell_type": "markdown",
   "id": "2684305a",
   "metadata": {},
   "source": [
    "### 分块读入文本文件"
   ]
  },
  {
   "cell_type": "code",
   "execution_count": 16,
   "id": "261ead75",
   "metadata": {},
   "outputs": [
    {
     "name": "stdout",
     "output_type": "stream",
     "text": [
      "           one       two     three      four key\n",
      "0     0.467976 -0.038649 -0.295344 -1.824726   L\n",
      "1    -0.358893  1.404453  0.704965 -0.200638   B\n",
      "2    -0.501840  0.659254 -0.421691 -0.057688   G\n",
      "3     0.204886  1.074134  1.388361 -0.982404   R\n",
      "4     0.354628 -0.133116  0.283763 -0.837063   Q\n",
      "...        ...       ...       ...       ...  ..\n",
      "9995  2.311896 -0.417070 -1.409599 -0.515821   L\n",
      "9996 -0.479893 -0.650419  0.745152 -0.646038   E\n",
      "9997  0.523331  0.787112  0.486066  1.093156   K\n",
      "9998 -0.362559  0.598894 -1.843201  0.887292   G\n",
      "9999 -0.096376 -1.012999 -0.657431 -0.573315   0\n",
      "\n",
      "[10000 rows x 5 columns]\n",
      "        one       two     three      four key\n",
      "0  0.467976 -0.038649 -0.295344 -1.824726   L\n",
      "1 -0.358893  1.404453  0.704965 -0.200638   B\n",
      "2 -0.501840  0.659254 -0.421691 -0.057688   G\n",
      "3  0.204886  1.074134  1.388361 -0.982404   R\n",
      "4  0.354628 -0.133116  0.283763 -0.837063   Q\n"
     ]
    }
   ],
   "source": [
    "pd.options.display.max_rows = 10 #设置显示的最大行数\n",
    "result = pd.read_csv('examples/ex6.csv')\n",
    "print(result)\n",
    "print(pd.read_csv('examples/ex6.csv', nrows=5)) #只读取前5行"
   ]
  },
  {
   "cell_type": "code",
   "execution_count": 17,
   "id": "067653e1",
   "metadata": {},
   "outputs": [
    {
     "name": "stdout",
     "output_type": "stream",
     "text": [
      "<pandas.io.parsers.readers.TextFileReader object at 0x7f6a6899fec0>\n",
      "key\n",
      "E    368\n",
      "X    364\n",
      "L    346\n",
      "O    343\n",
      "Q    340\n",
      "M    338\n",
      "J    337\n",
      "F    335\n",
      "K    334\n",
      "H    330\n",
      "dtype: object\n"
     ]
    }
   ],
   "source": [
    "chunks = pd.read_csv('examples/ex6.csv', chunksize=1000) #分块读取大文件，每次读取1000行\n",
    "print(chunks) #返回一个TextFileReader对象，可以迭代\n",
    "chuner = pd.read_csv('examples/ex6.csv', chunksize=1000)\n",
    "tot = pd.Series([])\n",
    "for piece in chuner:\n",
    "\ttot = tot.add(piece['key'].value_counts(), fill_value=0) #统计每个块中key列的值的出现次数，并累加\n",
    "\n",
    "tot = tot.sort_values(ascending=False) #按出现次数排序\n",
    "print(tot[:10]) #显示出现次数最多的前10个值"
   ]
  },
  {
   "cell_type": "markdown",
   "id": "e2459071",
   "metadata": {},
   "source": [
    "### 将数据写入文本格式"
   ]
  },
  {
   "cell_type": "code",
   "execution_count": 18,
   "id": "e929c9be",
   "metadata": {},
   "outputs": [
    {
     "name": "stdout",
     "output_type": "stream",
     "text": [
      "  something  a   b     c   d message\n",
      "0       one  1   2   3.0   4     NaN\n",
      "1       two  5   6   NaN   8   world\n",
      "2     three  9  10  11.0  12     foo\n",
      "|something|a|b|c|d|message\n",
      "0|one|1|2|3.0|4|\n",
      "1|two|5|6||8|world\n",
      "2|three|9|10|11.0|12|foo\n",
      ",something,a,b,c,d,message\n",
      "0,one,1,2,3.0,4,NULL\n",
      "1,two,5,6,NULL,8,world\n",
      "2,three,9,10,11.0,12,foo\n",
      "one,1,2,3.0,4,\n",
      "two,5,6,,8,world\n",
      "three,9,10,11.0,12,foo\n",
      "a,b,c\n",
      "1,2,3.0\n",
      "5,6,\n",
      "9,10,11.0\n",
      "2000-01-01    0\n",
      "2000-01-02    1\n",
      "2000-01-03    2\n",
      "2000-01-04    3\n",
      "2000-01-05    4\n",
      "2000-01-06    5\n",
      "2000-01-07    6\n",
      "Freq: D, dtype: int64\n"
     ]
    }
   ],
   "source": [
    "data = pd.read_csv('examples/ex5.csv')\n",
    "print(data)\n",
    "data.to_csv('examples/out.csv') #将DataFrame写入csv格式的字符串文件\n",
    "import sys\n",
    "data.to_csv(sys.stdout, sep='|') #将DataFrame写入csv格式的文件，指定分隔符\n",
    "data.to_csv(sys.stdout, na_rep='NULL') #将NaN值写为指定字符串\n",
    "data.to_csv(sys.stdout, index=False, header=False) #不写入行索引和列名\n",
    "data.to_csv(sys.stdout, index=False, columns=['a', 'b', 'c']) #只写入指定的列\n",
    "dates = pd.date_range('1/1/2000', periods=7)\n",
    "ts = pd.Series(np.arange(7), index=dates)\n",
    "print(ts)\n",
    "ts.to_csv('examples/tseries.csv') #将时间序列写入csv文件"
   ]
  },
  {
   "cell_type": "markdown",
   "id": "28348296",
   "metadata": {},
   "source": [
    "### 使用分隔格式"
   ]
  },
  {
   "cell_type": "code",
   "execution_count": 19,
   "id": "20b7a1ef",
   "metadata": {},
   "outputs": [
    {
     "name": "stdout",
     "output_type": "stream",
     "text": [
      "['a', 'b', 'c']\n",
      "['1', '2', '3']\n",
      "['1', '2', '3']\n",
      "{'a': ('1', '1'), 'b': ('2', '2'), 'c': ('3', '3')}\n"
     ]
    }
   ],
   "source": [
    "import csv\n",
    "f = open('examples/ex7.csv')\n",
    "reader = csv.reader(f) #使用csv模块读取csv文件\n",
    "for line in reader:\n",
    "\tprint(line)\n",
    "with open('examples/ex7.csv') as f:\n",
    "\tlines = list(csv.reader(f)) #将csv文件读取为列表\n",
    "header, values = lines[0], lines[1:] #分离表头和数据\n",
    "data_dict = {h: v for h, v in zip(header, zip(*values))} #将数据转换为字典\n",
    "print(data_dict)"
   ]
  },
  {
   "cell_type": "markdown",
   "id": "2993e662",
   "metadata": {},
   "source": [
    "### JSON数据"
   ]
  },
  {
   "cell_type": "code",
   "execution_count": 20,
   "id": "4049896f",
   "metadata": {},
   "outputs": [
    {
     "name": "stdout",
     "output_type": "stream",
     "text": [
      "{'name': 'Wes', 'places_lived': ['United States', 'Spain', 'Germany'], 'pet': None, 'siblings': [{'name': 'Scott', 'age': 30, 'pet': 'Zuko'}, {'name': 'Katie', 'age': 38, 'pet': 'Cisco'}]}\n",
      "{\"name\": \"Wes\", \"places_lived\": [\"United States\", \"Spain\", \"Germany\"], \"pet\": null, \"siblings\": [{\"name\": \"Scott\", \"age\": 30, \"pet\": \"Zuko\"}, {\"name\": \"Katie\", \"age\": 38, \"pet\": \"Cisco\"}]}\n",
      "    name  age    pet\n",
      "0  Scott   30   Zuko\n",
      "1  Katie   38  Cisco\n",
      "   a  b  c\n",
      "0  1  2  3\n",
      "1  4  5  6\n",
      "2  7  8  9\n",
      "{\"a\":{\"0\":1,\"1\":4,\"2\":7},\"b\":{\"0\":2,\"1\":5,\"2\":8},\"c\":{\"0\":3,\"1\":6,\"2\":9}}\n",
      "[{\"a\":1,\"b\":2,\"c\":3},{\"a\":4,\"b\":5,\"c\":6},{\"a\":7,\"b\":8,\"c\":9}]\n"
     ]
    }
   ],
   "source": [
    "obj = \"\"\"\n",
    "{\"name\": \"Wes\", \"places_lived\": [\"United States\", \"Spain\", \"Germany\"], \"pet\": null, \"siblings\": [{\"name\": \"Scott\", \"age\": 30, \"pet\": \"Zuko\"}, {\"name\": \"Katie\", \"age\": 38, \"pet\": \"Cisco\"}]}\n",
    "\"\"\"\n",
    "import json\n",
    "result = json.loads(obj) #将JSON字符串解析为Python字典\n",
    "print(result)\n",
    "asjson = json.dumps(result) #将Python字典转换为JSON字符串\n",
    "print(asjson)\n",
    "siblings = pd.DataFrame(result['siblings'], columns=['name', 'age', 'pet']) #将字典中的列表转换为DataFrame\n",
    "print(siblings)\n",
    "data = pd.read_json('examples/example.json') #从JSON文件读取数据\n",
    "print(data)\n",
    "print(data.to_json()) #将DataFrame转换为JSON字符串\n",
    "print(data.to_json(orient='records')) #将DataFrame转换为JSON字符串，按记录格式"
   ]
  },
  {
   "cell_type": "markdown",
   "id": "963a7491",
   "metadata": {},
   "source": [
    "### XML和HTML：网络抓取"
   ]
  },
  {
   "cell_type": "code",
   "execution_count": 21,
   "id": "88b4a8d5",
   "metadata": {},
   "outputs": [
    {
     "name": "stdout",
     "output_type": "stream",
     "text": [
      "1\n",
      "                      Bank Name             City  ST   CERT  \\\n",
      "0                   Allied Bank         Mulberry  AR     91   \n",
      "1  The Woodbury Banking Company         Woodbury  GA  11297   \n",
      "2        First CornerStone Bank  King of Prussia  PA  35312   \n",
      "3            Trust Company Bank          Memphis  TN   9956   \n",
      "4    North Milwaukee State Bank        Milwaukee  WI  20364   \n",
      "\n",
      "                 Acquiring Institution        Closing Date       Updated Date  \n",
      "0                         Today's Bank  September 23, 2016  November 17, 2016  \n",
      "1                          United Bank     August 19, 2016  November 17, 2016  \n",
      "2  First-Citizens Bank & Trust Company         May 6, 2016  September 6, 2016  \n",
      "3           The Bank of Fayette County      April 29, 2016  September 6, 2016  \n",
      "4  First-Citizens Bank & Trust Company      March 11, 2016      June 16, 2016  \n",
      "Closing Date\n",
      "2010    157\n",
      "2009    140\n",
      "2011     92\n",
      "2012     51\n",
      "2008     25\n",
      "       ... \n",
      "2004      4\n",
      "2001      4\n",
      "2007      3\n",
      "2003      3\n",
      "2000      2\n",
      "Name: count, Length: 15, dtype: int64\n",
      "City\n",
      "Chicago            18\n",
      "Atlanta            10\n",
      "Phoenix             6\n",
      "Naples              5\n",
      "Miami               4\n",
      "                   ..\n",
      "Clarkesville        1\n",
      "Napa                1\n",
      "San Luis Obispo     1\n",
      "St. Charles         1\n",
      "Honolulu            1\n",
      "Name: count, Length: 421, dtype: int64\n"
     ]
    }
   ],
   "source": [
    "tables = pd.read_html('examples/fdic_failed_bank_list.html') #从HTML文件中提取所有表格\n",
    "print(len(tables)) #返回一个列表，包含所有提取的表格\n",
    "failures = tables[0]\n",
    "print(failures.head()) #显示第一个表格的前5行\n",
    "close_dates = pd.to_datetime(failures['Closing Date']) #将字符串转换为日期时间格式\n",
    "print(close_dates.dt.year.value_counts()) #统计每年关闭的银行数量\n",
    "print(failures['City'].value_counts()) #统计每个城市关闭的银行数量"
   ]
  },
  {
   "cell_type": "markdown",
   "id": "8cc68744",
   "metadata": {},
   "source": [
    "#### 使用ixml.objectify解析XML"
   ]
  },
  {
   "cell_type": "code",
   "execution_count": 22,
   "id": "18c0ec17",
   "metadata": {},
   "outputs": [],
   "source": [
    "#待补充"
   ]
  },
  {
   "cell_type": "markdown",
   "id": "23a747f2",
   "metadata": {},
   "source": [
    "## 二进制格式"
   ]
  },
  {
   "cell_type": "code",
   "execution_count": null,
   "id": "e725bb9f",
   "metadata": {},
   "outputs": [],
   "source": [
    "import websocket, json, time, jieba\n",
    "from wordcloud import WordCloud\n",
    "import matplotlib.pyplot as plt\n",
    "from collections import Counter\n",
    "\n",
    "room_id = \"21414905\"          # 换成你的直播间号\n",
    "danmu_list = []             # 实时弹幕池\n",
    "\n",
    "# ---------- 1. 连上弹幕服务器 ----------\n",
    "def on_open(ws):\n",
    "    # 官方握手包格式\n",
    "    auth = {\"uid\": 0, \"roomid\": int(room_id), \"protover\": 3, \"platform\": \"web\"}\n",
    "    ws.send(json.dumps(auth).encode())\n",
    "\n",
    "def on_message(ws, msg):\n",
    "    # 只提取普通弹幕\n",
    "    if \"DANMU_MSG\" in str(msg):\n",
    "        info = json.loads(msg)\n",
    "        dm = info[\"info\"][1]          # 弹幕文本\n",
    "        danmu_list.append(dm)\n",
    "        print(dm)                     # 终端实时打印\n",
    "\n",
    "# ---------- 2. 每 30 秒画一次图 ----------\n",
    "def plot():\n",
    "    while True:\n",
    "        time.sleep(30)\n",
    "        if not danmu_list:\n",
    "            continue\n",
    "        text = \" \".join(danmu_list)\n",
    "        words = jieba.lcut(text)\n",
    "\n",
    "        # 词云\n",
    "        wc = WordCloud(font_path=\"simhei.ttf\", background_color=\"white\",\n",
    "                       width=600, height=400).generate(\" \".join(words))\n",
    "        plt.subplot(1, 2, 1)\n",
    "        plt.imshow(wc, interpolation=\"bilinear\")\n",
    "        plt.axis(\"off\"); plt.title(\"弹幕词云\")\n",
    "\n",
    "        # 折线图：每分钟弹幕量\n",
    "        plt.subplot(1, 2, 2)\n",
    "        bucket = [i//60 for i in range(len(danmu_list))]\n",
    "        counter = Counter(bucket)\n",
    "        plt.plot(counter.keys(), counter.values(), marker=\"o\")\n",
    "        plt.title(\"每分钟弹幕数\"); plt.xlabel(\"分钟\"); plt.ylabel(\"条数\")\n",
    "\n",
    "        plt.tight_layout(); plt.pause(0.1)   # 实时刷新\n",
    "        plt.savefig(\"danmu_live.png\")        # 同时保存截图\n",
    "\n",
    "# ---------- 3. 启动 ----------\n",
    "if __name__ == \"__main__\":\n",
    "    import threading\n",
    "    threading.Thread(target=plot, daemon=True).start()\n",
    "\n",
    "    url = \"wss://broadcastlv.chat.bilibili.com/sub\"\n",
    "    ws = websocket.WebSocketApp(url,\n",
    "                                on_open=on_open,\n",
    "                                on_message=on_message)\n",
    "    ws.run_forever()"
   ]
  }
 ],
 "metadata": {
  "kernelspec": {
   "display_name": "base",
   "language": "python",
   "name": "python3"
  },
  "language_info": {
   "codemirror_mode": {
    "name": "ipython",
    "version": 3
   },
   "file_extension": ".py",
   "mimetype": "text/x-python",
   "name": "python",
   "nbconvert_exporter": "python",
   "pygments_lexer": "ipython3",
   "version": "3.12.7"
  }
 },
 "nbformat": 4,
 "nbformat_minor": 5
}
