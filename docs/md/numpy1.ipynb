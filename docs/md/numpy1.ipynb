{
 "cells": [
  {
   "cell_type": "code",
   "execution_count": 1,
   "id": "86053631",
   "metadata": {},
   "outputs": [],
   "source": [
    "import numpy as np"
   ]
  },
  {
   "cell_type": "markdown",
   "id": "680ce5ff",
   "metadata": {},
   "source": [
    "## NumPy ndarray"
   ]
  },
  {
   "cell_type": "code",
   "execution_count": 2,
   "id": "06d8efd8",
   "metadata": {},
   "outputs": [
    {
     "name": "stdout",
     "output_type": "stream",
     "text": [
      "[[ 0.42465481  1.11422641  2.24725874]\n",
      " [-0.15943233 -0.16591893 -0.69016082]]\n",
      "(2, 3)\n",
      "float64\n"
     ]
    }
   ],
   "source": [
    "data = np.random.randn(2, 3) #生成一个2行3列的随机数数组\n",
    "print(data)\n",
    "print(data.shape) #输出数组的形状\n",
    "print(data.dtype) #输出数组的数据类型"
   ]
  },
  {
   "cell_type": "markdown",
   "id": "48e773bb",
   "metadata": {},
   "source": [
    "生成ndarray"
   ]
  },
  {
   "cell_type": "code",
   "execution_count": 3,
   "id": "e8866d1c",
   "metadata": {},
   "outputs": [
    {
     "name": "stdout",
     "output_type": "stream",
     "text": [
      "[6.  7.5 8.  0.  1. ]\n",
      "[[1 2 3 4]\n",
      " [5 6 7 8]]\n",
      "2\n",
      "(2, 4)\n",
      "int64\n"
     ]
    }
   ],
   "source": [
    "data1 = [6, 7.5, 8, 0, 1]\n",
    "arr1 = np.array(data1) #将列表转换为ndarray\n",
    "print(arr1)\n",
    "\n",
    "data2 =[[1, 2, 3, 4], [5, 6, 7, 8]] #将嵌套列表转换为ndarray\n",
    "arr2 = np.array(data2)\n",
    "print(arr2)\n",
    "print(arr2.ndim)\n",
    "print(arr2.shape)\n",
    "print(arr2.dtype)"
   ]
  },
  {
   "cell_type": "code",
   "execution_count": 4,
   "id": "ecb7e0a9",
   "metadata": {},
   "outputs": [
    {
     "name": "stdout",
     "output_type": "stream",
     "text": [
      "[0. 0. 0. 0. 0. 0. 0. 0. 0. 0.]\n",
      "[[0. 0. 0. 0. 0. 0.]\n",
      " [0. 0. 0. 0. 0. 0.]\n",
      " [0. 0. 0. 0. 0. 0.]]\n",
      "[[[ 4.39488187e-315  0.00000000e+000]\n",
      "  [ 6.89833987e-310  6.89833988e-310]\n",
      "  [-1.55717755e+206  6.89833987e-310]]\n",
      "\n",
      " [[ 6.89833985e-310 -4.14672223e+136]\n",
      "  [ 6.89833987e-310  6.89833985e-310]\n",
      "  [-5.03966001e+265  6.89833987e-310]]]\n",
      "[ 0  1  2  3  4  5  6  7  8  9 10 11 12 13 14]\n",
      "[5 6 7]\n",
      "[ 5  8 11 14 17]\n"
     ]
    }
   ],
   "source": [
    "print(np.zeros(10)) #生成一个包含10个0的ndarray\n",
    "print(np.zeros((3, 6))) #生成一个3行6列的ndarray，元素为0\n",
    "print(np.empty((2, 3, 2))) #生成一个2行3列2层的ndarray，元素为0，有可能不安全，有时候返回未初始化的垃圾数值\n",
    "print(np.arange(15)) #生成一个包含0到14的ndarray\n",
    "print(np.arange(5,8)) #生成一个包含5到7的ndarray\n",
    "print(np.arange(5,20,3)) #生成一个包含5到19，步长为3的ndarray"
   ]
  },
  {
   "cell_type": "markdown",
   "id": "8ca9b39d",
   "metadata": {},
   "source": [
    "ndarray的数据类型"
   ]
  },
  {
   "cell_type": "code",
   "execution_count": 5,
   "id": "7ee9569c",
   "metadata": {},
   "outputs": [
    {
     "name": "stdout",
     "output_type": "stream",
     "text": [
      "float64\n",
      "int32\n",
      "int64\n",
      "[1. 2. 3. 4. 5.]\n",
      "float64\n"
     ]
    }
   ],
   "source": [
    "arr1 = np.array([1, 2, 3], dtype=np.float64) #指定数据类型为float64\n",
    "arr2 = np.array([1, 2, 3], dtype=np.int32) #指定数据类型为int32\n",
    "\n",
    "print(arr1.dtype)\n",
    "print(arr2.dtype)\n",
    "\n",
    "arr = np.array([1, 2, 3, 4, 5])\n",
    "print(arr.dtype) #输出当前数据类型\n",
    "float_arr = arr.astype(np.float64) #将数据类型转换为float64\n",
    "print(float_arr)\n",
    "print(float_arr.dtype)"
   ]
  },
  {
   "cell_type": "markdown",
   "id": "7a63101c",
   "metadata": {},
   "source": [
    "如果把浮点数转换为整数则小数点后的部分被消除"
   ]
  },
  {
   "cell_type": "markdown",
   "id": "b1e06a6b",
   "metadata": {},
   "source": [
    "## Numpy 数组算术"
   ]
  },
  {
   "cell_type": "markdown",
   "id": "57c41d03",
   "metadata": {},
   "source": [
    "对应元素逐个进行运算"
   ]
  },
  {
   "cell_type": "code",
   "execution_count": 6,
   "id": "71af6094",
   "metadata": {},
   "outputs": [
    {
     "name": "stdout",
     "output_type": "stream",
     "text": [
      "[[1 2 3]\n",
      " [4 5 6]]\n",
      "[[ 1  4  9]\n",
      " [16 25 36]]\n",
      "[[0 0 0]\n",
      " [0 0 0]]\n",
      "[[1.         0.5        0.33333333]\n",
      " [0.25       0.2        0.16666667]]\n",
      "[[ 1  4  9]\n",
      " [16 25 36]]\n",
      "[[ 0  4  1]\n",
      " [ 7  2 12]]\n",
      "[[False  True False]\n",
      " [ True False  True]]\n"
     ]
    }
   ],
   "source": [
    "arr = np.array([[1, 2, 3], [4, 5, 6]])\n",
    "print(arr)\n",
    "print(arr * arr) #对应元素相乘\n",
    "print(arr - arr) #对应元素相减\n",
    "print(1 / arr) #对应元素相除\n",
    "print(arr ** 2) #对应元素平方\n",
    "arr2 = np.array([[0, 4, 1], [7, 2, 12]])\n",
    "print(arr2)\n",
    "print(arr2 > arr) #对应元素进行比较，返回布尔值数组"
   ]
  },
  {
   "cell_type": "markdown",
   "id": "14045c50",
   "metadata": {},
   "source": [
    "## 基础索引与切片"
   ]
  },
  {
   "cell_type": "code",
   "execution_count": 7,
   "id": "a33fb858",
   "metadata": {},
   "outputs": [
    {
     "name": "stdout",
     "output_type": "stream",
     "text": [
      "[0 1 2 3 4 5 6 7 8 9]\n",
      "5\n",
      "[5 6 7]\n",
      "[ 0  1  2  3  4 12 12 12  8  9]\n",
      "[12 12 12]\n",
      "[    0     1     2     3     4    12 12345    12     8     9]\n",
      "[ 0  1  2  3  4 64 64 64  8  9]\n"
     ]
    }
   ],
   "source": [
    "arr = np.arange(10)\n",
    "print(arr)\n",
    "print(arr[5]) #索引第6个元素\n",
    "print(arr[5:8]) #切片第6到8个元素\n",
    "arr[5:8] = 12 #将第6到8个元素赋值为12\n",
    "print(arr)\n",
    "arr_slice = arr[5:8] #将切片赋值给一个新变量\n",
    "print(arr_slice)\n",
    "arr_slice[1] = 12345 #修改切片中的元素\n",
    "print(arr) #原数组也被修改了，因为切片是原数组的视图\n",
    "arr_slice[:] = 64 #将切片中的所有元素赋值为64\n",
    "print(arr) #原数组也被修改了"
   ]
  },
  {
   "cell_type": "markdown",
   "id": "4efbcb46",
   "metadata": {},
   "source": [
    "如果传入了一个数值给数组的切片，数值被传递给了整个切片，区别于Python的内建列表，数组的切片是原数组的**视图**\n",
    "\n",
    "如果想要拷贝："
   ]
  },
  {
   "cell_type": "code",
   "execution_count": 8,
   "id": "dc2b9275",
   "metadata": {},
   "outputs": [
    {
     "name": "stdout",
     "output_type": "stream",
     "text": [
      "[ 0  1  2  3  4 64 64 64  8  9]\n"
     ]
    }
   ],
   "source": [
    "#使用copy方法创建切片的副本\n",
    "arr_slice = arr[5:8].copy()\n",
    "arr_slice[1] = 12345\n",
    "print(arr) #原数组没有被修改"
   ]
  },
  {
   "cell_type": "markdown",
   "id": "e4cb442e",
   "metadata": {},
   "source": [
    "## 布尔索引"
   ]
  },
  {
   "cell_type": "code",
   "execution_count": 9,
   "id": "9d8fc294",
   "metadata": {},
   "outputs": [
    {
     "name": "stdout",
     "output_type": "stream",
     "text": [
      "['Bob' 'Joe' 'Will' 'Bob' 'Will' 'Joe' 'Joe']\n",
      "[[ 2.45072882  1.25993211  0.14342039 -1.7343886 ]\n",
      " [ 0.21468672  1.27313321 -0.15941774 -0.55422232]\n",
      " [ 0.21901566  0.63569735  0.31356967  0.90959981]\n",
      " [-0.05483196  0.54960948  0.42326341  0.07387863]\n",
      " [ 1.01414429  0.0533333   1.31421711 -0.80074254]\n",
      " [ 1.40134132  0.03414439 -0.10351707 -1.00089579]\n",
      " [-1.16219459 -1.22890433 -1.45007888 -0.18350625]]\n",
      "[ True False False  True False False False]\n",
      "[[ 2.45072882  1.25993211  0.14342039 -1.7343886 ]\n",
      " [-0.05483196  0.54960948  0.42326341  0.07387863]]\n",
      "[[ 0.14342039 -1.7343886 ]\n",
      " [ 0.42326341  0.07387863]]\n",
      "[-1.7343886   0.07387863]\n",
      "[[ 0.21468672  1.27313321 -0.15941774 -0.55422232]\n",
      " [ 0.21901566  0.63569735  0.31356967  0.90959981]\n",
      " [ 1.01414429  0.0533333   1.31421711 -0.80074254]\n",
      " [ 1.40134132  0.03414439 -0.10351707 -1.00089579]\n",
      " [-1.16219459 -1.22890433 -1.45007888 -0.18350625]]\n",
      "[[ 0.21468672  1.27313321 -0.15941774 -0.55422232]\n",
      " [ 0.21901566  0.63569735  0.31356967  0.90959981]\n",
      " [ 1.01414429  0.0533333   1.31421711 -0.80074254]\n",
      " [ 1.40134132  0.03414439 -0.10351707 -1.00089579]\n",
      " [-1.16219459 -1.22890433 -1.45007888 -0.18350625]]\n",
      "[ True False  True  True  True False False]\n",
      "[[ 2.45072882  1.25993211  0.14342039 -1.7343886 ]\n",
      " [ 0.21901566  0.63569735  0.31356967  0.90959981]\n",
      " [-0.05483196  0.54960948  0.42326341  0.07387863]\n",
      " [ 1.01414429  0.0533333   1.31421711 -0.80074254]]\n",
      "[-1.7343886  -0.15941774 -0.55422232 -0.05483196 -0.80074254 -0.10351707\n",
      " -1.00089579 -1.16219459 -1.22890433 -1.45007888 -0.18350625]\n"
     ]
    }
   ],
   "source": [
    "names = np.array(['Bob', 'Joe', 'Will', 'Bob', 'Will', 'Joe', 'Joe'])\n",
    "data = np.random.randn(7, 4) #生成一个7行4列的随机数数组\n",
    "print(names)\n",
    "print(data)\n",
    "print(names == 'Bob') #返回一个布尔值数组，表示每个元素是否等于'Bob'\n",
    "print(data[names == 'Bob']) #使用布尔值数组进行索引，返回对应行\n",
    "print(data[names == 'Bob', 2:]) #返回对应行的第3列及之后的列\n",
    "print(data[names == 'Bob', 3]) #返回对应行的第4列\n",
    "print(data[names != 'Bob']) #返回不等于'Bob'的行\n",
    "cond = names == 'Bob' #将布尔值数组赋值给一个变量\n",
    "print(data[~cond]) #使用~操作符取反，返回不等于'Bob'的行\n",
    "mask = (names == 'Bob') | (names == 'Will') #使用|操作符进行或运算\n",
    "print(mask)\n",
    "print(data[mask]) #返回等于'Bob'或'Will'的行\n",
    "print(data[data < 0]) #返回所有小于0的元素"
   ]
  },
  {
   "cell_type": "markdown",
   "id": "f22c5b51",
   "metadata": {},
   "source": [
    "## 神奇索引：用整数数组进行数据索引"
   ]
  },
  {
   "cell_type": "code",
   "execution_count": 10,
   "id": "f83203db",
   "metadata": {},
   "outputs": [
    {
     "name": "stdout",
     "output_type": "stream",
     "text": [
      "[[0. 0. 0. 0.]\n",
      " [1. 1. 1. 1.]\n",
      " [2. 2. 2. 2.]\n",
      " [3. 3. 3. 3.]\n",
      " [4. 4. 4. 4.]\n",
      " [5. 5. 5. 5.]\n",
      " [6. 6. 6. 6.]\n",
      " [7. 7. 7. 7.]]\n",
      "[[4. 4. 4. 4.]\n",
      " [3. 3. 3. 3.]\n",
      " [0. 0. 0. 0.]\n",
      " [6. 6. 6. 6.]]\n",
      "[[5. 5. 5. 5.]\n",
      " [3. 3. 3. 3.]\n",
      " [1. 1. 1. 1.]]\n",
      "[[ 0  1  2  3]\n",
      " [ 4  5  6  7]\n",
      " [ 8  9 10 11]\n",
      " [12 13 14 15]\n",
      " [16 17 18 19]\n",
      " [20 21 22 23]\n",
      " [24 25 26 27]\n",
      " [28 29 30 31]]\n",
      "[ 4 23 29 10]\n",
      "[[ 4  7  5  6]\n",
      " [20 23 21 22]\n",
      " [28 31 29 30]\n",
      " [ 8 11  9 10]]\n"
     ]
    }
   ],
   "source": [
    "arr = np.empty((8, 4)) #生成一个8行4列的空数组\n",
    "for i in range(8):\n",
    "\tarr[i] = i #将每行赋值为行号\n",
    "print(arr)\n",
    "arr2 = arr[[4, 3, 0, 6]] #使用整数数组进行索引，返回指定行\n",
    "print(arr2)\n",
    "arr3 = arr[[-3, -5, -7]] #使用负数索引，返回倒数第3、第5、第7行\n",
    "print(arr3)\n",
    "arr4 = np.arange(32).reshape((8, 4)) #生成一个8行4列的数组，元素为0到31\n",
    "print(arr4)\n",
    "print(arr4[[1, 5, 7, 2], [0, 3, 1, 2]]) #返回(1,0)、(5,3)、(7,1)、(2,2)位置的元素\n",
    "print(arr4[[1, 5, 7, 2]][:, [0, 3, 1, 2]]) #先选取行，再选取列"
   ]
  },
  {
   "cell_type": "markdown",
   "id": "3455837e",
   "metadata": {},
   "source": [
    "## 数据转置和换轴"
   ]
  },
  {
   "cell_type": "code",
   "execution_count": 11,
   "id": "cba0cfef",
   "metadata": {},
   "outputs": [
    {
     "name": "stdout",
     "output_type": "stream",
     "text": [
      "[[ 0  1  2  3  4]\n",
      " [ 5  6  7  8  9]\n",
      " [10 11 12 13 14]]\n",
      "[[ 0  5 10]\n",
      " [ 1  6 11]\n",
      " [ 2  7 12]\n",
      " [ 3  8 13]\n",
      " [ 4  9 14]]\n",
      "[[-1.3023862  -1.97615009  1.60317243]\n",
      " [-0.01526421 -0.27932436  1.24172011]\n",
      " [ 0.5060353  -1.46064788  1.74117649]\n",
      " [ 1.00752835 -0.72097455 -0.72675509]\n",
      " [ 1.28240823 -1.0429154  -0.49345338]\n",
      " [-0.46345246  0.70483118  0.87401434]]\n",
      "[[ 4.82698695 -0.55166646 -2.99590588]\n",
      " [-0.55166646  8.22094732 -4.40356314]\n",
      " [-2.99590588 -4.40356314  8.67929651]]\n",
      "[[[ 0  1  2  3]\n",
      "  [ 4  5  6  7]]\n",
      "\n",
      " [[ 8  9 10 11]\n",
      "  [12 13 14 15]]]\n",
      "[[[ 0  1  2  3]\n",
      "  [ 8  9 10 11]]\n",
      "\n",
      " [[ 4  5  6  7]\n",
      "  [12 13 14 15]]]\n",
      "[[[ 0  4]\n",
      "  [ 1  5]\n",
      "  [ 2  6]\n",
      "  [ 3  7]]\n",
      "\n",
      " [[ 8 12]\n",
      "  [ 9 13]\n",
      "  [10 14]\n",
      "  [11 15]]]\n"
     ]
    }
   ],
   "source": [
    "arr = np.arange(15).reshape((3, 5)) #生成一个3行5列的数组，元素为0到14\n",
    "print(arr)\n",
    "print(arr.T) #转置数组\n",
    "arr2 = np.random.randn(6, 3) #生成一个6行3列的随机数数组\n",
    "print(arr2)\n",
    "print(np.dot(arr2.T, arr2)) #计算arr2的转置与arr2的矩阵乘积  dot函数用于矩阵乘法\n",
    "\n",
    "arr = np.arange(16).reshape((2, 2, 4)) #生成一个2层2行4列的数组，元素为0到15\n",
    "print(arr)\n",
    "print(arr.transpose((1, 0, 2))) #换轴操作，将第0轴和第1轴交换\n",
    "print(arr.swapaxes(1, 2)) #换轴操作，将第1轴和第2轴交换(返回的是数据的视图，没有对数据进行复制)"
   ]
  },
  {
   "cell_type": "markdown",
   "id": "bd43714d",
   "metadata": {},
   "source": [
    "## ufunc：通用函数：快速的逐元素数组函数\n",
    "\n",
    "在ndarray数据中进行逐元素操作的函数，一些函数接收一个或多个标量数值，产生一个或多个标量数值，而通用函数就是对这些函数的向量化封装"
   ]
  },
  {
   "cell_type": "code",
   "execution_count": 12,
   "id": "0e22337e",
   "metadata": {},
   "outputs": [
    {
     "name": "stdout",
     "output_type": "stream",
     "text": [
      "[0.         1.         1.41421356 1.73205081 2.         2.23606798\n",
      " 2.44948974 2.64575131 2.82842712 3.        ]\n",
      "[1.00000000e+00 2.71828183e+00 7.38905610e+00 2.00855369e+01\n",
      " 5.45981500e+01 1.48413159e+02 4.03428793e+02 1.09663316e+03\n",
      " 2.98095799e+03 8.10308393e+03]\n",
      "[-0.97650529  0.34165681 -0.05949177  0.54962975  0.06909819 -0.80973817\n",
      " -0.33899852 -0.36560624]\n",
      "[ 0.2019994  -0.99152065  2.26962704 -0.41597543  0.73361224  0.5538621\n",
      " -1.16573673  1.0548292 ]\n",
      "[ 0.2019994   0.34165681  2.26962704  0.54962975  0.73361224  0.5538621\n",
      " -0.33899852  1.0548292 ]\n",
      "[ 1.88732401  4.89743321 -4.70380623  4.39304334 -2.15091489 -0.23347175\n",
      "  3.05624755]\n",
      "[ 0.88732401  0.89743321 -0.70380623  0.39304334 -0.15091489 -0.23347175\n",
      "  0.05624755]\n",
      "[ 1.  4. -4.  4. -2. -0.  3.]\n",
      "[ 1.88732401  4.89743321 -4.70380623  4.39304334 -2.15091489 -0.23347175\n",
      "  3.05624755]\n"
     ]
    }
   ],
   "source": [
    "arr = np.arange(10)\n",
    "print(np.sqrt(arr)) #计算平方根\n",
    "print(np.exp(arr)) #计算e的指数次幂\n",
    "\n",
    "x = np.random.randn(8)\n",
    "y = np.random.randn(8)\n",
    "print(x)\n",
    "print(y)\n",
    "print(np.maximum(x, y)) #逐元素比较，返回较大值组成的新数组\n",
    "\n",
    "arr = np.random.randn(7) * 5\n",
    "print(arr)\n",
    "remainder, whole_part = np.modf(arr) #将小数部分和整数部分分开\n",
    "print(remainder) #小数部分\n",
    "print(whole_part) #整数部分\n",
    "print(arr) #原数组没有被修改"
   ]
  },
  {
   "cell_type": "markdown",
   "id": "8be32fa1",
   "metadata": {},
   "source": [
    "一些可用的通用函数："
   ]
  },
  {
   "cell_type": "code",
   "execution_count": 13,
   "id": "38a4bfb8",
   "metadata": {},
   "outputs": [
    {
     "name": "stderr",
     "output_type": "stream",
     "text": [
      "/tmp/ipykernel_7774/208123816.py:3: RuntimeWarning: invalid value encountered in sqrt\n",
      "  np.sqrt(arr) #计算平方根\n",
      "/tmp/ipykernel_7774/208123816.py:6: RuntimeWarning: invalid value encountered in log\n",
      "  np.log(arr) #计算自然对数\n",
      "/tmp/ipykernel_7774/208123816.py:7: RuntimeWarning: invalid value encountered in log10\n",
      "  np.log10(arr) #计算以10为底的对数\n",
      "/tmp/ipykernel_7774/208123816.py:8: RuntimeWarning: invalid value encountered in log2\n",
      "  np.log2(arr) #计算以2为底的对数\n",
      "/tmp/ipykernel_7774/208123816.py:9: RuntimeWarning: invalid value encountered in log1p\n",
      "  np.log1p(arr) #计算log(1 + x)\n"
     ]
    },
    {
     "data": {
      "text/plain": [
       "array([False, False, False, False, False, False, False])"
      ]
     },
     "execution_count": 13,
     "metadata": {},
     "output_type": "execute_result"
    }
   ],
   "source": [
    "np.abs(arr) #计算绝对值\n",
    "np.fabs(arr) #计算绝对值\n",
    "np.sqrt(arr) #计算平方根\n",
    "np.square(arr) #计算平方\n",
    "np.exp(arr) #计算e的指数次幂\n",
    "np.log(arr) #计算自然对数\n",
    "np.log10(arr) #计算以10为底的对数\n",
    "np.log2(arr) #计算以2为底的对数\n",
    "np.log1p(arr) #计算log(1 + x)\n",
    "np.sign(arr) #计算符号函数，返回-1, 0, 1\n",
    "np.ceil(arr) #向上取整\n",
    "np.floor(arr) #向下取整\n",
    "np.rint(arr) #四舍五入取整\n",
    "np.modf(arr) #将小数部分和整数部分分开，返回两个数组\n",
    "np.isnan(arr) #判断是否为NaN，返回布尔值数组\n",
    "np.isfinite(arr) #判断是否为有限数，返回布尔值数组\n",
    "np.isinf(arr) #判断是否为无穷大，返回布尔值数组\n",
    "np.cos(arr) #计算余弦\n",
    "np.nan_to_num(arr) #将NaN替换为0，无穷大替换为最大有限数，无穷小替换为最小有限数\n",
    "np.logical_not(arr) #逐元素取反，返回布尔值数组"
   ]
  },
  {
   "cell_type": "markdown",
   "id": "25eb9979",
   "metadata": {},
   "source": [
    "二元通用函数；"
   ]
  },
  {
   "cell_type": "code",
   "execution_count": 14,
   "id": "bc908022",
   "metadata": {},
   "outputs": [
    {
     "data": {
      "text/plain": [
       "array([False, False, False, False, False])"
      ]
     },
     "execution_count": 14,
     "metadata": {},
     "output_type": "execute_result"
    }
   ],
   "source": [
    "x = np.array([1, 5, 9, 3.5, 6])\n",
    "y = np.array([2, 6, 1, 4.5, 3])\n",
    "np.add(x, y) #逐元素相加\n",
    "np.subtract(x, y) #逐元素相减\n",
    "np.multiply(x, y) #逐元素相乘\n",
    "np.divide(x, y) #逐元素相除\n",
    "np.floor_divide(x, y) #逐元素向下取整除\n",
    "np.power(x, y) #逐元素幂运算\n",
    "np.mod(x, y) #逐元素取模\n",
    "np.fmod(x, y) #逐元素取模\n",
    "np.copysign(x, y) #将y的符号赋给x，返回新的数组\n",
    "np.greater(x, y) #逐元素比较，返回布尔值数组\n",
    "np.greater_equal(x, y) #逐元素比较，返回布尔值数组\n",
    "np.less(x, y) #逐元素比较，返回布尔值数组\n",
    "np.less_equal(x, y) #逐元素比较，返回布尔值数组\n",
    "np.equal(x, y) #逐元素比较，返回布尔值数组\n",
    "np.not_equal(x, y) #逐元素比较，返回布尔值数组\n",
    "np.logical_and(x, y) #逐元素逻辑与，返回布尔值数组\n",
    "np.logical_or(x, y) #逐元素逻辑或，返回布尔值数组\n",
    "np.logical_xor(x, y) #逐元素逻辑异或，返回布尔值数组"
   ]
  },
  {
   "cell_type": "markdown",
   "id": "3205d001",
   "metadata": {},
   "source": [
    "## 使用数组进行面向数组编程"
   ]
  },
  {
   "cell_type": "code",
   "execution_count": 15,
   "id": "a58c80b5",
   "metadata": {},
   "outputs": [
    {
     "name": "stdout",
     "output_type": "stream",
     "text": [
      "[[-5.   -4.99 -4.98 ...  4.97  4.98  4.99]\n",
      " [-5.   -4.99 -4.98 ...  4.97  4.98  4.99]\n",
      " [-5.   -4.99 -4.98 ...  4.97  4.98  4.99]\n",
      " ...\n",
      " [-5.   -4.99 -4.98 ...  4.97  4.98  4.99]\n",
      " [-5.   -4.99 -4.98 ...  4.97  4.98  4.99]\n",
      " [-5.   -4.99 -4.98 ...  4.97  4.98  4.99]]\n",
      "[[-5.   -5.   -5.   ... -5.   -5.   -5.  ]\n",
      " [-4.99 -4.99 -4.99 ... -4.99 -4.99 -4.99]\n",
      " [-4.98 -4.98 -4.98 ... -4.98 -4.98 -4.98]\n",
      " ...\n",
      " [ 4.97  4.97  4.97 ...  4.97  4.97  4.97]\n",
      " [ 4.98  4.98  4.98 ...  4.98  4.98  4.98]\n",
      " [ 4.99  4.99  4.99 ...  4.99  4.99  4.99]]\n",
      "[[7.07106781 7.06400028 7.05693985 ... 7.04988652 7.05693985 7.06400028]\n",
      " [7.06400028 7.05692568 7.04985815 ... 7.04279774 7.04985815 7.05692568]\n",
      " [7.05693985 7.04985815 7.04278354 ... 7.03571603 7.04278354 7.04985815]\n",
      " ...\n",
      " [7.04988652 7.04279774 7.03571603 ... 7.0286414  7.03571603 7.04279774]\n",
      " [7.05693985 7.04985815 7.04278354 ... 7.03571603 7.04278354 7.04985815]\n",
      " [7.06400028 7.05692568 7.04985815 ... 7.04279774 7.04985815 7.05692568]]\n"
     ]
    },
    {
     "data": {
      "image/png": "[encoded data removed]",
      "text/plain": [
       "<Figure size 640x480 with 2 Axes>"
      ]
     },
     "metadata": {},
     "output_type": "display_data"
    }
   ],
   "source": [
    "points = np.arange(-5, 5, 0.01) #生成一个包含-5到5，步长为0.01的数组\n",
    "\n",
    "xs, ys = np.meshgrid(points, points) #生成网格点坐标矩阵\n",
    "print(xs)\n",
    "print(ys)\n",
    "\n",
    "z = np.sqrt(xs ** 2 + ys ** 2) #计算每个点的距离\n",
    "print(z)\n",
    "\n",
    "import matplotlib.pyplot as plt\n",
    "\n",
    "plt.imshow(z, cmap=plt.cm.gray); plt.colorbar() #显示图像\n",
    "plt.title(\"Image plot of $\\sqrt{x^2 + y^2}$ for a grid of values\") #添加标题\n",
    "plt.show()"
   ]
  },
  {
   "cell_type": "markdown",
   "id": "dd432f5b",
   "metadata": {},
   "source": [
    "### 将条件逻辑作为数组操作"
   ]
  },
  {
   "cell_type": "code",
   "execution_count": 16,
   "id": "37686633",
   "metadata": {},
   "outputs": [
    {
     "name": "stdout",
     "output_type": "stream",
     "text": [
      "[1.1 2.2 1.3 1.4 2.5]\n",
      "[[-1.3896572  -0.0052856  -0.30157965  0.03107717]\n",
      " [ 2.00186349  1.48036978  0.53491124 -1.1581253 ]\n",
      " [-0.34344643  0.35561007 -1.2402881   2.01518309]\n",
      " [-1.03510676  1.90099378 -0.48503069  0.64056803]]\n",
      "[[False False False  True]\n",
      " [ True  True  True False]\n",
      " [False  True False  True]\n",
      " [False  True False  True]]\n",
      "[[-2 -2 -2  2]\n",
      " [ 2  2  2 -2]\n",
      " [-2  2 -2  2]\n",
      " [-2  2 -2  2]]\n",
      "[[-1.3896572  -0.0052856  -0.30157965  2.        ]\n",
      " [ 2.          2.          2.         -1.1581253 ]\n",
      " [-0.34344643  2.         -1.2402881   2.        ]\n",
      " [-1.03510676  2.         -0.48503069  2.        ]]\n"
     ]
    }
   ],
   "source": [
    "xarr = np.array([1.1, 1.2, 1.3, 1.4, 1.5])\n",
    "yarr = np.array([2.1, 2.2, 2.3, 2.4, 2.5])\n",
    "cond = np.array([True, False, True, True, False])\n",
    "result = np.where(cond, xarr, yarr) #根据条件选择xarr或yarr的元素\n",
    "print(result)\n",
    "\n",
    "arr = np.random.randn(4, 4) #生成一个4行4列的随机数数组\n",
    "print(arr)\n",
    "print(arr > 0) #返回布尔值数组，表示每个元素是否大于0\n",
    "print(np.where(arr > 0, 2, -2)) #根据条件选择2或-2\n",
    "print(np.where(arr > 0, 2, arr)) #根据条件选择2或原数组的元素"
   ]
  },
  {
   "cell_type": "markdown",
   "id": "1b44bc21",
   "metadata": {},
   "source": [
    "### 数学与统计方法"
   ]
  },
  {
   "cell_type": "code",
   "execution_count": 17,
   "id": "79299f76",
   "metadata": {},
   "outputs": [
    {
     "name": "stdout",
     "output_type": "stream",
     "text": [
      "[[ 0.77686614 -0.04030969 -0.21426679  0.40374863]\n",
      " [ 0.45546608 -0.99142678  0.01091766  0.27413451]\n",
      " [-0.55349423 -0.52457964 -0.706048   -0.60234644]\n",
      " [-0.93567334 -0.16798995 -0.99427825  1.01192827]\n",
      " [-0.4327532  -0.66326052 -0.43068336  0.27862126]]\n",
      "-0.2022713817723219\n",
      "-0.2022713817723219\n",
      "-4.045427635446438\n",
      "-4.045427635446438\n",
      "[-0.13791771 -0.47751332 -0.46687175  0.27321725]\n",
      "[ 0.92603829 -0.25090852 -2.38646831 -1.08601328 -1.24807582]\n",
      "[ 0  1  3  6 10 15 21 28]\n",
      "[0 0 0 0 0 0 0 0]\n",
      "[[0 1 2]\n",
      " [3 4 5]\n",
      " [6 7 8]]\n",
      "[[ 0  1  2]\n",
      " [ 3  5  7]\n",
      " [ 9 12 15]]\n",
      "[[  0   0   0]\n",
      " [  3  12  60]\n",
      " [  6  42 336]]\n"
     ]
    }
   ],
   "source": [
    "arr = np.random.randn(5, 4) #生成一个5行4列的随机数数组\n",
    "print(arr)\n",
    "print(arr.mean()) #计算所有元素的平均值\n",
    "print(np.mean(arr)) #计算所有元素的平均值\n",
    "print(arr.sum()) #计算所有元素的和\n",
    "print(np.sum(arr)) #计算所有元素的和\n",
    "print(arr.mean(axis=0)) #计算每列的平均值\n",
    "print(arr.sum(axis=1)) #计算每行的和\n",
    "\n",
    "arr = np.array([0, 1, 2, 3, 4, 5, 6, 7])\n",
    "print(arr.cumsum()) #计算累积和，不会聚合，会产生中间结果\n",
    "print(arr.cumprod()) #计算累积积\n",
    "arr = np.array([[0, 1, 2], [3, 4, 5], [6, 7, 8]])\n",
    "print(arr)\n",
    "print(arr.cumsum(axis=0)) #计算每列的累积和\n",
    "print(arr.cumprod(axis=1)) #计算每行的累积积"
   ]
  },
  {
   "cell_type": "markdown",
   "id": "1f85c2c7",
   "metadata": {},
   "source": [
    "### 布尔值数组的方法"
   ]
  },
  {
   "cell_type": "code",
   "execution_count": 18,
   "id": "e0d8661b",
   "metadata": {},
   "outputs": [
    {
     "name": "stdout",
     "output_type": "stream",
     "text": [
      "47\n",
      "53\n",
      "True\n",
      "False\n"
     ]
    }
   ],
   "source": [
    "arr = np.random.randn(100) #生成一个包含100个随机数的数组\n",
    "print((arr > 0).sum()) #计算大于0的元素个数\n",
    "print((arr < 0).sum()) #计算小于0的元素个数\n",
    "\n",
    "bools = np.array([False, False, True, False])\n",
    "print(bools.any()) #判断是否有任何一个元素为True\n",
    "print(bools.all()) #判断是否所有元素都为True"
   ]
  },
  {
   "cell_type": "markdown",
   "id": "bb320294",
   "metadata": {},
   "source": [
    "### 排序"
   ]
  },
  {
   "cell_type": "code",
   "execution_count": 19,
   "id": "0c4a60f0",
   "metadata": {},
   "outputs": [
    {
     "name": "stdout",
     "output_type": "stream",
     "text": [
      "[-0.87347884  0.59517822  0.42460376 -1.4384915   0.83359799  0.16892037]\n",
      "[-1.4384915  -0.87347884  0.16892037  0.42460376  0.59517822  0.83359799]\n",
      "[[ 0.49122733 -0.50983925  0.84883636]\n",
      " [ 1.63007613 -0.89004772 -0.18894268]\n",
      " [ 0.75154079 -1.37331038  0.59682335]\n",
      " [ 1.7172075  -1.47349598 -2.11994278]\n",
      " [ 0.05687423 -0.17246326  0.51064308]]\n",
      "[[-0.50983925  0.49122733  0.84883636]\n",
      " [-0.89004772 -0.18894268  1.63007613]\n",
      " [-1.37331038  0.59682335  0.75154079]\n",
      " [-2.11994278 -1.47349598  1.7172075 ]\n",
      " [-0.17246326  0.05687423  0.51064308]]\n",
      "[[-2.11994278 -1.47349598  0.51064308]\n",
      " [-1.37331038 -0.18894268  0.75154079]\n",
      " [-0.89004772  0.05687423  0.84883636]\n",
      " [-0.50983925  0.49122733  1.63007613]\n",
      " [-0.17246326  0.59682335  1.7172075 ]]\n",
      "-1.6190815509037575\n"
     ]
    }
   ],
   "source": [
    "arr = np.random.randn(6)\n",
    "print(arr)\n",
    "arr.sort() #对数组进行排序\n",
    "print(arr)\n",
    "\n",
    "arr = np.random.randn(5, 3) #生成一个5行3列的随机数数组\n",
    "print(arr)\n",
    "arr.sort(1) #对每行进行排序\n",
    "print(arr)\n",
    "arr.sort(0) #对每列进行排序\n",
    "print(arr)\n",
    "\n",
    "large_arr = np.random.randn(1000) #生成一个包含1000个随机数的数组\n",
    "large_arr.sort() #对数组进行排序\n",
    "print(large_arr[int(0.05 * len(large_arr))]) #获取第5百分位数的值"
   ]
  },
  {
   "cell_type": "markdown",
   "id": "f397a906",
   "metadata": {},
   "source": [
    "### 唯一值与其他集合逻辑"
   ]
  },
  {
   "cell_type": "code",
   "execution_count": 20,
   "id": "874329d4",
   "metadata": {},
   "outputs": [
    {
     "name": "stdout",
     "output_type": "stream",
     "text": [
      "['Bob' 'Joe' 'Will']\n",
      "[1 2 3 4]\n",
      "['Bob', 'Joe', 'Will']\n",
      "[ True False False  True  True False  True]\n"
     ]
    }
   ],
   "source": [
    "names = np.array(['Bob', 'Joe', 'Will', 'Bob', 'Will', 'Joe', 'Joe'])\n",
    "print(np.unique(names)) #返回唯一值组成的新数组\n",
    "ints = np.array([3, 3, 3, 2, 2, 1, 1, 4, 4])\n",
    "print(np.unique(ints)) #返回唯一值组成的新数组\n",
    "print(sorted(set(names))) #使用set函数获取唯一值，再排序\n",
    "\n",
    "values = np.array([6, 0, 0, 3, 2, 5, 6])\n",
    "print(np.in1d(values, [2, 3, 6])) #判断values中的元素是否在[2,3,6]中，返回布尔值数组"
   ]
  },
  {
   "cell_type": "markdown",
   "id": "fe374adf",
   "metadata": {},
   "source": [
    "## 使用数组进行文件输入和输出"
   ]
  },
  {
   "cell_type": "code",
   "execution_count": 21,
   "id": "d2e1a0df",
   "metadata": {},
   "outputs": [
    {
     "name": "stdout",
     "output_type": "stream",
     "text": [
      "[0 1 2 3 4 5 6 7 8 9]\n",
      "[ 0.92743441  0.18437346 -2.29570442 -0.41207992  0.49820272  1.66127494]\n",
      "[ 0.92743441  0.18437346 -2.29570442 -0.41207992  0.49820272  1.66127494]\n",
      "[ 0.92743441  0.18437346 -2.29570442 -0.41207992  0.49820272  1.66127494]\n"
     ]
    }
   ],
   "source": [
    "arr = np.arange(10)\n",
    "np.save('some_array', arr) #将数组保存到文件some_array.npy中\n",
    "arr2 = np.load('some_array.npy') #从文件some_array.npy中加载数组\n",
    "print(arr2)\n",
    "\n",
    "arr = np.random.randn(6)\n",
    "print(arr)\n",
    "np.savez('array_archive.npz', a=arr, b=arr) #将多个数组保存到一个压缩文件中\n",
    "arch = np.load('array_archive.npz') #从压缩文件中加载数组\n",
    "print(arch['a']) #访问保存的数组\n",
    "print(arch['b']) #访问保存的数组"
   ]
  },
  {
   "cell_type": "markdown",
   "id": "47c972cd",
   "metadata": {},
   "source": [
    "## 线性代数"
   ]
  },
  {
   "cell_type": "code",
   "execution_count": 22,
   "id": "dc75740b",
   "metadata": {},
   "outputs": [
    {
     "name": "stdout",
     "output_type": "stream",
     "text": [
      "[[1 2 3]\n",
      " [4 5 6]]\n",
      "[[ 6 23]\n",
      " [-1  7]\n",
      " [ 8  9]]\n",
      "[[ 28  64]\n",
      " [ 67 181]]\n",
      "[[ 28  64]\n",
      " [ 67 181]]\n",
      "[[ 28  64]\n",
      " [ 67 181]]\n",
      "[[3.72269319 0.80119022 1.07364467 1.01279405 2.86478012]\n",
      " [0.80119022 6.04951863 0.92507758 2.29724311 2.08572424]\n",
      " [1.07364467 0.92507758 0.65570171 0.60473517 1.03131664]\n",
      " [1.01279405 2.29724311 0.60473517 2.03975397 2.03527228]\n",
      " [2.86478012 2.08572424 1.03131664 2.03527228 7.91789678]]\n",
      "[[ 6.27440590e-01  1.22636749e-01 -9.71118623e-01 -3.92851120e-02\n",
      "  -1.22731971e-01]\n",
      " [ 1.22636749e-01  3.26597835e-01 -3.65831600e-01 -3.19679441e-01\n",
      "  -5.80636529e-04]\n",
      " [-9.71118623e-01 -3.65831600e-01  3.85105289e+00 -2.60627692e-01\n",
      "   1.31169363e-02]\n",
      " [-3.92851120e-02 -3.19679441e-01 -2.60627692e-01  1.09612114e+00\n",
      "  -1.49384231e-01]\n",
      " [-1.22731971e-01 -5.80636529e-04  1.31169363e-02 -1.49384231e-01\n",
      "   2.07545144e-01]]\n",
      "[[ 1.00000000e+00  2.53703308e-17 -1.94289029e-16 -5.55111512e-17\n",
      "   0.00000000e+00]\n",
      " [ 1.11022302e-16  1.00000000e+00 -1.73472348e-16 -1.66533454e-16\n",
      "   1.11022302e-16]\n",
      " [ 5.55111512e-17 -3.89228580e-17  1.00000000e+00 -2.77555756e-17\n",
      "   0.00000000e+00]\n",
      " [ 0.00000000e+00  1.69135539e-17 -2.18575158e-16  1.00000000e+00\n",
      "   5.55111512e-17]\n",
      " [ 3.33066907e-16  7.71951947e-17 -7.49400542e-16  4.44089210e-16\n",
      "   1.00000000e+00]]\n",
      "[[-0.74624531  0.29366274  0.22569112  0.34513294 -0.43223478]\n",
      " [-0.16060535 -0.91715357  0.15002399  0.3324513  -0.00204487]\n",
      " [-0.21522115 -0.03107367 -0.94565109  0.23732746  0.04619494]\n",
      " [-0.20302313 -0.26694886 -0.16256237 -0.76440444 -0.52609813]\n",
      " [-0.57426939 -0.01908541  0.07664075 -0.3601679   0.73092797]]\n",
      "[[-4.98856494 -3.43272681 -1.80592438 -2.83780593 -7.65498141]\n",
      " [ 0.         -5.9948568  -0.73464029 -2.41165019 -1.79812699]\n",
      " [ 0.          0.         -0.25823544 -0.17425072  0.26017327]\n",
      " [ 0.          0.          0.         -1.03544644 -2.48065199]\n",
      " [ 0.          0.          0.          0.          3.52177822]]\n"
     ]
    }
   ],
   "source": [
    "x = np.array([[1, 2, 3], [4, 5, 6]])\n",
    "y = np.array([[6, 23], [-1, 7], [8, 9]])\n",
    "print(x)\n",
    "print(y)\n",
    "print(x.dot(y)) #矩阵乘法\n",
    "print(np.dot(x, y)) #矩阵乘法\n",
    "print(x @ y) #矩阵乘法\n",
    "\n",
    "from numpy.linalg import inv, qr\n",
    "\n",
    "X = np.random.randn(5, 5)\n",
    "mat = X.T.dot(X) #计算X的转置与X的矩阵乘积\n",
    "print(mat)\n",
    "print(inv(mat)) #计算矩阵的逆\n",
    "print(mat.dot(inv(mat))) #验证矩阵与其逆的乘积为单位矩阵\n",
    "q, r = qr(mat) #进行QR分解\n",
    "print(q)\n",
    "print(r)"
   ]
  },
  {
   "cell_type": "markdown",
   "id": "5e8698ef",
   "metadata": {},
   "source": [
    "常用numpy.linalg函数："
   ]
  },
  {
   "cell_type": "code",
   "execution_count": 23,
   "id": "3f697c29",
   "metadata": {},
   "outputs": [
    {
     "name": "stderr",
     "output_type": "stream",
     "text": [
      "/tmp/ipykernel_7774/1135300614.py:10: FutureWarning: `rcond` parameter will change to the default of machine precision times ``max(M, N)`` where M and N are the input matrix dimensions.\n",
      "To use the future default and silence this warning we advise to pass `rcond=None`, to keep using the old, explicitly pass `rcond=-1`.\n",
      "  la.lstsq(X, np.eye(5)) #计算最小二乘解\n"
     ]
    },
    {
     "data": {
      "text/plain": [
       "(array([[ 0.32241018, -0.34580568,  0.56631361,  0.18231009, -0.2235232 ],\n",
       "        [-0.07663633, -0.46321238, -0.12590125,  0.30004083, -0.01683373],\n",
       "        [ 0.31127785,  0.15392867, -0.95023812, -1.23695249,  1.13906146],\n",
       "        [ 0.18450158,  0.47074567, -0.09323243, -0.37728295, -0.83032771],\n",
       "        [-0.42470625, -0.01278061,  0.08796621, -0.08717208,  0.10802491]]),\n",
       " array([], dtype=float64),\n",
       " 5,\n",
       " array([3.43217566, 2.27366483, 1.54541037, 0.8990812 , 0.48943078]))"
      ]
     },
     "execution_count": 23,
     "metadata": {},
     "output_type": "execute_result"
    }
   ],
   "source": [
    "import numpy.linalg as la \n",
    "np.diag(X) #提取对角线元素，返回一维数组\n",
    "np.diag(np.diag(X)) #将一维数组转换为对角矩阵\n",
    "np.dot(X, X) #矩阵点乘\n",
    "np.trace(X) #计算矩阵的迹，即对角线元素之和\n",
    "la.det(X) #计算矩阵的行列式\n",
    "la.eig(X) #计算矩阵的特征值和特征向量\n",
    "la.svd(X) #计算矩阵的奇异值分解\n",
    "la.solve(X, np.eye(5)) #解线性方程组，等价于inv(X)\n",
    "la.lstsq(X, np.eye(5)) #计算最小二乘解"
   ]
  },
  {
   "cell_type": "markdown",
   "id": "3bdcd6cb",
   "metadata": {},
   "source": [
    "## 伪随机数生成"
   ]
  },
  {
   "cell_type": "code",
   "execution_count": 24,
   "id": "42232021",
   "metadata": {},
   "outputs": [
    {
     "name": "stdout",
     "output_type": "stream",
     "text": [
      "[[-1.45019319  1.71240857  0.22712381 -1.74264116]\n",
      " [ 0.16295642  1.45337433  1.47495131  1.22576714]\n",
      " [ 0.30283283 -0.85075401  1.20347606  1.23678781]\n",
      " [ 1.27686899  2.70619783  0.49622195 -0.84351314]]\n",
      "[[ 2.80108809 -2.08430017  1.51369009  0.69972758]\n",
      " [ 1.51779512  0.39225943  0.69503369  0.38154953]\n",
      " [ 1.27707071  2.51009729  0.14651245  0.56302508]\n",
      " [-0.23320426  1.70510549  0.13685904  0.09963949]]\n",
      "None\n",
      "[ 0.47143516 -1.19097569  1.43270697 -0.3126519  -0.72058873  0.88716294\n",
      "  0.85958841 -0.6365235   0.01569637 -2.24268495]\n"
     ]
    }
   ],
   "source": [
    "samples = np.random.normal(size=(4, 4)) #生成一个4行4列的标准正态分布随机数数组\n",
    "print(samples)\n",
    "from numpy.random import randn\n",
    "print(randn(4, 4)) #生成一个4行4列的标准正态分布随机数数组\n",
    "\n",
    "print(np.random.seed(1234)) #设置随机数种子，保证每次生成的随机数相同\n",
    "print(np.random.RandomState(1234).randn(10)) #生成一个十元素标准正态分布随机数数组"
   ]
  },
  {
   "cell_type": "markdown",
   "id": "dce8cea6",
   "metadata": {},
   "source": [
    "numpy.random的部分函数："
   ]
  },
  {
   "cell_type": "code",
   "execution_count": 25,
   "id": "72b277e4",
   "metadata": {},
   "outputs": [
    {
     "data": {
      "text/plain": [
       "array([[2.30154707, 5.54676118, 1.58241709, 0.36113555],\n",
       "       [1.34182708, 2.41398791, 1.0896079 , 0.39096286],\n",
       "       [3.04502764, 1.56686379, 3.04254334, 1.80056202],\n",
       "       [0.23121157, 0.02151064, 0.02662588, 1.20278634]])"
      ]
     },
     "execution_count": 25,
     "metadata": {},
     "output_type": "execute_result"
    }
   ],
   "source": [
    "np.random.seed(1234) #设置随机数种子\n",
    "np.random.permutation(10) #生成一个0到9的随机排列\n",
    "np.random.shuffle(X) #将数组元素随机打乱顺序\n",
    "np.random.rand(3, 2) #生成一个3行2列的均匀分布随机数数组\n",
    "np.random.randint(0, 10, (3, 3)) #生成一个3行3列的0到9的随机整数数组\n",
    "np.random.randn(4, 4) #生成一个4行4列的标准正态分布随机数数组\n",
    "np.random.binomial(10, 0.5, size=10) #生成一个包含10个元素的二项分布随机数数组，参数为n=10，p=0.5\n",
    "np.random.normal(size=(4, 4)) #生成一个4行4列的标准正态分布随机数数组\n",
    "np.random.beta(a=2.0, b=5.0, size=(4, 4)) #生成一个4行4列的Beta分布随机数数组，参数为a=2.0，b=5.0\n",
    "np.random.gamma(shape=2.0, scale=2.0, size=(4, 4)) #生成一个4行4列的Gamma分布随机数数组，参数为shape=2.0，scale=2.0\n",
    "np.random.poisson(lam=3.0, size=(4, 4)) #生成一个4行4列的Poisson分布随机数数组，参数为lam=3.0\n",
    "np.random.exponential(scale=1.0, size=(4, 4)) #生成一个4行4列的指数分布随机数数组，参数为scale=1.0\n",
    "np.random.uniform(low=0.0, high=1.0, size=(4, 4)) #生成一个4行4列的均匀分布随机数数组，参数为low=0.0，high=1.0\n",
    "np.random.chisquare(df=2.0, size=(4, 4)) #生成一个4行4列的卡方分布随机数数组，参数为df=2.0"
   ]
  },
  {
   "cell_type": "code",
   "execution_count": 26,
   "id": "7c9a26cf",
   "metadata": {},
   "outputs": [
    {
     "data": {
      "text/plain": [
       "7731"
      ]
     },
     "execution_count": 26,
     "metadata": {},
     "output_type": "execute_result"
    }
   ],
   "source": [
    "import gc\n",
    "\n",
    "del mask, mat, names, points, q, r, randn, remainder, result, samples, values, whole_part, x, xarr, xs, y, yarr, ys, z\n",
    "gc.collect()"
   ]
  },
  {
   "cell_type": "markdown",
   "id": "cafff770",
   "metadata": {},
   "source": [
    "## 示例：随机漫步"
   ]
  },
  {
   "cell_type": "code",
   "execution_count": 27,
   "id": "105aebb0",
   "metadata": {},
   "outputs": [
    {
     "data": {
      "image/png": "[encoded data removed]",
      "text/plain": [
       "<Figure size 640x480 with 1 Axes>"
      ]
     },
     "metadata": {},
     "output_type": "display_data"
    },
    {
     "name": "stdout",
     "output_type": "stream",
     "text": [
      "73\n"
     ]
    },
    {
     "data": {
      "image/png": "[encoded data removed]",
      "text/plain": [
       "<Figure size 640x480 with 1 Axes>"
      ]
     },
     "metadata": {},
     "output_type": "display_data"
    }
   ],
   "source": [
    "#用random模块实现随机漫步\n",
    "\n",
    "import random\n",
    "\n",
    "position = 0\n",
    "steps = 1000\n",
    "walk = [position]\n",
    "for i in range(steps):\n",
    "\tstep = 1 if random.randint(0, 1) else -1 #随机选择前进一步或后退一步\n",
    "\tposition += step\n",
    "\twalk.append(position)\n",
    "\n",
    "import matplotlib.pyplot as plt\n",
    "\n",
    "plt.plot(walk[:100]) #绘制前100步的随机漫步路径\n",
    "plt.title(\"Random Walk (first 100 steps)\") #添加标题\n",
    "plt.show()\n",
    "\n",
    "#用numpy实现随机漫步\n",
    "\n",
    "nsteps = 1000\n",
    "draws = np.random.randint(0, 2, size=nsteps) #生成一个包含1000个0或1的随机整数数组\n",
    "steps = np.where(draws > 0, 1, -1) #将0替换为-1，1替换为1\n",
    "walk = steps.cumsum() #计算累积和，得到随机漫步路径\n",
    "\n",
    "print((np.abs(walk) >= 10).argmax()) #计算首次到达10或-10的位置\n",
    "plt.plot(walk[:100]) #绘制前100步的随机漫步路径\n",
    "plt.title(\"Random Walk (first 100 steps)\") #添加标题\n",
    "plt.show()\n"
   ]
  },
  {
   "cell_type": "markdown",
   "id": "acd435e4",
   "metadata": {},
   "source": [
    "### 一次性模拟多次随机漫步"
   ]
  },
  {
   "cell_type": "code",
   "execution_count": 28,
   "id": "45fe90ca",
   "metadata": {},
   "outputs": [
    {
     "name": "stdout",
     "output_type": "stream",
     "text": [
      "[123  67  49 ...  75  47  91]\n",
      "5000\n"
     ]
    },
    {
     "data": {
      "image/png": "[encoded data removed]",
      "text/plain": [
       "<Figure size 640x480 with 1 Axes>"
      ]
     },
     "metadata": {},
     "output_type": "display_data"
    }
   ],
   "source": [
    "nwalks = 5000\n",
    "nsteps = 1000\n",
    "draws = np.random.randint(0, 2, size=(nwalks, nsteps)) #生成一个包含5000行1000列的0或1的随机整数数组\n",
    "steps = np.where(draws > 0, 1, -1) #将0替换为-1，1替换为1\n",
    "walks = steps.cumsum(1) #计算每行的累积和，得到5000条随机漫步路径\n",
    "\n",
    "hits10 = (np.abs(walks) >= 10).any(1) #判断每条路径是否到达10或-10\n",
    "print((np.abs(walks[hits10]) >= 10).argmax(1)) #计算每条路径首次到达10或-10的位置\n",
    "print(hits10.sum()) #计算有多少条路径到达10或-10\n",
    "\n",
    "import matplotlib.pyplot as plt\n",
    "\n",
    "plt.plot(walks[0]) #绘制第一条随机漫步路径\n",
    "plt.title(\"Random Walk (first walk)\") #添加标题\n",
    "plt.show()"
   ]
  }
 ],
 "metadata": {
  "kernelspec": {
   "display_name": "py38env",
   "language": "python",
   "name": "python3"
  },
  "language_info": {
   "codemirror_mode": {
    "name": "ipython",
    "version": 3
   },
   "file_extension": ".py",
   "mimetype": "text/x-python",
   "name": "python",
   "nbconvert_exporter": "python",
   "pygments_lexer": "ipython3",
   "version": "3.8.20"
  }
 },
 "nbformat": 4,
 "nbformat_minor": 5
}
